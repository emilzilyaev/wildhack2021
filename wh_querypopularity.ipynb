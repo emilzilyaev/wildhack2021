{
  "nbformat": 4,
  "nbformat_minor": 0,
  "metadata": {
    "accelerator": "GPU",
    "colab": {
      "name": "wh_querypopularity.ipynb",
      "provenance": [],
      "collapsed_sections": [],
      "machine_shape": "hm",
      "mount_file_id": "1a4F_9T6MK6ynIVAIwnWD52j9S_mQq7vZ",
      "authorship_tag": "ABX9TyPKtHcbZUNvsxPioXEIytob",
      "include_colab_link": true
    },
    "kernelspec": {
      "display_name": "Python 3",
      "name": "python3"
    },
    "language_info": {
      "name": "python"
    }
  },
  "cells": [
    {
      "cell_type": "markdown",
      "metadata": {
        "id": "view-in-github",
        "colab_type": "text"
      },
      "source": [
        "<a href=\"https://colab.research.google.com/github/emilziyaev/wildhack2021/blob/main/wh_querypopularity.ipynb\" target=\"_parent\"><img src=\"https://colab.research.google.com/assets/colab-badge.svg\" alt=\"Open In Colab\"/></a>"
      ]
    },
    {
      "cell_type": "code",
      "metadata": {
        "colab": {
          "base_uri": "https://localhost:8080/"
        },
        "id": "AOBtQCxpqS3f",
        "outputId": "9cabe7d8-f4c7-4c3e-ef60-4e1ec5a6e914"
      },
      "source": [
        "!pip install numpy scikit-learn compress-fasttext xmltodict matplotlib"
      ],
      "execution_count": null,
      "outputs": [
        {
          "output_type": "stream",
          "name": "stdout",
          "text": [
            "Requirement already satisfied: numpy in /usr/local/lib/python3.7/dist-packages (1.19.5)\n",
            "Requirement already satisfied: scikit-learn in /usr/local/lib/python3.7/dist-packages (0.22.2.post1)\n",
            "Requirement already satisfied: compress-fasttext in /usr/local/lib/python3.7/dist-packages (0.0.7)\n",
            "Requirement already satisfied: xmltodict in /usr/local/lib/python3.7/dist-packages (0.12.0)\n",
            "Requirement already satisfied: matplotlib in /usr/local/lib/python3.7/dist-packages (3.2.2)\n",
            "Requirement already satisfied: scipy>=0.17.0 in /usr/local/lib/python3.7/dist-packages (from scikit-learn) (1.4.1)\n",
            "Requirement already satisfied: joblib>=0.11 in /usr/local/lib/python3.7/dist-packages (from scikit-learn) (1.1.0)\n",
            "Requirement already satisfied: gensim<=3.8.3 in /usr/local/lib/python3.7/dist-packages (from compress-fasttext) (3.6.0)\n",
            "Requirement already satisfied: six>=1.5.0 in /usr/local/lib/python3.7/dist-packages (from gensim<=3.8.3->compress-fasttext) (1.15.0)\n",
            "Requirement already satisfied: smart-open>=1.2.1 in /usr/local/lib/python3.7/dist-packages (from gensim<=3.8.3->compress-fasttext) (5.2.1)\n",
            "Requirement already satisfied: pyparsing!=2.0.4,!=2.1.2,!=2.1.6,>=2.0.1 in /usr/local/lib/python3.7/dist-packages (from matplotlib) (2.4.7)\n",
            "Requirement already satisfied: python-dateutil>=2.1 in /usr/local/lib/python3.7/dist-packages (from matplotlib) (2.8.2)\n",
            "Requirement already satisfied: kiwisolver>=1.0.1 in /usr/local/lib/python3.7/dist-packages (from matplotlib) (1.3.2)\n",
            "Requirement already satisfied: cycler>=0.10 in /usr/local/lib/python3.7/dist-packages (from matplotlib) (0.11.0)\n"
          ]
        }
      ]
    },
    {
      "cell_type": "code",
      "metadata": {
        "colab": {
          "base_uri": "https://localhost:8080/"
        },
        "id": "iv4yYHmXqkun",
        "outputId": "24048522-12b0-42c6-8cfc-34e2fcfe2e38"
      },
      "source": [
        "!pip install ruwordnet"
      ],
      "execution_count": null,
      "outputs": [
        {
          "output_type": "stream",
          "name": "stdout",
          "text": [
            "Requirement already satisfied: ruwordnet in /usr/local/lib/python3.7/dist-packages (0.0.3)\n",
            "Requirement already satisfied: sqlalchemy in /usr/local/lib/python3.7/dist-packages (from ruwordnet) (1.4.26)\n",
            "Requirement already satisfied: greenlet!=0.4.17 in /usr/local/lib/python3.7/dist-packages (from sqlalchemy->ruwordnet) (1.1.2)\n",
            "Requirement already satisfied: importlib-metadata in /usr/local/lib/python3.7/dist-packages (from sqlalchemy->ruwordnet) (4.8.2)\n",
            "Requirement already satisfied: zipp>=0.5 in /usr/local/lib/python3.7/dist-packages (from importlib-metadata->sqlalchemy->ruwordnet) (3.6.0)\n",
            "Requirement already satisfied: typing-extensions>=3.6.4 in /usr/local/lib/python3.7/dist-packages (from importlib-metadata->sqlalchemy->ruwordnet) (3.10.0.2)\n"
          ]
        }
      ]
    },
    {
      "cell_type": "code",
      "metadata": {
        "id": "8WQzMJ77st3P"
      },
      "source": [
        "from ruwordnet import RuWordNet\n",
        "wn = RuWordNet()"
      ],
      "execution_count": null,
      "outputs": []
    },
    {
      "cell_type": "code",
      "metadata": {
        "colab": {
          "base_uri": "https://localhost:8080/"
        },
        "id": "vuRxSNeJtDB6",
        "outputId": "47b05d04-cba2-42c3-ce7f-12cd7ff91b61"
      },
      "source": [
        "len(wn.synsets), len(wn.senses)"
      ],
      "execution_count": null,
      "outputs": [
        {
          "output_type": "execute_result",
          "data": {
            "text/plain": [
              "(49713, 130417)"
            ]
          },
          "metadata": {},
          "execution_count": 19
        }
      ]
    },
    {
      "cell_type": "code",
      "metadata": {
        "colab": {
          "base_uri": "https://localhost:8080/",
          "height": 36
        },
        "id": "1gvYdA4YtM3O",
        "outputId": "58e2a5dc-f76b-4ad3-912a-6a879a6d02a9"
      },
      "source": [
        "wn.senses[11].id"
      ],
      "execution_count": null,
      "outputs": [
        {
          "data": {
            "application/vnd.google.colaboratory.intrinsic+json": {
              "type": "string"
            },
            "text/plain": [
              "'135214-N-762987'"
            ]
          },
          "execution_count": 102,
          "metadata": {},
          "output_type": "execute_result"
        }
      ]
    },
    {
      "cell_type": "code",
      "metadata": {
        "colab": {
          "base_uri": "https://localhost:8080/",
          "height": 36
        },
        "id": "pvYSXg41ieKC",
        "outputId": "c06973ee-5164-4139-d17c-0f8e5afbfd46"
      },
      "source": [
        "wn.senses[11].name"
      ],
      "execution_count": null,
      "outputs": [
        {
          "output_type": "execute_result",
          "data": {
            "application/vnd.google.colaboratory.intrinsic+json": {
              "type": "string"
            },
            "text/plain": [
              "'ТАКТИЧЕСКИЙ ХОД'"
            ]
          },
          "metadata": {},
          "execution_count": 32
        }
      ]
    },
    {
      "cell_type": "code",
      "metadata": {
        "colab": {
          "base_uri": "https://localhost:8080/",
          "height": 168
        },
        "id": "al6jwPiZA_20",
        "outputId": "51274d19-44b7-4677-8194-7c249f0ccc7a"
      },
      "source": [
        "len(wn.synset_relations)"
      ],
      "execution_count": null,
      "outputs": [
        {
          "ename": "AttributeError",
          "evalue": "ignored",
          "output_type": "error",
          "traceback": [
            "\u001b[0;31m---------------------------------------------------------------------------\u001b[0m",
            "\u001b[0;31mAttributeError\u001b[0m                            Traceback (most recent call last)",
            "\u001b[0;32m<ipython-input-96-701e0bad13df>\u001b[0m in \u001b[0;36m<module>\u001b[0;34m()\u001b[0m\n\u001b[0;32m----> 1\u001b[0;31m \u001b[0mlen\u001b[0m\u001b[0;34m(\u001b[0m\u001b[0mwn\u001b[0m\u001b[0;34m.\u001b[0m\u001b[0msynset_relations\u001b[0m\u001b[0;34m)\u001b[0m\u001b[0;34m\u001b[0m\u001b[0;34m\u001b[0m\u001b[0m\n\u001b[0m",
            "\u001b[0;31mAttributeError\u001b[0m: 'RuWordNet' object has no attribute 'synset_relations'"
          ]
        }
      ]
    },
    {
      "cell_type": "code",
      "metadata": {
        "colab": {
          "base_uri": "https://localhost:8080/"
        },
        "id": "A0G9q_tcAn_-",
        "outputId": "a2e9f875-d088-430f-c5bc-89d6e53136b8"
      },
      "source": [
        "wn.synsets[0]"
      ],
      "execution_count": null,
      "outputs": [
        {
          "output_type": "execute_result",
          "data": {
            "text/plain": [
              "Synset(id=\"147272-N\", title=\"КРЕСТНЫЙ РОДИТЕЛЬ\")"
            ]
          },
          "metadata": {},
          "execution_count": 20
        }
      ]
    },
    {
      "cell_type": "code",
      "metadata": {
        "colab": {
          "base_uri": "https://localhost:8080/"
        },
        "id": "ThZeOCWmyFWr",
        "outputId": "1bdc79d8-afb6-4120-c60e-0025c2255beb"
      },
      "source": [
        "!pip install gensim"
      ],
      "execution_count": null,
      "outputs": [
        {
          "name": "stdout",
          "output_type": "stream",
          "text": [
            "Requirement already satisfied: gensim in /usr/local/lib/python3.7/dist-packages (3.6.0)\n",
            "Requirement already satisfied: scipy>=0.18.1 in /usr/local/lib/python3.7/dist-packages (from gensim) (1.4.1)\n",
            "Requirement already satisfied: numpy>=1.11.3 in /usr/local/lib/python3.7/dist-packages (from gensim) (1.19.5)\n",
            "Requirement already satisfied: six>=1.5.0 in /usr/local/lib/python3.7/dist-packages (from gensim) (1.15.0)\n",
            "Requirement already satisfied: smart-open>=1.2.1 in /usr/local/lib/python3.7/dist-packages (from gensim) (5.2.1)\n"
          ]
        }
      ]
    },
    {
      "cell_type": "code",
      "metadata": {
        "id": "0tMjVIeMyH7N"
      },
      "source": [
        "import gensim"
      ],
      "execution_count": null,
      "outputs": []
    },
    {
      "cell_type": "code",
      "metadata": {
        "id": "2evQwAiqwyqk"
      },
      "source": [
        "import random\n",
        "import numpy as np\n",
        "# import compress_fasttext\n",
        "\n",
        "from collections import Counter\n",
        "from sklearn.neighbors import KDTree\n",
        "\n",
        "import matplotlib.pyplot as plt\n",
        "%matplotlib inline"
      ],
      "execution_count": null,
      "outputs": []
    },
    {
      "cell_type": "code",
      "metadata": {
        "colab": {
          "base_uri": "https://localhost:8080/"
        },
        "id": "brJ3tWML9G0V",
        "outputId": "8154fe6e-5d16-4f6a-e14a-31177cbc0958"
      },
      "source": [
        "!pip install tqdm"
      ],
      "execution_count": null,
      "outputs": [
        {
          "output_type": "stream",
          "name": "stdout",
          "text": [
            "Requirement already satisfied: tqdm in /usr/local/lib/python3.7/dist-packages (4.62.3)\n"
          ]
        }
      ]
    },
    {
      "cell_type": "code",
      "metadata": {
        "id": "YpcQY3pr9EOK"
      },
      "source": [
        "from tqdm.auto import tqdm, trange"
      ],
      "execution_count": null,
      "outputs": []
    },
    {
      "cell_type": "code",
      "metadata": {
        "id": "JWDH-f429QNU"
      },
      "source": [
        "words, synset_ids = [] , []\n",
        "\n",
        "for synset in tqdm(wn.synsets):\n",
        "    if synset.part_of_speech != 'V':\n",
        "        continue\n",
        "    for sense in synset.senses:\n",
        "        words.append(sense.name)\n",
        "        # vectors.append(vectorize(sense.name))\n",
        "        synset_ids.append(synset.id)\n",
        "# vectors = np.stack(vectors)\n",
        "# tree = KDTree(vectors)"
      ],
      "execution_count": null,
      "outputs": []
    },
    {
      "cell_type": "code",
      "metadata": {
        "id": "ABQ0Lh_Rf8vC"
      },
      "source": [
        "for i in range(100, 120):\n",
        "  wn.senses[i], [s for ss in wn[wn.senses[i].name][0].synset.pos_synonyms for s in ss.senses]"
      ],
      "execution_count": null,
      "outputs": []
    },
    {
      "cell_type": "code",
      "metadata": {
        "id": "4dv72B_gjdW0"
      },
      "source": [
        "i =112\n",
        "wn.senses[i], [s for ss in wn[wn.senses[i].name][0].synset.pos_synonyms for s in ss.senses]"
      ],
      "execution_count": null,
      "outputs": []
    },
    {
      "cell_type": "code",
      "metadata": {
        "colab": {
          "base_uri": "https://localhost:8080/"
        },
        "id": "HApTC7b5jvpP",
        "outputId": "04eb0451-4d89-4658-b62d-7e2fc096ea87"
      },
      "source": [
        "i =113\n",
        "wn.senses[i]"
      ],
      "execution_count": null,
      "outputs": [
        {
          "output_type": "execute_result",
          "data": {
            "text/plain": [
              "Sense(id=\"109934-N-713949\", name=\"НИША СТЕНЫ\")"
            ]
          },
          "metadata": {},
          "execution_count": 47
        }
      ]
    },
    {
      "cell_type": "code",
      "metadata": {
        "colab": {
          "base_uri": "https://localhost:8080/",
          "height": 292
        },
        "id": "ohvUTmXJj11e",
        "outputId": "38b29879-72e8-40c2-9e8b-0167e1bb2242"
      },
      "source": [
        "[s for ss in wn[wn.senses[i].name][0].synset.pos_synonyms for s in ss.senses]"
      ],
      "execution_count": null,
      "outputs": [
        {
          "output_type": "error",
          "ename": "KeyError",
          "evalue": "ignored",
          "traceback": [
            "\u001b[0;31m---------------------------------------------------------------------------\u001b[0m",
            "\u001b[0;31mKeyError\u001b[0m                                  Traceback (most recent call last)",
            "\u001b[0;32m<ipython-input-48-8174d1ff263f>\u001b[0m in \u001b[0;36m<module>\u001b[0;34m()\u001b[0m\n\u001b[0;32m----> 1\u001b[0;31m \u001b[0;34m[\u001b[0m\u001b[0ms\u001b[0m \u001b[0;32mfor\u001b[0m \u001b[0mss\u001b[0m \u001b[0;32min\u001b[0m \u001b[0mwn\u001b[0m\u001b[0;34m[\u001b[0m\u001b[0mwn\u001b[0m\u001b[0;34m.\u001b[0m\u001b[0msenses\u001b[0m\u001b[0;34m[\u001b[0m\u001b[0mi\u001b[0m\u001b[0;34m]\u001b[0m\u001b[0;34m.\u001b[0m\u001b[0mname\u001b[0m\u001b[0;34m]\u001b[0m\u001b[0;34m[\u001b[0m\u001b[0;36m0\u001b[0m\u001b[0;34m]\u001b[0m\u001b[0;34m.\u001b[0m\u001b[0msynset\u001b[0m\u001b[0;34m.\u001b[0m\u001b[0mpos_synonyms\u001b[0m \u001b[0;32mfor\u001b[0m \u001b[0ms\u001b[0m \u001b[0;32min\u001b[0m \u001b[0mss\u001b[0m\u001b[0;34m.\u001b[0m\u001b[0msenses\u001b[0m\u001b[0;34m]\u001b[0m\u001b[0;34m\u001b[0m\u001b[0;34m\u001b[0m\u001b[0m\n\u001b[0m",
            "\u001b[0;32m/usr/local/lib/python3.7/dist-packages/ruwordnet/ruwordnet.py\u001b[0m in \u001b[0;36m__getitem__\u001b[0;34m(self, item)\u001b[0m\n\u001b[1;32m     36\u001b[0m         \u001b[0;32mif\u001b[0m \u001b[0msenses\u001b[0m\u001b[0;34m:\u001b[0m\u001b[0;34m\u001b[0m\u001b[0;34m\u001b[0m\u001b[0m\n\u001b[1;32m     37\u001b[0m             \u001b[0;32mreturn\u001b[0m \u001b[0msenses\u001b[0m\u001b[0;34m\u001b[0m\u001b[0;34m\u001b[0m\u001b[0m\n\u001b[0;32m---> 38\u001b[0;31m         \u001b[0;32mraise\u001b[0m \u001b[0mKeyError\u001b[0m\u001b[0;34m(\u001b[0m\u001b[0;34m)\u001b[0m\u001b[0;34m\u001b[0m\u001b[0;34m\u001b[0m\u001b[0m\n\u001b[0m\u001b[1;32m     39\u001b[0m \u001b[0;34m\u001b[0m\u001b[0m\n\u001b[1;32m     40\u001b[0m     \u001b[0;32mdef\u001b[0m \u001b[0mget_senses\u001b[0m\u001b[0;34m(\u001b[0m\u001b[0mself\u001b[0m\u001b[0;34m,\u001b[0m \u001b[0mlemma\u001b[0m\u001b[0;34m:\u001b[0m \u001b[0mstr\u001b[0m\u001b[0;34m)\u001b[0m \u001b[0;34m->\u001b[0m \u001b[0mList\u001b[0m\u001b[0;34m[\u001b[0m\u001b[0mSense\u001b[0m\u001b[0;34m]\u001b[0m\u001b[0;34m:\u001b[0m\u001b[0;34m\u001b[0m\u001b[0;34m\u001b[0m\u001b[0m\n",
            "\u001b[0;31mKeyError\u001b[0m: "
          ]
        }
      ]
    },
    {
      "cell_type": "code",
      "metadata": {
        "colab": {
          "base_uri": "https://localhost:8080/",
          "height": 168
        },
        "id": "cBre3Gpc-dcs",
        "outputId": "9a030dd8-0d84-4663-a3d9-fcf27f6346aa"
      },
      "source": [
        "for i in range(len(words)):\n",
        "  for sense in wn.get_senses(words[i]):\n",
        "      print(sense.synset)"
      ],
      "execution_count": null,
      "outputs": [
        {
          "ename": "IndexError",
          "evalue": "ignored",
          "output_type": "error",
          "traceback": [
            "\u001b[0;31m---------------------------------------------------------------------------\u001b[0m",
            "\u001b[0;31mIndexError\u001b[0m                                Traceback (most recent call last)",
            "\u001b[0;32m<ipython-input-84-123bd954433f>\u001b[0m in \u001b[0;36m<module>\u001b[0;34m()\u001b[0m\n\u001b[0;32m----> 1\u001b[0;31m \u001b[0mwn\u001b[0m\u001b[0;34m.\u001b[0m\u001b[0mget_senses\u001b[0m\u001b[0;34m(\u001b[0m\u001b[0mwords\u001b[0m\u001b[0;34m[\u001b[0m\u001b[0;36m1\u001b[0m\u001b[0;34m]\u001b[0m\u001b[0;34m)\u001b[0m\u001b[0;34m[\u001b[0m\u001b[0;36m0\u001b[0m\u001b[0;34m]\u001b[0m\u001b[0;34m.\u001b[0m\u001b[0msynset\u001b[0m\u001b[0;34m.\u001b[0m\u001b[0mhypernyms\u001b[0m\u001b[0;34m\u001b[0m\u001b[0;34m\u001b[0m\u001b[0m\n\u001b[0m",
            "\u001b[0;31mIndexError\u001b[0m: list index out of range"
          ]
        }
      ]
    },
    {
      "cell_type": "code",
      "metadata": {
        "colab": {
          "base_uri": "https://localhost:8080/",
          "height": 36
        },
        "id": "elyYtJ-6-qBJ",
        "outputId": "675e5c5a-37a6-4b5d-a661-f6c00dad16fc"
      },
      "source": [
        "words[2000]"
      ],
      "execution_count": null,
      "outputs": [
        {
          "data": {
            "application/vnd.google.colaboratory.intrinsic+json": {
              "type": "string"
            },
            "text/plain": [
              "'ПРОСИЯТЬ'"
            ]
          },
          "execution_count": 86,
          "metadata": {},
          "output_type": "execute_result"
        }
      ]
    },
    {
      "cell_type": "code",
      "metadata": {
        "colab": {
          "base_uri": "https://localhost:8080/",
          "height": 186
        },
        "id": "UGBxZdABPFaA",
        "outputId": "aa9e8bc9-60f8-4875-f44b-c3be8afde011"
      },
      "source": [
        "synset_ids[0]\n",
        "wn[words[1500]][0].synset.pos_synonyms"
      ],
      "execution_count": null,
      "outputs": [
        {
          "ename": "AttributeError",
          "evalue": "ignored",
          "output_type": "error",
          "traceback": [
            "\u001b[0;31m---------------------------------------------------------------------------\u001b[0m",
            "\u001b[0;31mAttributeError\u001b[0m                            Traceback (most recent call last)",
            "\u001b[0;32m<ipython-input-77-15ff3681dbe0>\u001b[0m in \u001b[0;36m<module>\u001b[0;34m()\u001b[0m\n\u001b[1;32m      1\u001b[0m \u001b[0msynset_ids\u001b[0m\u001b[0;34m[\u001b[0m\u001b[0;36m0\u001b[0m\u001b[0;34m]\u001b[0m\u001b[0;34m\u001b[0m\u001b[0;34m\u001b[0m\u001b[0m\n\u001b[0;32m----> 2\u001b[0;31m \u001b[0mwn\u001b[0m\u001b[0;34m[\u001b[0m\u001b[0mwords\u001b[0m\u001b[0;34m[\u001b[0m\u001b[0;36m1500\u001b[0m\u001b[0;34m]\u001b[0m\u001b[0;34m]\u001b[0m\u001b[0;34m[\u001b[0m\u001b[0;36m0\u001b[0m\u001b[0;34m]\u001b[0m\u001b[0;34m.\u001b[0m\u001b[0mpos_synonyms\u001b[0m\u001b[0;34m\u001b[0m\u001b[0;34m\u001b[0m\u001b[0m\n\u001b[0m",
            "\u001b[0;31mAttributeError\u001b[0m: 'Sense' object has no attribute 'pos_synonyms'"
          ]
        }
      ]
    },
    {
      "cell_type": "code",
      "metadata": {
        "colab": {
          "base_uri": "https://localhost:8080/",
          "height": 292
        },
        "id": "RMUkXAJ19MIT",
        "outputId": "9a61003a-1eef-433d-8a00-9bca01d1a795"
      },
      "source": [
        "wn[words[5500][0]].synset.pos_synonyms"
      ],
      "execution_count": null,
      "outputs": [
        {
          "ename": "KeyError",
          "evalue": "ignored",
          "output_type": "error",
          "traceback": [
            "\u001b[0;31m---------------------------------------------------------------------------\u001b[0m",
            "\u001b[0;31mKeyError\u001b[0m                                  Traceback (most recent call last)",
            "\u001b[0;32m<ipython-input-80-a405469b872f>\u001b[0m in \u001b[0;36m<module>\u001b[0;34m()\u001b[0m\n\u001b[0;32m----> 1\u001b[0;31m \u001b[0mwn\u001b[0m\u001b[0;34m[\u001b[0m\u001b[0mwords\u001b[0m\u001b[0;34m[\u001b[0m\u001b[0;36m5500\u001b[0m\u001b[0;34m]\u001b[0m\u001b[0;34m[\u001b[0m\u001b[0;36m0\u001b[0m\u001b[0;34m]\u001b[0m\u001b[0;34m]\u001b[0m\u001b[0;34m.\u001b[0m\u001b[0msynset\u001b[0m\u001b[0;34m.\u001b[0m\u001b[0mpos_synonyms\u001b[0m\u001b[0;34m\u001b[0m\u001b[0;34m\u001b[0m\u001b[0m\n\u001b[0m",
            "\u001b[0;32m/usr/local/lib/python3.7/dist-packages/ruwordnet/ruwordnet.py\u001b[0m in \u001b[0;36m__getitem__\u001b[0;34m(self, item)\u001b[0m\n\u001b[1;32m     36\u001b[0m         \u001b[0;32mif\u001b[0m \u001b[0msenses\u001b[0m\u001b[0;34m:\u001b[0m\u001b[0;34m\u001b[0m\u001b[0;34m\u001b[0m\u001b[0m\n\u001b[1;32m     37\u001b[0m             \u001b[0;32mreturn\u001b[0m \u001b[0msenses\u001b[0m\u001b[0;34m\u001b[0m\u001b[0;34m\u001b[0m\u001b[0m\n\u001b[0;32m---> 38\u001b[0;31m         \u001b[0;32mraise\u001b[0m \u001b[0mKeyError\u001b[0m\u001b[0;34m(\u001b[0m\u001b[0;34m)\u001b[0m\u001b[0;34m\u001b[0m\u001b[0;34m\u001b[0m\u001b[0m\n\u001b[0m\u001b[1;32m     39\u001b[0m \u001b[0;34m\u001b[0m\u001b[0m\n\u001b[1;32m     40\u001b[0m     \u001b[0;32mdef\u001b[0m \u001b[0mget_senses\u001b[0m\u001b[0;34m(\u001b[0m\u001b[0mself\u001b[0m\u001b[0;34m,\u001b[0m \u001b[0mlemma\u001b[0m\u001b[0;34m:\u001b[0m \u001b[0mstr\u001b[0m\u001b[0;34m)\u001b[0m \u001b[0;34m->\u001b[0m \u001b[0mList\u001b[0m\u001b[0;34m[\u001b[0m\u001b[0mSense\u001b[0m\u001b[0;34m]\u001b[0m\u001b[0;34m:\u001b[0m\u001b[0;34m\u001b[0m\u001b[0;34m\u001b[0m\u001b[0m\n",
            "\u001b[0;31mKeyError\u001b[0m: "
          ]
        }
      ]
    },
    {
      "cell_type": "code",
      "metadata": {
        "colab": {
          "base_uri": "https://localhost:8080/",
          "height": 168
        },
        "id": "ypMyiQxK9vis",
        "outputId": "220358a5-d010-4d41-f66d-5bdc9e6d17be"
      },
      "source": [
        "words.index('')"
      ],
      "execution_count": null,
      "outputs": [
        {
          "ename": "ValueError",
          "evalue": "ignored",
          "output_type": "error",
          "traceback": [
            "\u001b[0;31m---------------------------------------------------------------------------\u001b[0m",
            "\u001b[0;31mValueError\u001b[0m                                Traceback (most recent call last)",
            "\u001b[0;32m<ipython-input-82-16f8ad852904>\u001b[0m in \u001b[0;36m<module>\u001b[0;34m()\u001b[0m\n\u001b[0;32m----> 1\u001b[0;31m \u001b[0mwords\u001b[0m\u001b[0;34m.\u001b[0m\u001b[0mindex\u001b[0m\u001b[0;34m(\u001b[0m\u001b[0;34m'СТОЛ'\u001b[0m\u001b[0;34m)\u001b[0m\u001b[0;34m\u001b[0m\u001b[0;34m\u001b[0m\u001b[0m\n\u001b[0m",
            "\u001b[0;31mValueError\u001b[0m: 'СТОЛ' is not in list"
          ]
        }
      ]
    },
    {
      "cell_type": "code",
      "metadata": {
        "colab": {
          "base_uri": "https://localhost:8080/",
          "height": 239
        },
        "id": "_maKZnFO9Q7W",
        "outputId": "3f9511c4-55a6-48d4-de1f-54d06f8611b1"
      },
      "source": [
        "# votes = Counter()\n",
        "# dists, ids = tree.query(vectorize('кудахтать').reshape(1, -1), k=100)\n",
        "for idx in len(synset_ids):\n",
        "    # for hyper in wn[synset_ids[idx]].hypernyms:\n",
        "        # votes[hyper.id] += distance2vote(distance)\n",
        "    # print(words[idx], [t.title for t in wn[synset_ids[idx]].hypernyms])\n",
        "    print(words[idx],wn[synset_ids[idx]].hypernyms)"
      ],
      "execution_count": null,
      "outputs": [
        {
          "ename": "TypeError",
          "evalue": "ignored",
          "output_type": "error",
          "traceback": [
            "\u001b[0;31m---------------------------------------------------------------------------\u001b[0m",
            "\u001b[0;31mTypeError\u001b[0m                                 Traceback (most recent call last)",
            "\u001b[0;32m<ipython-input-63-16ad0ff26064>\u001b[0m in \u001b[0;36m<module>\u001b[0;34m()\u001b[0m\n\u001b[1;32m      1\u001b[0m \u001b[0;31m# votes = Counter()\u001b[0m\u001b[0;34m\u001b[0m\u001b[0;34m\u001b[0m\u001b[0;34m\u001b[0m\u001b[0m\n\u001b[1;32m      2\u001b[0m \u001b[0;31m# dists, ids = tree.query(vectorize('кудахтать').reshape(1, -1), k=100)\u001b[0m\u001b[0;34m\u001b[0m\u001b[0;34m\u001b[0m\u001b[0;34m\u001b[0m\u001b[0m\n\u001b[0;32m----> 3\u001b[0;31m \u001b[0;32mfor\u001b[0m \u001b[0midx\u001b[0m \u001b[0;32min\u001b[0m \u001b[0mlen\u001b[0m\u001b[0;34m(\u001b[0m\u001b[0msynset_ids\u001b[0m\u001b[0;34m)\u001b[0m\u001b[0;34m:\u001b[0m\u001b[0;34m\u001b[0m\u001b[0;34m\u001b[0m\u001b[0m\n\u001b[0m\u001b[1;32m      4\u001b[0m     \u001b[0;31m# for hyper in wn[synset_ids[idx]].hypernyms:\u001b[0m\u001b[0;34m\u001b[0m\u001b[0;34m\u001b[0m\u001b[0;34m\u001b[0m\u001b[0m\n\u001b[1;32m      5\u001b[0m         \u001b[0;31m# votes[hyper.id] += distance2vote(distance)\u001b[0m\u001b[0;34m\u001b[0m\u001b[0;34m\u001b[0m\u001b[0;34m\u001b[0m\u001b[0m\n",
            "\u001b[0;31mTypeError\u001b[0m: 'int' object is not iterable"
          ]
        }
      ]
    },
    {
      "cell_type": "code",
      "metadata": {
        "colab": {
          "base_uri": "https://localhost:8080/"
        },
        "id": "u69g_wu4_DMG",
        "outputId": "a431d3ea-c4f7-4f32-cf2b-982adc4828d4"
      },
      "source": [
        "words[2000], synset_ids[0]"
      ],
      "execution_count": null,
      "outputs": [
        {
          "data": {
            "text/plain": [
              "('ЗАГОТОВЛЯТЬ', '4223-V')"
            ]
          },
          "execution_count": 18,
          "metadata": {},
          "output_type": "execute_result"
        }
      ]
    },
    {
      "cell_type": "code",
      "metadata": {
        "colab": {
          "base_uri": "https://localhost:8080/",
          "height": 186
        },
        "id": "LlY3Nx9t4exa",
        "outputId": "3ae6b92b-156e-4303-a4ca-74e6b00318fd"
      },
      "source": [
        "vegetables = wn.get_senses(words[12000])[0].synset.pos_synonyms[0]\n",
        "vegetables, words[2000]"
      ],
      "execution_count": null,
      "outputs": [
        {
          "ename": "IndexError",
          "evalue": "ignored",
          "output_type": "error",
          "traceback": [
            "\u001b[0;31m---------------------------------------------------------------------------\u001b[0m",
            "\u001b[0;31mIndexError\u001b[0m                                Traceback (most recent call last)",
            "\u001b[0;32m<ipython-input-49-aa940b08d1a0>\u001b[0m in \u001b[0;36m<module>\u001b[0;34m()\u001b[0m\n\u001b[0;32m----> 1\u001b[0;31m \u001b[0mvegetables\u001b[0m \u001b[0;34m=\u001b[0m \u001b[0mwn\u001b[0m\u001b[0;34m.\u001b[0m\u001b[0mget_senses\u001b[0m\u001b[0;34m(\u001b[0m\u001b[0mwords\u001b[0m\u001b[0;34m[\u001b[0m\u001b[0;36m12000\u001b[0m\u001b[0;34m]\u001b[0m\u001b[0;34m)\u001b[0m\u001b[0;34m[\u001b[0m\u001b[0;36m0\u001b[0m\u001b[0;34m]\u001b[0m\u001b[0;34m.\u001b[0m\u001b[0msynset\u001b[0m\u001b[0;34m.\u001b[0m\u001b[0mpos_synonyms\u001b[0m\u001b[0;34m[\u001b[0m\u001b[0;36m0\u001b[0m\u001b[0;34m]\u001b[0m\u001b[0;34m\u001b[0m\u001b[0;34m\u001b[0m\u001b[0m\n\u001b[0m\u001b[1;32m      2\u001b[0m \u001b[0mvegetables\u001b[0m\u001b[0;34m,\u001b[0m \u001b[0mwords\u001b[0m\u001b[0;34m[\u001b[0m\u001b[0;36m2000\u001b[0m\u001b[0;34m]\u001b[0m\u001b[0;34m\u001b[0m\u001b[0;34m\u001b[0m\u001b[0m\n",
            "\u001b[0;31mIndexError\u001b[0m: list index out of range"
          ]
        }
      ]
    },
    {
      "cell_type": "code",
      "metadata": {
        "id": "0aG1zlRT45AV"
      },
      "source": [
        "1026 - начало синанимических групп"
      ],
      "execution_count": null,
      "outputs": []
    },
    {
      "cell_type": "code",
      "metadata": {
        "colab": {
          "base_uri": "https://localhost:8080/"
        },
        "id": "o8z_sow46TCg",
        "outputId": "7a36e5c0-bf59-43f9-c183-f1d1ae3d03a0"
      },
      "source": [
        "[s for ss in wn['СТУЛ'][0].synset.pos_synonyms for s in ss.senses]"
      ],
      "execution_count": null,
      "outputs": [
        {
          "data": {
            "text/plain": [
              "[Sense(id=\"121026-A-163341\", name=\"КАЛОВЫЙ\"),\n",
              " Sense(id=\"121026-A-205901\", name=\"ФЕКАЛЬНЫЙ\")]"
            ]
          },
          "execution_count": 56,
          "metadata": {},
          "output_type": "execute_result"
        }
      ]
    },
    {
      "cell_type": "code",
      "metadata": {
        "colab": {
          "base_uri": "https://localhost:8080/",
          "height": 168
        },
        "id": "-gcb0EZL6oz2",
        "outputId": "b36b491a-27c3-40bd-8658-06265c7a8015"
      },
      "source": [
        "[s for ss in words[21510][0].synset.pos_synonyms for s in ss.senses]\n"
      ],
      "execution_count": null,
      "outputs": [
        {
          "ename": "AttributeError",
          "evalue": "ignored",
          "output_type": "error",
          "traceback": [
            "\u001b[0;31m---------------------------------------------------------------------------\u001b[0m",
            "\u001b[0;31mAttributeError\u001b[0m                            Traceback (most recent call last)",
            "\u001b[0;32m<ipython-input-54-5bd6a418eaa0>\u001b[0m in \u001b[0;36m<module>\u001b[0;34m()\u001b[0m\n\u001b[0;32m----> 1\u001b[0;31m \u001b[0;34m[\u001b[0m\u001b[0ms\u001b[0m \u001b[0;32mfor\u001b[0m \u001b[0mss\u001b[0m \u001b[0;32min\u001b[0m \u001b[0mwords\u001b[0m\u001b[0;34m[\u001b[0m\u001b[0;36m21510\u001b[0m\u001b[0;34m]\u001b[0m\u001b[0;34m[\u001b[0m\u001b[0;36m0\u001b[0m\u001b[0;34m]\u001b[0m\u001b[0;34m.\u001b[0m\u001b[0msynset\u001b[0m\u001b[0;34m.\u001b[0m\u001b[0mpos_synonyms\u001b[0m \u001b[0;32mfor\u001b[0m \u001b[0ms\u001b[0m \u001b[0;32min\u001b[0m \u001b[0mss\u001b[0m\u001b[0;34m.\u001b[0m\u001b[0msenses\u001b[0m\u001b[0;34m]\u001b[0m\u001b[0;34m\u001b[0m\u001b[0;34m\u001b[0m\u001b[0m\n\u001b[0m",
            "\u001b[0;31mAttributeError\u001b[0m: 'str' object has no attribute 'synset'"
          ]
        }
      ]
    },
    {
      "cell_type": "markdown",
      "metadata": {
        "id": "V6eXGwJ9nQV4"
      },
      "source": [
        "Парсинг файлов\n"
      ]
    },
    {
      "cell_type": "code",
      "metadata": {
        "id": "-4glMKvNn8g_"
      },
      "source": [
        "!pip install pandas==1.3.0"
      ],
      "execution_count": null,
      "outputs": []
    },
    {
      "cell_type": "code",
      "metadata": {
        "id": "qL8h0XkfnSk2"
      },
      "source": [
        "import pandas as pd\n",
        "df = pd.read_xml('/content/drive/MyDrive/WildHack/synsets/composed_of.xml')"
      ],
      "execution_count": null,
      "outputs": []
    },
    {
      "cell_type": "code",
      "metadata": {
        "id": "appW3-DXoOlU"
      },
      "source": [
        "df"
      ],
      "execution_count": null,
      "outputs": []
    },
    {
      "cell_type": "code",
      "metadata": {
        "id": "QpDMQTEIow8i"
      },
      "source": [
        "file_names = ['/content/drive/MyDrive/WildHack/synsets/composed_of.xml', '/content/drive/MyDrive/WildHack/synsets/derived_from.xml',\n",
        "              '/content/drive/MyDrive/WildHack/synsets/ili.xml', '/content/drive/MyDrive/WildHack/synsets/senses.A.xml', '/content/drive/MyDrive/WildHack/synsets/senses.N.xml',\n",
        "              '/content/drive/MyDrive/WildHack/synsets/senses.V.xml', '/content/drive/MyDrive/WildHack/synsets/synset_relations.A.xml', '/content/drive/MyDrive/WildHack/synsets/synset_relations.N.xml',\n",
        "              '/content/drive/MyDrive/WildHack/synsets/synset_relations.V.xml', '/content/drive/MyDrive/WildHack/synsets/synsets.A.xml', '/content/drive/MyDrive/WildHack/synsets/synsets.N.xml',\n",
        "              '/content/drive/MyDrive/WildHack/synsets/synsets.V.xml']"
      ],
      "execution_count": null,
      "outputs": []
    },
    {
      "cell_type": "code",
      "metadata": {
        "colab": {
          "base_uri": "https://localhost:8080/",
          "height": 418
        },
        "id": "Kdz3PHHNpc9k",
        "outputId": "60f3c435-100d-49d0-b971-d1030c5c51ae"
      },
      "source": [
        "i = file_names[7] #8, 7,6 - xml-файлы пар синонимов\n",
        "df = pd.read_xml(i)\n",
        "df"
      ],
      "execution_count": null,
      "outputs": [
        {
          "output_type": "execute_result",
          "data": {
            "text/html": [
              "<div>\n",
              "<style scoped>\n",
              "    .dataframe tbody tr th:only-of-type {\n",
              "        vertical-align: middle;\n",
              "    }\n",
              "\n",
              "    .dataframe tbody tr th {\n",
              "        vertical-align: top;\n",
              "    }\n",
              "\n",
              "    .dataframe thead th {\n",
              "        text-align: right;\n",
              "    }\n",
              "</style>\n",
              "<table border=\"1\" class=\"dataframe\">\n",
              "  <thead>\n",
              "    <tr style=\"text-align: right;\">\n",
              "      <th></th>\n",
              "      <th>name</th>\n",
              "      <th>child_id</th>\n",
              "      <th>parent_id</th>\n",
              "    </tr>\n",
              "  </thead>\n",
              "  <tbody>\n",
              "    <tr>\n",
              "      <th>0</th>\n",
              "      <td>hypernym</td>\n",
              "      <td>113350-N</td>\n",
              "      <td>130542-N</td>\n",
              "    </tr>\n",
              "    <tr>\n",
              "      <th>1</th>\n",
              "      <td>related</td>\n",
              "      <td>114267-N</td>\n",
              "      <td>130542-N</td>\n",
              "    </tr>\n",
              "    <tr>\n",
              "      <th>2</th>\n",
              "      <td>POS-synonymy</td>\n",
              "      <td>130542-V</td>\n",
              "      <td>130542-N</td>\n",
              "    </tr>\n",
              "    <tr>\n",
              "      <th>3</th>\n",
              "      <td>hyponym</td>\n",
              "      <td>131986-N</td>\n",
              "      <td>130542-N</td>\n",
              "    </tr>\n",
              "    <tr>\n",
              "      <th>4</th>\n",
              "      <td>hypernym</td>\n",
              "      <td>142811-N</td>\n",
              "      <td>130542-N</td>\n",
              "    </tr>\n",
              "    <tr>\n",
              "      <th>...</th>\n",
              "      <td>...</td>\n",
              "      <td>...</td>\n",
              "      <td>...</td>\n",
              "    </tr>\n",
              "    <tr>\n",
              "      <th>181469</th>\n",
              "      <td>hyponym</td>\n",
              "      <td>978-N</td>\n",
              "      <td>948-N</td>\n",
              "    </tr>\n",
              "    <tr>\n",
              "      <th>181470</th>\n",
              "      <td>hyponym</td>\n",
              "      <td>981-N</td>\n",
              "      <td>948-N</td>\n",
              "    </tr>\n",
              "    <tr>\n",
              "      <th>181471</th>\n",
              "      <td>hypernym</td>\n",
              "      <td>1063-N</td>\n",
              "      <td>9490-N</td>\n",
              "    </tr>\n",
              "    <tr>\n",
              "      <th>181472</th>\n",
              "      <td>related</td>\n",
              "      <td>111852-N</td>\n",
              "      <td>9490-N</td>\n",
              "    </tr>\n",
              "    <tr>\n",
              "      <th>181473</th>\n",
              "      <td>POS-synonymy</td>\n",
              "      <td>9490-A</td>\n",
              "      <td>9490-N</td>\n",
              "    </tr>\n",
              "  </tbody>\n",
              "</table>\n",
              "<p>181474 rows × 3 columns</p>\n",
              "</div>"
            ],
            "text/plain": [
              "                name  child_id parent_id\n",
              "0           hypernym  113350-N  130542-N\n",
              "1            related  114267-N  130542-N\n",
              "2       POS-synonymy  130542-V  130542-N\n",
              "3            hyponym  131986-N  130542-N\n",
              "4           hypernym  142811-N  130542-N\n",
              "...              ...       ...       ...\n",
              "181469       hyponym     978-N     948-N\n",
              "181470       hyponym     981-N     948-N\n",
              "181471      hypernym    1063-N    9490-N\n",
              "181472       related  111852-N    9490-N\n",
              "181473  POS-synonymy    9490-A    9490-N\n",
              "\n",
              "[181474 rows x 3 columns]"
            ]
          },
          "metadata": {},
          "execution_count": 136
        }
      ]
    },
    {
      "cell_type": "code",
      "metadata": {
        "id": "rPDbvB8wMUu-"
      },
      "source": [
        "df"
      ],
      "execution_count": null,
      "outputs": []
    },
    {
      "cell_type": "code",
      "metadata": {
        "id": "Zx1Hetbwpoqk"
      },
      "source": [
        "df = df[df.name == 'POS-synonymy']"
      ],
      "execution_count": null,
      "outputs": []
    },
    {
      "cell_type": "code",
      "metadata": {
        "colab": {
          "base_uri": "https://localhost:8080/",
          "height": 418
        },
        "id": "fHDCpTNaDsxw",
        "outputId": "f52163b2-9a7e-4b13-b01b-315294215459"
      },
      "source": [
        "df"
      ],
      "execution_count": null,
      "outputs": [
        {
          "output_type": "execute_result",
          "data": {
            "text/html": [
              "<div>\n",
              "<style scoped>\n",
              "    .dataframe tbody tr th:only-of-type {\n",
              "        vertical-align: middle;\n",
              "    }\n",
              "\n",
              "    .dataframe tbody tr th {\n",
              "        vertical-align: top;\n",
              "    }\n",
              "\n",
              "    .dataframe thead th {\n",
              "        text-align: right;\n",
              "    }\n",
              "</style>\n",
              "<table border=\"1\" class=\"dataframe\">\n",
              "  <thead>\n",
              "    <tr style=\"text-align: right;\">\n",
              "      <th></th>\n",
              "      <th>name</th>\n",
              "      <th>child_id</th>\n",
              "      <th>parent_id</th>\n",
              "    </tr>\n",
              "  </thead>\n",
              "  <tbody>\n",
              "    <tr>\n",
              "      <th>2</th>\n",
              "      <td>POS-synonymy</td>\n",
              "      <td>130542-V</td>\n",
              "      <td>130542-N</td>\n",
              "    </tr>\n",
              "    <tr>\n",
              "      <th>7</th>\n",
              "      <td>POS-synonymy</td>\n",
              "      <td>130544-V</td>\n",
              "      <td>130544-N</td>\n",
              "    </tr>\n",
              "    <tr>\n",
              "      <th>11</th>\n",
              "      <td>POS-synonymy</td>\n",
              "      <td>130545-A</td>\n",
              "      <td>130545-N</td>\n",
              "    </tr>\n",
              "    <tr>\n",
              "      <th>16</th>\n",
              "      <td>POS-synonymy</td>\n",
              "      <td>130547-V</td>\n",
              "      <td>130547-N</td>\n",
              "    </tr>\n",
              "    <tr>\n",
              "      <th>19</th>\n",
              "      <td>POS-synonymy</td>\n",
              "      <td>130550-V</td>\n",
              "      <td>130550-N</td>\n",
              "    </tr>\n",
              "    <tr>\n",
              "      <th>...</th>\n",
              "      <td>...</td>\n",
              "      <td>...</td>\n",
              "      <td>...</td>\n",
              "    </tr>\n",
              "    <tr>\n",
              "      <th>181428</th>\n",
              "      <td>POS-synonymy</td>\n",
              "      <td>9483-A</td>\n",
              "      <td>9483-N</td>\n",
              "    </tr>\n",
              "    <tr>\n",
              "      <th>181433</th>\n",
              "      <td>POS-synonymy</td>\n",
              "      <td>9484-A</td>\n",
              "      <td>9484-N</td>\n",
              "    </tr>\n",
              "    <tr>\n",
              "      <th>181447</th>\n",
              "      <td>POS-synonymy</td>\n",
              "      <td>9487-A</td>\n",
              "      <td>9487-N</td>\n",
              "    </tr>\n",
              "    <tr>\n",
              "      <th>181456</th>\n",
              "      <td>POS-synonymy</td>\n",
              "      <td>9488-A</td>\n",
              "      <td>9488-N</td>\n",
              "    </tr>\n",
              "    <tr>\n",
              "      <th>181473</th>\n",
              "      <td>POS-synonymy</td>\n",
              "      <td>9490-A</td>\n",
              "      <td>9490-N</td>\n",
              "    </tr>\n",
              "  </tbody>\n",
              "</table>\n",
              "<p>20758 rows × 3 columns</p>\n",
              "</div>"
            ],
            "text/plain": [
              "                name  child_id parent_id\n",
              "2       POS-synonymy  130542-V  130542-N\n",
              "7       POS-synonymy  130544-V  130544-N\n",
              "11      POS-synonymy  130545-A  130545-N\n",
              "16      POS-synonymy  130547-V  130547-N\n",
              "19      POS-synonymy  130550-V  130550-N\n",
              "...              ...       ...       ...\n",
              "181428  POS-synonymy    9483-A    9483-N\n",
              "181433  POS-synonymy    9484-A    9484-N\n",
              "181447  POS-synonymy    9487-A    9487-N\n",
              "181456  POS-synonymy    9488-A    9488-N\n",
              "181473  POS-synonymy    9490-A    9490-N\n",
              "\n",
              "[20758 rows x 3 columns]"
            ]
          },
          "metadata": {},
          "execution_count": 138
        }
      ]
    },
    {
      "cell_type": "code",
      "metadata": {
        "colab": {
          "base_uri": "https://localhost:8080/",
          "height": 36
        },
        "id": "8tQxbFT5E7rr",
        "outputId": "521c1b16-9c37-43cd-d4c1-2d3e62602d1e"
      },
      "source": [
        "import re\n",
        "\n",
        "input = \"130544-N-741488\"\n",
        "re.split( \"N\", input )[0] + 'N'\n",
        "# >>> ['Item 1 ', ' Item 2 ', ' Item 3 ', ' Item 4 ', ' Item 5']"
      ],
      "execution_count": null,
      "outputs": [
        {
          "output_type": "execute_result",
          "data": {
            "application/vnd.google.colaboratory.intrinsic+json": {
              "type": "string"
            },
            "text/plain": [
              "'130544-N'"
            ]
          },
          "metadata": {},
          "execution_count": 102
        }
      ]
    },
    {
      "cell_type": "code",
      "metadata": {
        "id": "W3DsYGxWD4Qy"
      },
      "source": [
        "df.loc[df['favorite_color'] == 'yellow']"
      ],
      "execution_count": null,
      "outputs": []
    },
    {
      "cell_type": "code",
      "metadata": {
        "id": "CggsTaqGCaTh"
      },
      "source": [
        "df['thesame'] = pd.Series(dtype='int')\n"
      ],
      "execution_count": null,
      "outputs": []
    },
    {
      "cell_type": "code",
      "metadata": {
        "colab": {
          "base_uri": "https://localhost:8080/",
          "height": 310
        },
        "id": "jRIc4-ro9-Ly",
        "outputId": "72acbdaa-f30d-4f13-bf56-66c5e2c112d1"
      },
      "source": [
        "df = df[df.child_id.endswith('N')]\n",
        "df = df[df.parent_id.endswith('N')]"
      ],
      "execution_count": null,
      "outputs": [
        {
          "output_type": "error",
          "ename": "AttributeError",
          "evalue": "ignored",
          "traceback": [
            "\u001b[0;31m---------------------------------------------------------------------------\u001b[0m",
            "\u001b[0;31mAttributeError\u001b[0m                            Traceback (most recent call last)",
            "\u001b[0;32m<ipython-input-56-2c5602d0b22d>\u001b[0m in \u001b[0;36m<module>\u001b[0;34m()\u001b[0m\n\u001b[0;32m----> 1\u001b[0;31m \u001b[0mdf\u001b[0m \u001b[0;34m=\u001b[0m \u001b[0mdf\u001b[0m\u001b[0;34m[\u001b[0m\u001b[0mdf\u001b[0m\u001b[0;34m.\u001b[0m\u001b[0mchild_id\u001b[0m\u001b[0;34m.\u001b[0m\u001b[0mendswith\u001b[0m\u001b[0;34m(\u001b[0m\u001b[0;34m'N'\u001b[0m\u001b[0;34m)\u001b[0m\u001b[0;34m]\u001b[0m\u001b[0;34m\u001b[0m\u001b[0;34m\u001b[0m\u001b[0m\n\u001b[0m\u001b[1;32m      2\u001b[0m \u001b[0mdf\u001b[0m \u001b[0;34m=\u001b[0m \u001b[0mdf\u001b[0m\u001b[0;34m[\u001b[0m\u001b[0mdf\u001b[0m\u001b[0;34m.\u001b[0m\u001b[0mparent_id\u001b[0m\u001b[0;34m.\u001b[0m\u001b[0mendswith\u001b[0m\u001b[0;34m(\u001b[0m\u001b[0;34m'N'\u001b[0m\u001b[0;34m)\u001b[0m\u001b[0;34m]\u001b[0m\u001b[0;34m\u001b[0m\u001b[0;34m\u001b[0m\u001b[0m\n",
            "\u001b[0;32m/usr/local/lib/python3.7/dist-packages/pandas/core/generic.py\u001b[0m in \u001b[0;36m__getattr__\u001b[0;34m(self, name)\u001b[0m\n\u001b[1;32m   5476\u001b[0m         ):\n\u001b[1;32m   5477\u001b[0m             \u001b[0;32mreturn\u001b[0m \u001b[0mself\u001b[0m\u001b[0;34m[\u001b[0m\u001b[0mname\u001b[0m\u001b[0;34m]\u001b[0m\u001b[0;34m\u001b[0m\u001b[0;34m\u001b[0m\u001b[0m\n\u001b[0;32m-> 5478\u001b[0;31m         \u001b[0;32mreturn\u001b[0m \u001b[0mobject\u001b[0m\u001b[0;34m.\u001b[0m\u001b[0m__getattribute__\u001b[0m\u001b[0;34m(\u001b[0m\u001b[0mself\u001b[0m\u001b[0;34m,\u001b[0m \u001b[0mname\u001b[0m\u001b[0;34m)\u001b[0m\u001b[0;34m\u001b[0m\u001b[0;34m\u001b[0m\u001b[0m\n\u001b[0m\u001b[1;32m   5479\u001b[0m \u001b[0;34m\u001b[0m\u001b[0m\n\u001b[1;32m   5480\u001b[0m     \u001b[0;32mdef\u001b[0m \u001b[0m__setattr__\u001b[0m\u001b[0;34m(\u001b[0m\u001b[0mself\u001b[0m\u001b[0;34m,\u001b[0m \u001b[0mname\u001b[0m\u001b[0;34m:\u001b[0m \u001b[0mstr\u001b[0m\u001b[0;34m,\u001b[0m \u001b[0mvalue\u001b[0m\u001b[0;34m)\u001b[0m \u001b[0;34m->\u001b[0m \u001b[0;32mNone\u001b[0m\u001b[0;34m:\u001b[0m\u001b[0;34m\u001b[0m\u001b[0;34m\u001b[0m\u001b[0m\n",
            "\u001b[0;31mAttributeError\u001b[0m: 'Series' object has no attribute 'endswith'"
          ]
        }
      ]
    },
    {
      "cell_type": "code",
      "metadata": {
        "colab": {
          "base_uri": "https://localhost:8080/"
        },
        "id": "q_bAlFWQ-OL3",
        "outputId": "56c113f9-2378-4496-9b52-39db8ee72216"
      },
      "source": [
        "str(df['child_id'][0]).endswith('N')"
      ],
      "execution_count": null,
      "outputs": [
        {
          "output_type": "execute_result",
          "data": {
            "text/plain": [
              "True"
            ]
          },
          "metadata": {},
          "execution_count": 80
        }
      ]
    },
    {
      "cell_type": "code",
      "metadata": {
        "colab": {
          "base_uri": "https://localhost:8080/"
        },
        "id": "5VVK6jWz-vYA",
        "outputId": "a39e5278-9ce6-4550-ee15-286b39091604"
      },
      "source": [
        "df['child_id'].dtype"
      ],
      "execution_count": null,
      "outputs": [
        {
          "output_type": "execute_result",
          "data": {
            "text/plain": [
              "dtype('O')"
            ]
          },
          "metadata": {},
          "execution_count": 67
        }
      ]
    },
    {
      "cell_type": "code",
      "metadata": {
        "colab": {
          "base_uri": "https://localhost:8080/"
        },
        "id": "0fESS6mBrzcw",
        "outputId": "254b9124-1d93-42d7-dc92-3a2caa75e10e"
      },
      "source": [
        "df['parent_id'].unique()\n",
        "  "
      ],
      "execution_count": null,
      "outputs": [
        {
          "output_type": "execute_result",
          "data": {
            "text/plain": [
              "array(['130542-N', '130544-N', '130545-N', ..., '9487-N', '9488-N',\n",
              "       '9490-N'], dtype=object)"
            ]
          },
          "metadata": {},
          "execution_count": 52
        }
      ]
    },
    {
      "cell_type": "code",
      "metadata": {
        "id": "IDygbqKQ6THx"
      },
      "source": [
        "allids = list(allids)"
      ],
      "execution_count": null,
      "outputs": []
    },
    {
      "cell_type": "code",
      "metadata": {
        "colab": {
          "base_uri": "https://localhost:8080/"
        },
        "id": "i53Hoijk7b_H",
        "outputId": "a51f39bd-6067-48c7-e894-579090922598"
      },
      "source": [
        "len(allids)"
      ],
      "execution_count": null,
      "outputs": [
        {
          "output_type": "execute_result",
          "data": {
            "text/plain": [
              "94710"
            ]
          },
          "metadata": {},
          "execution_count": 41
        }
      ]
    },
    {
      "cell_type": "code",
      "metadata": {
        "colab": {
          "base_uri": "https://localhost:8080/"
        },
        "id": "nDuH6lQj7NCX",
        "outputId": "bf149633-df44-47af-de6b-e69a7cf3c833"
      },
      "source": [
        "for i in range(len(allids)):\n",
        "  if allids[i].startswith('100007-N'):\n",
        "    print(i)"
      ],
      "execution_count": null,
      "outputs": [
        {
          "output_type": "stream",
          "name": "stdout",
          "text": [
            "61909\n"
          ]
        }
      ]
    },
    {
      "cell_type": "code",
      "metadata": {
        "colab": {
          "base_uri": "https://localhost:8080/"
        },
        "id": "i2OlqcvW7_jq",
        "outputId": "37a55df1-a4d8-42c2-919c-e3b512e9e026"
      },
      "source": [
        "a = '111212'\n",
        "a.endswith('212')"
      ],
      "execution_count": null,
      "outputs": [
        {
          "output_type": "execute_result",
          "data": {
            "text/plain": [
              "True"
            ]
          },
          "metadata": {},
          "execution_count": 43
        }
      ]
    },
    {
      "cell_type": "code",
      "metadata": {
        "colab": {
          "base_uri": "https://localhost:8080/",
          "height": 587
        },
        "id": "mB5HqAOL9Z0C",
        "outputId": "eed04cea-912e-4fe4-d3d2-607942e005ae"
      },
      "source": [
        "j = file_names[4]\n",
        "dfN = pd.read_xml(j)\n",
        "dfN"
      ],
      "execution_count": null,
      "outputs": [
        {
          "output_type": "execute_result",
          "data": {
            "text/html": [
              "<div>\n",
              "<style scoped>\n",
              "    .dataframe tbody tr th:only-of-type {\n",
              "        vertical-align: middle;\n",
              "    }\n",
              "\n",
              "    .dataframe tbody tr th {\n",
              "        vertical-align: top;\n",
              "    }\n",
              "\n",
              "    .dataframe thead th {\n",
              "        text-align: right;\n",
              "    }\n",
              "</style>\n",
              "<table border=\"1\" class=\"dataframe\">\n",
              "  <thead>\n",
              "    <tr style=\"text-align: right;\">\n",
              "      <th></th>\n",
              "      <th>name</th>\n",
              "      <th>lemma</th>\n",
              "      <th>main_word</th>\n",
              "      <th>synt_type</th>\n",
              "      <th>poses</th>\n",
              "      <th>meaning</th>\n",
              "      <th>id</th>\n",
              "      <th>synset_id</th>\n",
              "      <th>part_of_speech</th>\n",
              "      <th>concept_id</th>\n",
              "      <th>entry_id</th>\n",
              "    </tr>\n",
              "  </thead>\n",
              "  <tbody>\n",
              "    <tr>\n",
              "      <th>0</th>\n",
              "      <td>ВЫЧИТКА</td>\n",
              "      <td>ВЫЧИТКА</td>\n",
              "      <td>NaN</td>\n",
              "      <td>N</td>\n",
              "      <td>NaN</td>\n",
              "      <td>1</td>\n",
              "      <td>130542-N-196389</td>\n",
              "      <td>130542-N</td>\n",
              "      <td>N</td>\n",
              "      <td>130542</td>\n",
              "      <td>196389</td>\n",
              "    </tr>\n",
              "    <tr>\n",
              "      <th>1</th>\n",
              "      <td>ВЫЧИТКА ТЕКСТА</td>\n",
              "      <td>ВЫЧИТКА ТЕКСТ</td>\n",
              "      <td>ВЫЧИТКА</td>\n",
              "      <td>NG</td>\n",
              "      <td>N N</td>\n",
              "      <td>1</td>\n",
              "      <td>130542-N-729666</td>\n",
              "      <td>130542-N</td>\n",
              "      <td>N</td>\n",
              "      <td>130542</td>\n",
              "      <td>729666</td>\n",
              "    </tr>\n",
              "    <tr>\n",
              "      <th>2</th>\n",
              "      <td>ВЫЧИТЫВАНИЕ</td>\n",
              "      <td>ВЫЧИТЫВАНИЕ</td>\n",
              "      <td>NaN</td>\n",
              "      <td>N</td>\n",
              "      <td>NaN</td>\n",
              "      <td>3</td>\n",
              "      <td>130542-N-196390</td>\n",
              "      <td>130542-N</td>\n",
              "      <td>N</td>\n",
              "      <td>130542</td>\n",
              "      <td>196390</td>\n",
              "    </tr>\n",
              "    <tr>\n",
              "      <th>3</th>\n",
              "      <td>ГАРПУННАЯ ОХОТА</td>\n",
              "      <td>ГАРПУННЫЙ ОХОТА</td>\n",
              "      <td>ОХОТА</td>\n",
              "      <td>NG</td>\n",
              "      <td>Adj N</td>\n",
              "      <td>1</td>\n",
              "      <td>130544-N-741488</td>\n",
              "      <td>130544-N</td>\n",
              "      <td>N</td>\n",
              "      <td>130544</td>\n",
              "      <td>741488</td>\n",
              "    </tr>\n",
              "    <tr>\n",
              "      <th>4</th>\n",
              "      <td>ГАРПУН</td>\n",
              "      <td>ГАРПУН</td>\n",
              "      <td>NaN</td>\n",
              "      <td>N</td>\n",
              "      <td>NaN</td>\n",
              "      <td>1</td>\n",
              "      <td>130545-N-181114</td>\n",
              "      <td>130545-N</td>\n",
              "      <td>N</td>\n",
              "      <td>130545</td>\n",
              "      <td>181114</td>\n",
              "    </tr>\n",
              "    <tr>\n",
              "      <th>...</th>\n",
              "      <td>...</td>\n",
              "      <td>...</td>\n",
              "      <td>...</td>\n",
              "      <td>...</td>\n",
              "      <td>...</td>\n",
              "      <td>...</td>\n",
              "      <td>...</td>\n",
              "      <td>...</td>\n",
              "      <td>...</td>\n",
              "      <td>...</td>\n",
              "      <td>...</td>\n",
              "    </tr>\n",
              "    <tr>\n",
              "      <th>94705</th>\n",
              "      <td>ПАНКРЕАТИТ</td>\n",
              "      <td>ПАНКРЕАТИТ</td>\n",
              "      <td>NaN</td>\n",
              "      <td>N</td>\n",
              "      <td>NaN</td>\n",
              "      <td>1</td>\n",
              "      <td>9489-N-119940</td>\n",
              "      <td>9489-N</td>\n",
              "      <td>N</td>\n",
              "      <td>9489</td>\n",
              "      <td>119940</td>\n",
              "    </tr>\n",
              "    <tr>\n",
              "      <th>94706</th>\n",
              "      <td>ВОСПАЛЕНИЕ ПОДЖЕЛУДОЧНОЙ ЖЕЛЕЗЫ</td>\n",
              "      <td>ВОСПАЛЕНИЕ ПОДЖЕЛУДОЧНЫЙ ЖЕЛЕЗА</td>\n",
              "      <td>ВОСПАЛЕНИЕ</td>\n",
              "      <td>NG</td>\n",
              "      <td>N Adj N</td>\n",
              "      <td>1</td>\n",
              "      <td>9489-N-679757</td>\n",
              "      <td>9489-N</td>\n",
              "      <td>N</td>\n",
              "      <td>9489</td>\n",
              "      <td>679757</td>\n",
              "    </tr>\n",
              "    <tr>\n",
              "      <th>94707</th>\n",
              "      <td>ТЯЖЕЛЫЕ ЦВЕТНЫЕ МЕТАЛЛЫ</td>\n",
              "      <td>ТЯЖЕЛЫЙ ЦВЕТНОЙ МЕТАЛЛ</td>\n",
              "      <td>МЕТАЛЛ</td>\n",
              "      <td>NG</td>\n",
              "      <td>Adj Adj N</td>\n",
              "      <td>1</td>\n",
              "      <td>948-N-118306</td>\n",
              "      <td>948-N</td>\n",
              "      <td>N</td>\n",
              "      <td>948</td>\n",
              "      <td>118306</td>\n",
              "    </tr>\n",
              "    <tr>\n",
              "      <th>94708</th>\n",
              "      <td>ТЯЖЕЛЫЕ МЕТАЛЛЫ</td>\n",
              "      <td>ТЯЖЕЛЫЙ МЕТАЛЛ</td>\n",
              "      <td>МЕТАЛЛ</td>\n",
              "      <td>NG</td>\n",
              "      <td>Adj N</td>\n",
              "      <td>1</td>\n",
              "      <td>948-N-113264</td>\n",
              "      <td>948-N</td>\n",
              "      <td>N</td>\n",
              "      <td>948</td>\n",
              "      <td>113264</td>\n",
              "    </tr>\n",
              "    <tr>\n",
              "      <th>94709</th>\n",
              "      <td>ПУНКЦИЯ</td>\n",
              "      <td>ПУНКЦИЯ</td>\n",
              "      <td>NaN</td>\n",
              "      <td>N</td>\n",
              "      <td>N</td>\n",
              "      <td>1</td>\n",
              "      <td>9490-N-119951</td>\n",
              "      <td>9490-N</td>\n",
              "      <td>N</td>\n",
              "      <td>9490</td>\n",
              "      <td>119951</td>\n",
              "    </tr>\n",
              "  </tbody>\n",
              "</table>\n",
              "<p>94710 rows × 11 columns</p>\n",
              "</div>"
            ],
            "text/plain": [
              "                                  name  ... entry_id\n",
              "0                              ВЫЧИТКА  ...   196389\n",
              "1                       ВЫЧИТКА ТЕКСТА  ...   729666\n",
              "2                          ВЫЧИТЫВАНИЕ  ...   196390\n",
              "3                      ГАРПУННАЯ ОХОТА  ...   741488\n",
              "4                               ГАРПУН  ...   181114\n",
              "...                                ...  ...      ...\n",
              "94705                       ПАНКРЕАТИТ  ...   119940\n",
              "94706  ВОСПАЛЕНИЕ ПОДЖЕЛУДОЧНОЙ ЖЕЛЕЗЫ  ...   679757\n",
              "94707          ТЯЖЕЛЫЕ ЦВЕТНЫЕ МЕТАЛЛЫ  ...   118306\n",
              "94708                  ТЯЖЕЛЫЕ МЕТАЛЛЫ  ...   113264\n",
              "94709                          ПУНКЦИЯ  ...   119951\n",
              "\n",
              "[94710 rows x 11 columns]"
            ]
          },
          "metadata": {},
          "execution_count": 105
        }
      ]
    },
    {
      "cell_type": "code",
      "metadata": {
        "id": "FLt-f-s-FXIe"
      },
      "source": [
        "import re\n",
        "\n",
        "input = \"130544-N-741488\"\n",
        "re.split( \"N\", input )[0] + 'N'"
      ],
      "execution_count": null,
      "outputs": []
    },
    {
      "cell_type": "code",
      "metadata": {
        "colab": {
          "base_uri": "https://localhost:8080/"
        },
        "id": "Sf8tyIOLFYyY",
        "outputId": "3d510d01-7b3b-4608-d74d-7108d2e3df2c"
      },
      "source": [
        "for i in range(94710):\n",
        "  dfN['id'][i] = re.split( \"N\", dfN['id'][i] )[0] + 'N'"
      ],
      "execution_count": null,
      "outputs": [
        {
          "output_type": "stream",
          "name": "stderr",
          "text": [
            "/usr/local/lib/python3.7/dist-packages/ipykernel_launcher.py:2: SettingWithCopyWarning: \n",
            "A value is trying to be set on a copy of a slice from a DataFrame\n",
            "\n",
            "See the caveats in the documentation: https://pandas.pydata.org/pandas-docs/stable/user_guide/indexing.html#returning-a-view-versus-a-copy\n",
            "  \n"
          ]
        }
      ]
    },
    {
      "cell_type": "code",
      "metadata": {
        "colab": {
          "base_uri": "https://localhost:8080/",
          "height": 536
        },
        "id": "CRg3vn6YF0oU",
        "outputId": "7822e0a8-99c1-4dc6-9a5a-4f18eccf2a01"
      },
      "source": [
        "dfN"
      ],
      "execution_count": null,
      "outputs": [
        {
          "output_type": "execute_result",
          "data": {
            "text/html": [
              "<div>\n",
              "<style scoped>\n",
              "    .dataframe tbody tr th:only-of-type {\n",
              "        vertical-align: middle;\n",
              "    }\n",
              "\n",
              "    .dataframe tbody tr th {\n",
              "        vertical-align: top;\n",
              "    }\n",
              "\n",
              "    .dataframe thead th {\n",
              "        text-align: right;\n",
              "    }\n",
              "</style>\n",
              "<table border=\"1\" class=\"dataframe\">\n",
              "  <thead>\n",
              "    <tr style=\"text-align: right;\">\n",
              "      <th></th>\n",
              "      <th>name</th>\n",
              "      <th>lemma</th>\n",
              "      <th>main_word</th>\n",
              "      <th>synt_type</th>\n",
              "      <th>poses</th>\n",
              "      <th>meaning</th>\n",
              "      <th>id</th>\n",
              "      <th>synset_id</th>\n",
              "      <th>part_of_speech</th>\n",
              "      <th>concept_id</th>\n",
              "      <th>entry_id</th>\n",
              "    </tr>\n",
              "  </thead>\n",
              "  <tbody>\n",
              "    <tr>\n",
              "      <th>0</th>\n",
              "      <td>ВЫЧИТКА</td>\n",
              "      <td>ВЫЧИТКА</td>\n",
              "      <td>NaN</td>\n",
              "      <td>N</td>\n",
              "      <td>NaN</td>\n",
              "      <td>1</td>\n",
              "      <td>130542-N</td>\n",
              "      <td>130542-N</td>\n",
              "      <td>N</td>\n",
              "      <td>130542</td>\n",
              "      <td>196389</td>\n",
              "    </tr>\n",
              "    <tr>\n",
              "      <th>1</th>\n",
              "      <td>ВЫЧИТКА ТЕКСТА</td>\n",
              "      <td>ВЫЧИТКА ТЕКСТ</td>\n",
              "      <td>ВЫЧИТКА</td>\n",
              "      <td>NG</td>\n",
              "      <td>N N</td>\n",
              "      <td>1</td>\n",
              "      <td>130542-N</td>\n",
              "      <td>130542-N</td>\n",
              "      <td>N</td>\n",
              "      <td>130542</td>\n",
              "      <td>729666</td>\n",
              "    </tr>\n",
              "    <tr>\n",
              "      <th>2</th>\n",
              "      <td>ВЫЧИТЫВАНИЕ</td>\n",
              "      <td>ВЫЧИТЫВАНИЕ</td>\n",
              "      <td>NaN</td>\n",
              "      <td>N</td>\n",
              "      <td>NaN</td>\n",
              "      <td>3</td>\n",
              "      <td>130542-N</td>\n",
              "      <td>130542-N</td>\n",
              "      <td>N</td>\n",
              "      <td>130542</td>\n",
              "      <td>196390</td>\n",
              "    </tr>\n",
              "    <tr>\n",
              "      <th>3</th>\n",
              "      <td>ГАРПУННАЯ ОХОТА</td>\n",
              "      <td>ГАРПУННЫЙ ОХОТА</td>\n",
              "      <td>ОХОТА</td>\n",
              "      <td>NG</td>\n",
              "      <td>Adj N</td>\n",
              "      <td>1</td>\n",
              "      <td>130544-N</td>\n",
              "      <td>130544-N</td>\n",
              "      <td>N</td>\n",
              "      <td>130544</td>\n",
              "      <td>741488</td>\n",
              "    </tr>\n",
              "    <tr>\n",
              "      <th>4</th>\n",
              "      <td>ГАРПУН</td>\n",
              "      <td>ГАРПУН</td>\n",
              "      <td>NaN</td>\n",
              "      <td>N</td>\n",
              "      <td>NaN</td>\n",
              "      <td>1</td>\n",
              "      <td>130545-N</td>\n",
              "      <td>130545-N</td>\n",
              "      <td>N</td>\n",
              "      <td>130545</td>\n",
              "      <td>181114</td>\n",
              "    </tr>\n",
              "    <tr>\n",
              "      <th>...</th>\n",
              "      <td>...</td>\n",
              "      <td>...</td>\n",
              "      <td>...</td>\n",
              "      <td>...</td>\n",
              "      <td>...</td>\n",
              "      <td>...</td>\n",
              "      <td>...</td>\n",
              "      <td>...</td>\n",
              "      <td>...</td>\n",
              "      <td>...</td>\n",
              "      <td>...</td>\n",
              "    </tr>\n",
              "    <tr>\n",
              "      <th>94705</th>\n",
              "      <td>ПАНКРЕАТИТ</td>\n",
              "      <td>ПАНКРЕАТИТ</td>\n",
              "      <td>NaN</td>\n",
              "      <td>N</td>\n",
              "      <td>NaN</td>\n",
              "      <td>1</td>\n",
              "      <td>9489-N</td>\n",
              "      <td>9489-N</td>\n",
              "      <td>N</td>\n",
              "      <td>9489</td>\n",
              "      <td>119940</td>\n",
              "    </tr>\n",
              "    <tr>\n",
              "      <th>94706</th>\n",
              "      <td>ВОСПАЛЕНИЕ ПОДЖЕЛУДОЧНОЙ ЖЕЛЕЗЫ</td>\n",
              "      <td>ВОСПАЛЕНИЕ ПОДЖЕЛУДОЧНЫЙ ЖЕЛЕЗА</td>\n",
              "      <td>ВОСПАЛЕНИЕ</td>\n",
              "      <td>NG</td>\n",
              "      <td>N Adj N</td>\n",
              "      <td>1</td>\n",
              "      <td>9489-N</td>\n",
              "      <td>9489-N</td>\n",
              "      <td>N</td>\n",
              "      <td>9489</td>\n",
              "      <td>679757</td>\n",
              "    </tr>\n",
              "    <tr>\n",
              "      <th>94707</th>\n",
              "      <td>ТЯЖЕЛЫЕ ЦВЕТНЫЕ МЕТАЛЛЫ</td>\n",
              "      <td>ТЯЖЕЛЫЙ ЦВЕТНОЙ МЕТАЛЛ</td>\n",
              "      <td>МЕТАЛЛ</td>\n",
              "      <td>NG</td>\n",
              "      <td>Adj Adj N</td>\n",
              "      <td>1</td>\n",
              "      <td>948-N</td>\n",
              "      <td>948-N</td>\n",
              "      <td>N</td>\n",
              "      <td>948</td>\n",
              "      <td>118306</td>\n",
              "    </tr>\n",
              "    <tr>\n",
              "      <th>94708</th>\n",
              "      <td>ТЯЖЕЛЫЕ МЕТАЛЛЫ</td>\n",
              "      <td>ТЯЖЕЛЫЙ МЕТАЛЛ</td>\n",
              "      <td>МЕТАЛЛ</td>\n",
              "      <td>NG</td>\n",
              "      <td>Adj N</td>\n",
              "      <td>1</td>\n",
              "      <td>948-N</td>\n",
              "      <td>948-N</td>\n",
              "      <td>N</td>\n",
              "      <td>948</td>\n",
              "      <td>113264</td>\n",
              "    </tr>\n",
              "    <tr>\n",
              "      <th>94709</th>\n",
              "      <td>ПУНКЦИЯ</td>\n",
              "      <td>ПУНКЦИЯ</td>\n",
              "      <td>NaN</td>\n",
              "      <td>N</td>\n",
              "      <td>N</td>\n",
              "      <td>1</td>\n",
              "      <td>9490-N</td>\n",
              "      <td>9490-N</td>\n",
              "      <td>N</td>\n",
              "      <td>9490</td>\n",
              "      <td>119951</td>\n",
              "    </tr>\n",
              "  </tbody>\n",
              "</table>\n",
              "<p>94710 rows × 11 columns</p>\n",
              "</div>"
            ],
            "text/plain": [
              "                                  name  ... entry_id\n",
              "0                              ВЫЧИТКА  ...   196389\n",
              "1                       ВЫЧИТКА ТЕКСТА  ...   729666\n",
              "2                          ВЫЧИТЫВАНИЕ  ...   196390\n",
              "3                      ГАРПУННАЯ ОХОТА  ...   741488\n",
              "4                               ГАРПУН  ...   181114\n",
              "...                                ...  ...      ...\n",
              "94705                       ПАНКРЕАТИТ  ...   119940\n",
              "94706  ВОСПАЛЕНИЕ ПОДЖЕЛУДОЧНОЙ ЖЕЛЕЗЫ  ...   679757\n",
              "94707          ТЯЖЕЛЫЕ ЦВЕТНЫЕ МЕТАЛЛЫ  ...   118306\n",
              "94708                  ТЯЖЕЛЫЕ МЕТАЛЛЫ  ...   113264\n",
              "94709                          ПУНКЦИЯ  ...   119951\n",
              "\n",
              "[94710 rows x 11 columns]"
            ]
          },
          "metadata": {},
          "execution_count": 110
        }
      ]
    },
    {
      "cell_type": "code",
      "metadata": {
        "id": "_JuQlBFwGfjX"
      },
      "source": [
        "dfN.to_csv('NormalNounIds.csv')"
      ],
      "execution_count": null,
      "outputs": []
    },
    {
      "cell_type": "code",
      "metadata": {
        "colab": {
          "base_uri": "https://localhost:8080/",
          "height": 418
        },
        "id": "6vPfS1SjG90h",
        "outputId": "24f23f36-3317-42c2-ff0c-e59c7dc03cd6"
      },
      "source": [
        "l = file_names[3]\n",
        "dfA = pd.read_xml(l)\n",
        "dfA"
      ],
      "execution_count": null,
      "outputs": [
        {
          "output_type": "execute_result",
          "data": {
            "text/html": [
              "<div>\n",
              "<style scoped>\n",
              "    .dataframe tbody tr th:only-of-type {\n",
              "        vertical-align: middle;\n",
              "    }\n",
              "\n",
              "    .dataframe tbody tr th {\n",
              "        vertical-align: top;\n",
              "    }\n",
              "\n",
              "    .dataframe thead th {\n",
              "        text-align: right;\n",
              "    }\n",
              "</style>\n",
              "<table border=\"1\" class=\"dataframe\">\n",
              "  <thead>\n",
              "    <tr style=\"text-align: right;\">\n",
              "      <th></th>\n",
              "      <th>name</th>\n",
              "      <th>lemma</th>\n",
              "      <th>main_word</th>\n",
              "      <th>synt_type</th>\n",
              "      <th>poses</th>\n",
              "      <th>meaning</th>\n",
              "      <th>id</th>\n",
              "      <th>synset_id</th>\n",
              "      <th>part_of_speech</th>\n",
              "      <th>concept_id</th>\n",
              "      <th>entry_id</th>\n",
              "    </tr>\n",
              "  </thead>\n",
              "  <tbody>\n",
              "    <tr>\n",
              "      <th>0</th>\n",
              "      <td>УКРОТИТЕЛЬСКИЙ</td>\n",
              "      <td>УКРОТИТЕЛЬСКИЙ</td>\n",
              "      <td>NaN</td>\n",
              "      <td>Adj</td>\n",
              "      <td>NaN</td>\n",
              "      <td>1</td>\n",
              "      <td>114383-A-155905</td>\n",
              "      <td>114383-A</td>\n",
              "      <td>Adj</td>\n",
              "      <td>114383</td>\n",
              "      <td>155905</td>\n",
              "    </tr>\n",
              "    <tr>\n",
              "      <th>1</th>\n",
              "      <td>ТИХООКЕАНСКИЙ</td>\n",
              "      <td>ТИХООКЕАНСКИЙ</td>\n",
              "      <td>NaN</td>\n",
              "      <td>Adj</td>\n",
              "      <td>NaN</td>\n",
              "      <td>1</td>\n",
              "      <td>100007-A-130477</td>\n",
              "      <td>100007-A</td>\n",
              "      <td>Adj</td>\n",
              "      <td>100007</td>\n",
              "      <td>130477</td>\n",
              "    </tr>\n",
              "    <tr>\n",
              "      <th>2</th>\n",
              "      <td>АТЛАНТИЧЕСКИЙ</td>\n",
              "      <td>АТЛАНТИЧЕСКИЙ</td>\n",
              "      <td>NaN</td>\n",
              "      <td>Adj</td>\n",
              "      <td>NaN</td>\n",
              "      <td>1</td>\n",
              "      <td>100008-A-130841</td>\n",
              "      <td>100008-A</td>\n",
              "      <td>Adj</td>\n",
              "      <td>100008</td>\n",
              "      <td>130841</td>\n",
              "    </tr>\n",
              "    <tr>\n",
              "      <th>3</th>\n",
              "      <td>КАСПИЙСКИЙ</td>\n",
              "      <td>КАСПИЙСКИЙ</td>\n",
              "      <td>NaN</td>\n",
              "      <td>Adj</td>\n",
              "      <td>NaN</td>\n",
              "      <td>1</td>\n",
              "      <td>100013-A-131750</td>\n",
              "      <td>100013-A</td>\n",
              "      <td>Adj</td>\n",
              "      <td>100013</td>\n",
              "      <td>131750</td>\n",
              "    </tr>\n",
              "    <tr>\n",
              "      <th>4</th>\n",
              "      <td>РЕЧНОЙ</td>\n",
              "      <td>РЕЧНОЙ</td>\n",
              "      <td>NaN</td>\n",
              "      <td>Adj</td>\n",
              "      <td>NaN</td>\n",
              "      <td>1</td>\n",
              "      <td>100022-A-110848</td>\n",
              "      <td>100022-A</td>\n",
              "      <td>Adj</td>\n",
              "      <td>100022</td>\n",
              "      <td>110848</td>\n",
              "    </tr>\n",
              "    <tr>\n",
              "      <th>...</th>\n",
              "      <td>...</td>\n",
              "      <td>...</td>\n",
              "      <td>...</td>\n",
              "      <td>...</td>\n",
              "      <td>...</td>\n",
              "      <td>...</td>\n",
              "      <td>...</td>\n",
              "      <td>...</td>\n",
              "      <td>...</td>\n",
              "      <td>...</td>\n",
              "      <td>...</td>\n",
              "    </tr>\n",
              "    <tr>\n",
              "      <th>20811</th>\n",
              "      <td>ВОДНО-ЗЕМЕЛЬНЫЙ</td>\n",
              "      <td>ВОДНО-ЗЕМЕЛЬНЫЙ</td>\n",
              "      <td>ВОДНО-ЗЕМЕЛЬНЫЙ</td>\n",
              "      <td>Adj</td>\n",
              "      <td>Adj</td>\n",
              "      <td>1</td>\n",
              "      <td>133205-A-212455</td>\n",
              "      <td>133205-A</td>\n",
              "      <td>Adj</td>\n",
              "      <td>133205</td>\n",
              "      <td>212455</td>\n",
              "    </tr>\n",
              "    <tr>\n",
              "      <th>20812</th>\n",
              "      <td>ПОЛИТИКАНСКИЙ</td>\n",
              "      <td>ПОЛИТИКАНСКИЙ</td>\n",
              "      <td>NaN</td>\n",
              "      <td>Adj</td>\n",
              "      <td>NaN</td>\n",
              "      <td>1</td>\n",
              "      <td>136545-A-175681</td>\n",
              "      <td>136545-A</td>\n",
              "      <td>Adj</td>\n",
              "      <td>136545</td>\n",
              "      <td>175681</td>\n",
              "    </tr>\n",
              "    <tr>\n",
              "      <th>20813</th>\n",
              "      <td>НЕОДУШЕВЛЕННЫЙ</td>\n",
              "      <td>НЕОДУШЕВЛЕННЫЙ</td>\n",
              "      <td>NaN</td>\n",
              "      <td>Adj</td>\n",
              "      <td>NaN</td>\n",
              "      <td>1</td>\n",
              "      <td>138880-A-205500</td>\n",
              "      <td>138880-A</td>\n",
              "      <td>Adj</td>\n",
              "      <td>138880</td>\n",
              "      <td>205500</td>\n",
              "    </tr>\n",
              "    <tr>\n",
              "      <th>20814</th>\n",
              "      <td>НЕЖИВОЙ</td>\n",
              "      <td>НЕЖИВОЙ</td>\n",
              "      <td>NaN</td>\n",
              "      <td>Adj</td>\n",
              "      <td>NaN</td>\n",
              "      <td>3</td>\n",
              "      <td>138880-A-186347</td>\n",
              "      <td>138880-A</td>\n",
              "      <td>Adj</td>\n",
              "      <td>138880</td>\n",
              "      <td>186347</td>\n",
              "    </tr>\n",
              "    <tr>\n",
              "      <th>20815</th>\n",
              "      <td>БЕЗЖИЗНЕННЫЙ</td>\n",
              "      <td>БЕЗЖИЗНЕННЫЙ</td>\n",
              "      <td>NaN</td>\n",
              "      <td>Adj</td>\n",
              "      <td>NaN</td>\n",
              "      <td>3</td>\n",
              "      <td>138880-A-169881</td>\n",
              "      <td>138880-A</td>\n",
              "      <td>Adj</td>\n",
              "      <td>138880</td>\n",
              "      <td>169881</td>\n",
              "    </tr>\n",
              "  </tbody>\n",
              "</table>\n",
              "<p>20816 rows × 11 columns</p>\n",
              "</div>"
            ],
            "text/plain": [
              "                  name            lemma  ... concept_id entry_id\n",
              "0       УКРОТИТЕЛЬСКИЙ   УКРОТИТЕЛЬСКИЙ  ...     114383   155905\n",
              "1        ТИХООКЕАНСКИЙ    ТИХООКЕАНСКИЙ  ...     100007   130477\n",
              "2        АТЛАНТИЧЕСКИЙ    АТЛАНТИЧЕСКИЙ  ...     100008   130841\n",
              "3           КАСПИЙСКИЙ       КАСПИЙСКИЙ  ...     100013   131750\n",
              "4               РЕЧНОЙ           РЕЧНОЙ  ...     100022   110848\n",
              "...                ...              ...  ...        ...      ...\n",
              "20811  ВОДНО-ЗЕМЕЛЬНЫЙ  ВОДНО-ЗЕМЕЛЬНЫЙ  ...     133205   212455\n",
              "20812    ПОЛИТИКАНСКИЙ    ПОЛИТИКАНСКИЙ  ...     136545   175681\n",
              "20813   НЕОДУШЕВЛЕННЫЙ   НЕОДУШЕВЛЕННЫЙ  ...     138880   205500\n",
              "20814          НЕЖИВОЙ          НЕЖИВОЙ  ...     138880   186347\n",
              "20815     БЕЗЖИЗНЕННЫЙ     БЕЗЖИЗНЕННЫЙ  ...     138880   169881\n",
              "\n",
              "[20816 rows x 11 columns]"
            ]
          },
          "metadata": {},
          "execution_count": 114
        }
      ]
    },
    {
      "cell_type": "code",
      "metadata": {
        "colab": {
          "base_uri": "https://localhost:8080/"
        },
        "id": "wet2w5O8Hq7D",
        "outputId": "aefa8fba-f216-47c8-f618-0329a235ebcc"
      },
      "source": [
        "dfA.synset_id.unique()"
      ],
      "execution_count": null,
      "outputs": [
        {
          "output_type": "execute_result",
          "data": {
            "text/plain": [
              "array(['114383-A', '100007-A', '100008-A', ..., '133205-A', '136545-A',\n",
              "       '138880-A'], dtype=object)"
            ]
          },
          "metadata": {},
          "execution_count": 115
        }
      ]
    },
    {
      "cell_type": "code",
      "metadata": {
        "id": "yClbjbZTHh7b"
      },
      "source": [
        "for i in range(20816):\n",
        "  dfN['id'][i] = re.split( \"N\", dfN['id'][i] )[0] + 'N'"
      ],
      "execution_count": null,
      "outputs": []
    },
    {
      "cell_type": "code",
      "metadata": {
        "colab": {
          "base_uri": "https://localhost:8080/",
          "height": 418
        },
        "id": "l70CtsWqHxY4",
        "outputId": "55b9f9f7-58e4-4eab-e7e0-d25a5582af73"
      },
      "source": [
        "l = file_names[5]\n",
        "dfV = pd.read_xml(l)\n",
        "dfV"
      ],
      "execution_count": null,
      "outputs": [
        {
          "output_type": "execute_result",
          "data": {
            "text/html": [
              "<div>\n",
              "<style scoped>\n",
              "    .dataframe tbody tr th:only-of-type {\n",
              "        vertical-align: middle;\n",
              "    }\n",
              "\n",
              "    .dataframe tbody tr th {\n",
              "        vertical-align: top;\n",
              "    }\n",
              "\n",
              "    .dataframe thead th {\n",
              "        text-align: right;\n",
              "    }\n",
              "</style>\n",
              "<table border=\"1\" class=\"dataframe\">\n",
              "  <thead>\n",
              "    <tr style=\"text-align: right;\">\n",
              "      <th></th>\n",
              "      <th>name</th>\n",
              "      <th>lemma</th>\n",
              "      <th>main_word</th>\n",
              "      <th>synt_type</th>\n",
              "      <th>poses</th>\n",
              "      <th>meaning</th>\n",
              "      <th>id</th>\n",
              "      <th>synset_id</th>\n",
              "      <th>part_of_speech</th>\n",
              "      <th>concept_id</th>\n",
              "      <th>entry_id</th>\n",
              "    </tr>\n",
              "  </thead>\n",
              "  <tbody>\n",
              "    <tr>\n",
              "      <th>0</th>\n",
              "      <td>ИЗМЕНЯТЬ МУЖУ</td>\n",
              "      <td>ИЗМЕНЯТЬ МУЖ</td>\n",
              "      <td>ИЗМЕНЯТЬ</td>\n",
              "      <td>VG</td>\n",
              "      <td>V N</td>\n",
              "      <td>1</td>\n",
              "      <td>9034-V-756764</td>\n",
              "      <td>9034-V</td>\n",
              "      <td>V</td>\n",
              "      <td>9034</td>\n",
              "      <td>756764</td>\n",
              "    </tr>\n",
              "    <tr>\n",
              "      <th>1</th>\n",
              "      <td>ИЗМЕНЯТЬ ЖЕНЕ</td>\n",
              "      <td>ИЗМЕНЯТЬ ЖЕНА</td>\n",
              "      <td>ИЗМЕНЯТЬ</td>\n",
              "      <td>VG</td>\n",
              "      <td>V N</td>\n",
              "      <td>1</td>\n",
              "      <td>9034-V-756765</td>\n",
              "      <td>9034-V</td>\n",
              "      <td>V</td>\n",
              "      <td>9034</td>\n",
              "      <td>756765</td>\n",
              "    </tr>\n",
              "    <tr>\n",
              "      <th>2</th>\n",
              "      <td>НАСТАВЛЯТЬ РОГА</td>\n",
              "      <td>НАСТАВЛЯТЬ РОГ</td>\n",
              "      <td>НАСТАВЛЯТЬ</td>\n",
              "      <td>VG</td>\n",
              "      <td>V N</td>\n",
              "      <td>1</td>\n",
              "      <td>9034-V-748267</td>\n",
              "      <td>9034-V</td>\n",
              "      <td>V</td>\n",
              "      <td>9034</td>\n",
              "      <td>748267</td>\n",
              "    </tr>\n",
              "    <tr>\n",
              "      <th>3</th>\n",
              "      <td>ПОГУЛЯТЬ НА СТОРОНЕ</td>\n",
              "      <td>ПОГУЛЯТЬ НА СТОРОНА</td>\n",
              "      <td>ПОГУЛЯТЬ</td>\n",
              "      <td>VG</td>\n",
              "      <td>V Prep N</td>\n",
              "      <td>1</td>\n",
              "      <td>9034-V-730974</td>\n",
              "      <td>9034-V</td>\n",
              "      <td>V</td>\n",
              "      <td>9034</td>\n",
              "      <td>730974</td>\n",
              "    </tr>\n",
              "    <tr>\n",
              "      <th>4</th>\n",
              "      <td>НАСТАВИТЬ РОГА</td>\n",
              "      <td>НАСТАВИТЬ РОГ</td>\n",
              "      <td>НАСТАВИТЬ</td>\n",
              "      <td>VG</td>\n",
              "      <td>V N</td>\n",
              "      <td>1</td>\n",
              "      <td>9034-V-174154</td>\n",
              "      <td>9034-V</td>\n",
              "      <td>V</td>\n",
              "      <td>9034</td>\n",
              "      <td>174154</td>\n",
              "    </tr>\n",
              "    <tr>\n",
              "      <th>...</th>\n",
              "      <td>...</td>\n",
              "      <td>...</td>\n",
              "      <td>...</td>\n",
              "      <td>...</td>\n",
              "      <td>...</td>\n",
              "      <td>...</td>\n",
              "      <td>...</td>\n",
              "      <td>...</td>\n",
              "      <td>...</td>\n",
              "      <td>...</td>\n",
              "      <td>...</td>\n",
              "    </tr>\n",
              "    <tr>\n",
              "      <th>38580</th>\n",
              "      <td>ОДЕРЖАТЬ ВЕРХ</td>\n",
              "      <td>ОДЕРЖАТЬ ВЕРХ</td>\n",
              "      <td>ОДЕРЖАТЬ</td>\n",
              "      <td>VG</td>\n",
              "      <td>V Adj</td>\n",
              "      <td>1</td>\n",
              "      <td>106959-V-144559</td>\n",
              "      <td>106959-V</td>\n",
              "      <td>V</td>\n",
              "      <td>106959</td>\n",
              "      <td>144559</td>\n",
              "    </tr>\n",
              "    <tr>\n",
              "      <th>38581</th>\n",
              "      <td>ОДЕРЖИВАТЬ ВЕРХ</td>\n",
              "      <td>ОДЕРЖИВАТЬ ВЕРХ</td>\n",
              "      <td>ОДЕРЖИВАТЬ</td>\n",
              "      <td>VG</td>\n",
              "      <td>V Adj</td>\n",
              "      <td>1</td>\n",
              "      <td>106959-V-208558</td>\n",
              "      <td>106959-V</td>\n",
              "      <td>V</td>\n",
              "      <td>106959</td>\n",
              "      <td>208558</td>\n",
              "    </tr>\n",
              "    <tr>\n",
              "      <th>38582</th>\n",
              "      <td>ОДОЛЕТЬ</td>\n",
              "      <td>ОДОЛЕТЬ</td>\n",
              "      <td>NaN</td>\n",
              "      <td>V</td>\n",
              "      <td>NaN</td>\n",
              "      <td>2</td>\n",
              "      <td>106959-V-144577</td>\n",
              "      <td>106959-V</td>\n",
              "      <td>V</td>\n",
              "      <td>106959</td>\n",
              "      <td>144577</td>\n",
              "    </tr>\n",
              "    <tr>\n",
              "      <th>38583</th>\n",
              "      <td>ПОБОРОТЬ</td>\n",
              "      <td>ПОБОРОТЬ</td>\n",
              "      <td>NaN</td>\n",
              "      <td>V</td>\n",
              "      <td>NaN</td>\n",
              "      <td>2</td>\n",
              "      <td>106959-V-147256</td>\n",
              "      <td>106959-V</td>\n",
              "      <td>V</td>\n",
              "      <td>106959</td>\n",
              "      <td>147256</td>\n",
              "    </tr>\n",
              "    <tr>\n",
              "      <th>38584</th>\n",
              "      <td>ТОРЖЕСТВОВАТЬ</td>\n",
              "      <td>ТОРЖЕСТВОВАТЬ</td>\n",
              "      <td>NaN</td>\n",
              "      <td>V</td>\n",
              "      <td>NaN</td>\n",
              "      <td>2</td>\n",
              "      <td>106959-V-162736</td>\n",
              "      <td>106959-V</td>\n",
              "      <td>V</td>\n",
              "      <td>106959</td>\n",
              "      <td>162736</td>\n",
              "    </tr>\n",
              "  </tbody>\n",
              "</table>\n",
              "<p>38585 rows × 11 columns</p>\n",
              "</div>"
            ],
            "text/plain": [
              "                      name                lemma  ... concept_id entry_id\n",
              "0            ИЗМЕНЯТЬ МУЖУ         ИЗМЕНЯТЬ МУЖ  ...       9034   756764\n",
              "1            ИЗМЕНЯТЬ ЖЕНЕ        ИЗМЕНЯТЬ ЖЕНА  ...       9034   756765\n",
              "2          НАСТАВЛЯТЬ РОГА       НАСТАВЛЯТЬ РОГ  ...       9034   748267\n",
              "3      ПОГУЛЯТЬ НА СТОРОНЕ  ПОГУЛЯТЬ НА СТОРОНА  ...       9034   730974\n",
              "4           НАСТАВИТЬ РОГА        НАСТАВИТЬ РОГ  ...       9034   174154\n",
              "...                    ...                  ...  ...        ...      ...\n",
              "38580        ОДЕРЖАТЬ ВЕРХ        ОДЕРЖАТЬ ВЕРХ  ...     106959   144559\n",
              "38581      ОДЕРЖИВАТЬ ВЕРХ      ОДЕРЖИВАТЬ ВЕРХ  ...     106959   208558\n",
              "38582              ОДОЛЕТЬ              ОДОЛЕТЬ  ...     106959   144577\n",
              "38583             ПОБОРОТЬ             ПОБОРОТЬ  ...     106959   147256\n",
              "38584        ТОРЖЕСТВОВАТЬ        ТОРЖЕСТВОВАТЬ  ...     106959   162736\n",
              "\n",
              "[38585 rows x 11 columns]"
            ]
          },
          "metadata": {},
          "execution_count": 116
        }
      ]
    },
    {
      "cell_type": "code",
      "metadata": {
        "id": "Jw6udlrXIVPk"
      },
      "source": [
        "df_base = pd.concat([dfN, dfA, dfV], axis=0)"
      ],
      "execution_count": null,
      "outputs": []
    },
    {
      "cell_type": "code",
      "metadata": {
        "id": "KY7epcOMJCes"
      },
      "source": [
        "df_base = df_base.drop_duplicates"
      ],
      "execution_count": null,
      "outputs": []
    },
    {
      "cell_type": "code",
      "metadata": {
        "colab": {
          "base_uri": "https://localhost:8080/",
          "height": 418
        },
        "id": "D0Hm7POUIZnO",
        "outputId": "eb930e4f-44d4-42d4-c51d-006240d5e3b5"
      },
      "source": [
        "df_base"
      ],
      "execution_count": null,
      "outputs": [
        {
          "output_type": "execute_result",
          "data": {
            "text/html": [
              "<div>\n",
              "<style scoped>\n",
              "    .dataframe tbody tr th:only-of-type {\n",
              "        vertical-align: middle;\n",
              "    }\n",
              "\n",
              "    .dataframe tbody tr th {\n",
              "        vertical-align: top;\n",
              "    }\n",
              "\n",
              "    .dataframe thead th {\n",
              "        text-align: right;\n",
              "    }\n",
              "</style>\n",
              "<table border=\"1\" class=\"dataframe\">\n",
              "  <thead>\n",
              "    <tr style=\"text-align: right;\">\n",
              "      <th></th>\n",
              "      <th>name</th>\n",
              "      <th>lemma</th>\n",
              "      <th>main_word</th>\n",
              "      <th>synt_type</th>\n",
              "      <th>poses</th>\n",
              "      <th>meaning</th>\n",
              "      <th>id</th>\n",
              "      <th>synset_id</th>\n",
              "      <th>part_of_speech</th>\n",
              "      <th>concept_id</th>\n",
              "      <th>entry_id</th>\n",
              "    </tr>\n",
              "  </thead>\n",
              "  <tbody>\n",
              "    <tr>\n",
              "      <th>0</th>\n",
              "      <td>ВЫЧИТКА</td>\n",
              "      <td>ВЫЧИТКА</td>\n",
              "      <td>NaN</td>\n",
              "      <td>N</td>\n",
              "      <td>NaN</td>\n",
              "      <td>1</td>\n",
              "      <td>130542-N</td>\n",
              "      <td>130542-N</td>\n",
              "      <td>N</td>\n",
              "      <td>130542</td>\n",
              "      <td>196389</td>\n",
              "    </tr>\n",
              "    <tr>\n",
              "      <th>1</th>\n",
              "      <td>ВЫЧИТКА ТЕКСТА</td>\n",
              "      <td>ВЫЧИТКА ТЕКСТ</td>\n",
              "      <td>ВЫЧИТКА</td>\n",
              "      <td>NG</td>\n",
              "      <td>N N</td>\n",
              "      <td>1</td>\n",
              "      <td>130542-N</td>\n",
              "      <td>130542-N</td>\n",
              "      <td>N</td>\n",
              "      <td>130542</td>\n",
              "      <td>729666</td>\n",
              "    </tr>\n",
              "    <tr>\n",
              "      <th>2</th>\n",
              "      <td>ВЫЧИТЫВАНИЕ</td>\n",
              "      <td>ВЫЧИТЫВАНИЕ</td>\n",
              "      <td>NaN</td>\n",
              "      <td>N</td>\n",
              "      <td>NaN</td>\n",
              "      <td>3</td>\n",
              "      <td>130542-N</td>\n",
              "      <td>130542-N</td>\n",
              "      <td>N</td>\n",
              "      <td>130542</td>\n",
              "      <td>196390</td>\n",
              "    </tr>\n",
              "    <tr>\n",
              "      <th>3</th>\n",
              "      <td>ГАРПУННАЯ ОХОТА</td>\n",
              "      <td>ГАРПУННЫЙ ОХОТА</td>\n",
              "      <td>ОХОТА</td>\n",
              "      <td>NG</td>\n",
              "      <td>Adj N</td>\n",
              "      <td>1</td>\n",
              "      <td>130544-N</td>\n",
              "      <td>130544-N</td>\n",
              "      <td>N</td>\n",
              "      <td>130544</td>\n",
              "      <td>741488</td>\n",
              "    </tr>\n",
              "    <tr>\n",
              "      <th>4</th>\n",
              "      <td>ГАРПУН</td>\n",
              "      <td>ГАРПУН</td>\n",
              "      <td>NaN</td>\n",
              "      <td>N</td>\n",
              "      <td>NaN</td>\n",
              "      <td>1</td>\n",
              "      <td>130545-N</td>\n",
              "      <td>130545-N</td>\n",
              "      <td>N</td>\n",
              "      <td>130545</td>\n",
              "      <td>181114</td>\n",
              "    </tr>\n",
              "    <tr>\n",
              "      <th>...</th>\n",
              "      <td>...</td>\n",
              "      <td>...</td>\n",
              "      <td>...</td>\n",
              "      <td>...</td>\n",
              "      <td>...</td>\n",
              "      <td>...</td>\n",
              "      <td>...</td>\n",
              "      <td>...</td>\n",
              "      <td>...</td>\n",
              "      <td>...</td>\n",
              "      <td>...</td>\n",
              "    </tr>\n",
              "    <tr>\n",
              "      <th>38580</th>\n",
              "      <td>ОДЕРЖАТЬ ВЕРХ</td>\n",
              "      <td>ОДЕРЖАТЬ ВЕРХ</td>\n",
              "      <td>ОДЕРЖАТЬ</td>\n",
              "      <td>VG</td>\n",
              "      <td>V Adj</td>\n",
              "      <td>1</td>\n",
              "      <td>106959-V-144559</td>\n",
              "      <td>106959-V</td>\n",
              "      <td>V</td>\n",
              "      <td>106959</td>\n",
              "      <td>144559</td>\n",
              "    </tr>\n",
              "    <tr>\n",
              "      <th>38581</th>\n",
              "      <td>ОДЕРЖИВАТЬ ВЕРХ</td>\n",
              "      <td>ОДЕРЖИВАТЬ ВЕРХ</td>\n",
              "      <td>ОДЕРЖИВАТЬ</td>\n",
              "      <td>VG</td>\n",
              "      <td>V Adj</td>\n",
              "      <td>1</td>\n",
              "      <td>106959-V-208558</td>\n",
              "      <td>106959-V</td>\n",
              "      <td>V</td>\n",
              "      <td>106959</td>\n",
              "      <td>208558</td>\n",
              "    </tr>\n",
              "    <tr>\n",
              "      <th>38582</th>\n",
              "      <td>ОДОЛЕТЬ</td>\n",
              "      <td>ОДОЛЕТЬ</td>\n",
              "      <td>NaN</td>\n",
              "      <td>V</td>\n",
              "      <td>NaN</td>\n",
              "      <td>2</td>\n",
              "      <td>106959-V-144577</td>\n",
              "      <td>106959-V</td>\n",
              "      <td>V</td>\n",
              "      <td>106959</td>\n",
              "      <td>144577</td>\n",
              "    </tr>\n",
              "    <tr>\n",
              "      <th>38583</th>\n",
              "      <td>ПОБОРОТЬ</td>\n",
              "      <td>ПОБОРОТЬ</td>\n",
              "      <td>NaN</td>\n",
              "      <td>V</td>\n",
              "      <td>NaN</td>\n",
              "      <td>2</td>\n",
              "      <td>106959-V-147256</td>\n",
              "      <td>106959-V</td>\n",
              "      <td>V</td>\n",
              "      <td>106959</td>\n",
              "      <td>147256</td>\n",
              "    </tr>\n",
              "    <tr>\n",
              "      <th>38584</th>\n",
              "      <td>ТОРЖЕСТВОВАТЬ</td>\n",
              "      <td>ТОРЖЕСТВОВАТЬ</td>\n",
              "      <td>NaN</td>\n",
              "      <td>V</td>\n",
              "      <td>NaN</td>\n",
              "      <td>2</td>\n",
              "      <td>106959-V-162736</td>\n",
              "      <td>106959-V</td>\n",
              "      <td>V</td>\n",
              "      <td>106959</td>\n",
              "      <td>162736</td>\n",
              "    </tr>\n",
              "  </tbody>\n",
              "</table>\n",
              "<p>154111 rows × 11 columns</p>\n",
              "</div>"
            ],
            "text/plain": [
              "                  name            lemma  ... concept_id entry_id\n",
              "0              ВЫЧИТКА          ВЫЧИТКА  ...     130542   196389\n",
              "1       ВЫЧИТКА ТЕКСТА    ВЫЧИТКА ТЕКСТ  ...     130542   729666\n",
              "2          ВЫЧИТЫВАНИЕ      ВЫЧИТЫВАНИЕ  ...     130542   196390\n",
              "3      ГАРПУННАЯ ОХОТА  ГАРПУННЫЙ ОХОТА  ...     130544   741488\n",
              "4               ГАРПУН           ГАРПУН  ...     130545   181114\n",
              "...                ...              ...  ...        ...      ...\n",
              "38580    ОДЕРЖАТЬ ВЕРХ    ОДЕРЖАТЬ ВЕРХ  ...     106959   144559\n",
              "38581  ОДЕРЖИВАТЬ ВЕРХ  ОДЕРЖИВАТЬ ВЕРХ  ...     106959   208558\n",
              "38582          ОДОЛЕТЬ          ОДОЛЕТЬ  ...     106959   144577\n",
              "38583         ПОБОРОТЬ         ПОБОРОТЬ  ...     106959   147256\n",
              "38584    ТОРЖЕСТВОВАТЬ    ТОРЖЕСТВОВАТЬ  ...     106959   162736\n",
              "\n",
              "[154111 rows x 11 columns]"
            ]
          },
          "metadata": {},
          "execution_count": 124
        }
      ]
    },
    {
      "cell_type": "code",
      "metadata": {
        "id": "an9nTYOkK6lZ"
      },
      "source": [
        "df_base = df_base.dropna(subset=['name', 'id'])"
      ],
      "execution_count": null,
      "outputs": []
    },
    {
      "cell_type": "code",
      "metadata": {
        "colab": {
          "base_uri": "https://localhost:8080/",
          "height": 418
        },
        "id": "t5USOhY9LFqm",
        "outputId": "fa8af4f5-878c-4af7-e884-def4ca28b457"
      },
      "source": [
        "df_base"
      ],
      "execution_count": null,
      "outputs": [
        {
          "output_type": "execute_result",
          "data": {
            "text/html": [
              "<div>\n",
              "<style scoped>\n",
              "    .dataframe tbody tr th:only-of-type {\n",
              "        vertical-align: middle;\n",
              "    }\n",
              "\n",
              "    .dataframe tbody tr th {\n",
              "        vertical-align: top;\n",
              "    }\n",
              "\n",
              "    .dataframe thead th {\n",
              "        text-align: right;\n",
              "    }\n",
              "</style>\n",
              "<table border=\"1\" class=\"dataframe\">\n",
              "  <thead>\n",
              "    <tr style=\"text-align: right;\">\n",
              "      <th></th>\n",
              "      <th>name</th>\n",
              "      <th>lemma</th>\n",
              "      <th>main_word</th>\n",
              "      <th>synt_type</th>\n",
              "      <th>poses</th>\n",
              "      <th>meaning</th>\n",
              "      <th>id</th>\n",
              "      <th>synset_id</th>\n",
              "      <th>part_of_speech</th>\n",
              "      <th>concept_id</th>\n",
              "      <th>entry_id</th>\n",
              "    </tr>\n",
              "  </thead>\n",
              "  <tbody>\n",
              "    <tr>\n",
              "      <th>0</th>\n",
              "      <td>ВЫЧИТКА</td>\n",
              "      <td>ВЫЧИТКА</td>\n",
              "      <td>NaN</td>\n",
              "      <td>N</td>\n",
              "      <td>NaN</td>\n",
              "      <td>1</td>\n",
              "      <td>130542-N</td>\n",
              "      <td>130542-N</td>\n",
              "      <td>N</td>\n",
              "      <td>130542</td>\n",
              "      <td>196389</td>\n",
              "    </tr>\n",
              "    <tr>\n",
              "      <th>1</th>\n",
              "      <td>ВЫЧИТКА ТЕКСТА</td>\n",
              "      <td>ВЫЧИТКА ТЕКСТ</td>\n",
              "      <td>ВЫЧИТКА</td>\n",
              "      <td>NG</td>\n",
              "      <td>N N</td>\n",
              "      <td>1</td>\n",
              "      <td>130542-N</td>\n",
              "      <td>130542-N</td>\n",
              "      <td>N</td>\n",
              "      <td>130542</td>\n",
              "      <td>729666</td>\n",
              "    </tr>\n",
              "    <tr>\n",
              "      <th>2</th>\n",
              "      <td>ВЫЧИТЫВАНИЕ</td>\n",
              "      <td>ВЫЧИТЫВАНИЕ</td>\n",
              "      <td>NaN</td>\n",
              "      <td>N</td>\n",
              "      <td>NaN</td>\n",
              "      <td>3</td>\n",
              "      <td>130542-N</td>\n",
              "      <td>130542-N</td>\n",
              "      <td>N</td>\n",
              "      <td>130542</td>\n",
              "      <td>196390</td>\n",
              "    </tr>\n",
              "    <tr>\n",
              "      <th>3</th>\n",
              "      <td>ГАРПУННАЯ ОХОТА</td>\n",
              "      <td>ГАРПУННЫЙ ОХОТА</td>\n",
              "      <td>ОХОТА</td>\n",
              "      <td>NG</td>\n",
              "      <td>Adj N</td>\n",
              "      <td>1</td>\n",
              "      <td>130544-N</td>\n",
              "      <td>130544-N</td>\n",
              "      <td>N</td>\n",
              "      <td>130544</td>\n",
              "      <td>741488</td>\n",
              "    </tr>\n",
              "    <tr>\n",
              "      <th>4</th>\n",
              "      <td>ГАРПУН</td>\n",
              "      <td>ГАРПУН</td>\n",
              "      <td>NaN</td>\n",
              "      <td>N</td>\n",
              "      <td>NaN</td>\n",
              "      <td>1</td>\n",
              "      <td>130545-N</td>\n",
              "      <td>130545-N</td>\n",
              "      <td>N</td>\n",
              "      <td>130545</td>\n",
              "      <td>181114</td>\n",
              "    </tr>\n",
              "    <tr>\n",
              "      <th>...</th>\n",
              "      <td>...</td>\n",
              "      <td>...</td>\n",
              "      <td>...</td>\n",
              "      <td>...</td>\n",
              "      <td>...</td>\n",
              "      <td>...</td>\n",
              "      <td>...</td>\n",
              "      <td>...</td>\n",
              "      <td>...</td>\n",
              "      <td>...</td>\n",
              "      <td>...</td>\n",
              "    </tr>\n",
              "    <tr>\n",
              "      <th>38580</th>\n",
              "      <td>ОДЕРЖАТЬ ВЕРХ</td>\n",
              "      <td>ОДЕРЖАТЬ ВЕРХ</td>\n",
              "      <td>ОДЕРЖАТЬ</td>\n",
              "      <td>VG</td>\n",
              "      <td>V Adj</td>\n",
              "      <td>1</td>\n",
              "      <td>106959-V-144559</td>\n",
              "      <td>106959-V</td>\n",
              "      <td>V</td>\n",
              "      <td>106959</td>\n",
              "      <td>144559</td>\n",
              "    </tr>\n",
              "    <tr>\n",
              "      <th>38581</th>\n",
              "      <td>ОДЕРЖИВАТЬ ВЕРХ</td>\n",
              "      <td>ОДЕРЖИВАТЬ ВЕРХ</td>\n",
              "      <td>ОДЕРЖИВАТЬ</td>\n",
              "      <td>VG</td>\n",
              "      <td>V Adj</td>\n",
              "      <td>1</td>\n",
              "      <td>106959-V-208558</td>\n",
              "      <td>106959-V</td>\n",
              "      <td>V</td>\n",
              "      <td>106959</td>\n",
              "      <td>208558</td>\n",
              "    </tr>\n",
              "    <tr>\n",
              "      <th>38582</th>\n",
              "      <td>ОДОЛЕТЬ</td>\n",
              "      <td>ОДОЛЕТЬ</td>\n",
              "      <td>NaN</td>\n",
              "      <td>V</td>\n",
              "      <td>NaN</td>\n",
              "      <td>2</td>\n",
              "      <td>106959-V-144577</td>\n",
              "      <td>106959-V</td>\n",
              "      <td>V</td>\n",
              "      <td>106959</td>\n",
              "      <td>144577</td>\n",
              "    </tr>\n",
              "    <tr>\n",
              "      <th>38583</th>\n",
              "      <td>ПОБОРОТЬ</td>\n",
              "      <td>ПОБОРОТЬ</td>\n",
              "      <td>NaN</td>\n",
              "      <td>V</td>\n",
              "      <td>NaN</td>\n",
              "      <td>2</td>\n",
              "      <td>106959-V-147256</td>\n",
              "      <td>106959-V</td>\n",
              "      <td>V</td>\n",
              "      <td>106959</td>\n",
              "      <td>147256</td>\n",
              "    </tr>\n",
              "    <tr>\n",
              "      <th>38584</th>\n",
              "      <td>ТОРЖЕСТВОВАТЬ</td>\n",
              "      <td>ТОРЖЕСТВОВАТЬ</td>\n",
              "      <td>NaN</td>\n",
              "      <td>V</td>\n",
              "      <td>NaN</td>\n",
              "      <td>2</td>\n",
              "      <td>106959-V-162736</td>\n",
              "      <td>106959-V</td>\n",
              "      <td>V</td>\n",
              "      <td>106959</td>\n",
              "      <td>162736</td>\n",
              "    </tr>\n",
              "  </tbody>\n",
              "</table>\n",
              "<p>154111 rows × 11 columns</p>\n",
              "</div>"
            ],
            "text/plain": [
              "                  name            lemma  ... concept_id entry_id\n",
              "0              ВЫЧИТКА          ВЫЧИТКА  ...     130542   196389\n",
              "1       ВЫЧИТКА ТЕКСТА    ВЫЧИТКА ТЕКСТ  ...     130542   729666\n",
              "2          ВЫЧИТЫВАНИЕ      ВЫЧИТЫВАНИЕ  ...     130542   196390\n",
              "3      ГАРПУННАЯ ОХОТА  ГАРПУННЫЙ ОХОТА  ...     130544   741488\n",
              "4               ГАРПУН           ГАРПУН  ...     130545   181114\n",
              "...                ...              ...  ...        ...      ...\n",
              "38580    ОДЕРЖАТЬ ВЕРХ    ОДЕРЖАТЬ ВЕРХ  ...     106959   144559\n",
              "38581  ОДЕРЖИВАТЬ ВЕРХ  ОДЕРЖИВАТЬ ВЕРХ  ...     106959   208558\n",
              "38582          ОДОЛЕТЬ          ОДОЛЕТЬ  ...     106959   144577\n",
              "38583         ПОБОРОТЬ         ПОБОРОТЬ  ...     106959   147256\n",
              "38584    ТОРЖЕСТВОВАТЬ    ТОРЖЕСТВОВАТЬ  ...     106959   162736\n",
              "\n",
              "[154111 rows x 11 columns]"
            ]
          },
          "metadata": {},
          "execution_count": 129
        }
      ]
    },
    {
      "cell_type": "code",
      "metadata": {
        "id": "lmv1k92WJcXj"
      },
      "source": [
        "ids_names = {}\n",
        "\n",
        "for index, row in df_base.iterrows():\n",
        "    ids_names[row['synset_id']] = row['name']"
      ],
      "execution_count": null,
      "outputs": []
    },
    {
      "cell_type": "code",
      "metadata": {
        "id": "cjSVF4LrLcRg"
      },
      "source": [
        "import json\n",
        "\n",
        "f = open(\"wordIDs.json\", \"w\")\n",
        "json.dump(ids_names, f)\n",
        "f.close()"
      ],
      "execution_count": null,
      "outputs": []
    },
    {
      "cell_type": "code",
      "metadata": {
        "colab": {
          "base_uri": "https://localhost:8080/",
          "height": 36
        },
        "id": "tWvTlkU_LtMx",
        "outputId": "e9aa1836-efbd-4c27-eb89-f35bfce1c075"
      },
      "source": [
        "ids_names['116202-V']"
      ],
      "execution_count": null,
      "outputs": [
        {
          "output_type": "execute_result",
          "data": {
            "application/vnd.google.colaboratory.intrinsic+json": {
              "type": "string"
            },
            "text/plain": [
              "'ПРОСВЕТИТЬ'"
            ]
          },
          "metadata": {},
          "execution_count": 133
        }
      ]
    },
    {
      "cell_type": "code",
      "metadata": {
        "id": "ojIpn_neMBVA"
      },
      "source": [
        "synonym_pairs = {}"
      ],
      "execution_count": null,
      "outputs": []
    },
    {
      "cell_type": "code",
      "metadata": {
        "colab": {
          "base_uri": "https://localhost:8080/",
          "height": 418
        },
        "id": "7X-kHDPXMiM6",
        "outputId": "f1747cf3-9428-44b9-c33b-9b002569d188"
      },
      "source": [
        "df"
      ],
      "execution_count": null,
      "outputs": [
        {
          "output_type": "execute_result",
          "data": {
            "text/html": [
              "<div>\n",
              "<style scoped>\n",
              "    .dataframe tbody tr th:only-of-type {\n",
              "        vertical-align: middle;\n",
              "    }\n",
              "\n",
              "    .dataframe tbody tr th {\n",
              "        vertical-align: top;\n",
              "    }\n",
              "\n",
              "    .dataframe thead th {\n",
              "        text-align: right;\n",
              "    }\n",
              "</style>\n",
              "<table border=\"1\" class=\"dataframe\">\n",
              "  <thead>\n",
              "    <tr style=\"text-align: right;\">\n",
              "      <th></th>\n",
              "      <th>name</th>\n",
              "      <th>child_id</th>\n",
              "      <th>parent_id</th>\n",
              "    </tr>\n",
              "  </thead>\n",
              "  <tbody>\n",
              "    <tr>\n",
              "      <th>2</th>\n",
              "      <td>POS-synonymy</td>\n",
              "      <td>130542-V</td>\n",
              "      <td>130542-N</td>\n",
              "    </tr>\n",
              "    <tr>\n",
              "      <th>7</th>\n",
              "      <td>POS-synonymy</td>\n",
              "      <td>130544-V</td>\n",
              "      <td>130544-N</td>\n",
              "    </tr>\n",
              "    <tr>\n",
              "      <th>11</th>\n",
              "      <td>POS-synonymy</td>\n",
              "      <td>130545-A</td>\n",
              "      <td>130545-N</td>\n",
              "    </tr>\n",
              "    <tr>\n",
              "      <th>16</th>\n",
              "      <td>POS-synonymy</td>\n",
              "      <td>130547-V</td>\n",
              "      <td>130547-N</td>\n",
              "    </tr>\n",
              "    <tr>\n",
              "      <th>19</th>\n",
              "      <td>POS-synonymy</td>\n",
              "      <td>130550-V</td>\n",
              "      <td>130550-N</td>\n",
              "    </tr>\n",
              "    <tr>\n",
              "      <th>...</th>\n",
              "      <td>...</td>\n",
              "      <td>...</td>\n",
              "      <td>...</td>\n",
              "    </tr>\n",
              "    <tr>\n",
              "      <th>181428</th>\n",
              "      <td>POS-synonymy</td>\n",
              "      <td>9483-A</td>\n",
              "      <td>9483-N</td>\n",
              "    </tr>\n",
              "    <tr>\n",
              "      <th>181433</th>\n",
              "      <td>POS-synonymy</td>\n",
              "      <td>9484-A</td>\n",
              "      <td>9484-N</td>\n",
              "    </tr>\n",
              "    <tr>\n",
              "      <th>181447</th>\n",
              "      <td>POS-synonymy</td>\n",
              "      <td>9487-A</td>\n",
              "      <td>9487-N</td>\n",
              "    </tr>\n",
              "    <tr>\n",
              "      <th>181456</th>\n",
              "      <td>POS-synonymy</td>\n",
              "      <td>9488-A</td>\n",
              "      <td>9488-N</td>\n",
              "    </tr>\n",
              "    <tr>\n",
              "      <th>181473</th>\n",
              "      <td>POS-synonymy</td>\n",
              "      <td>9490-A</td>\n",
              "      <td>9490-N</td>\n",
              "    </tr>\n",
              "  </tbody>\n",
              "</table>\n",
              "<p>20758 rows × 3 columns</p>\n",
              "</div>"
            ],
            "text/plain": [
              "                name  child_id parent_id\n",
              "2       POS-synonymy  130542-V  130542-N\n",
              "7       POS-synonymy  130544-V  130544-N\n",
              "11      POS-synonymy  130545-A  130545-N\n",
              "16      POS-synonymy  130547-V  130547-N\n",
              "19      POS-synonymy  130550-V  130550-N\n",
              "...              ...       ...       ...\n",
              "181428  POS-synonymy    9483-A    9483-N\n",
              "181433  POS-synonymy    9484-A    9484-N\n",
              "181447  POS-synonymy    9487-A    9487-N\n",
              "181456  POS-synonymy    9488-A    9488-N\n",
              "181473  POS-synonymy    9490-A    9490-N\n",
              "\n",
              "[20758 rows x 3 columns]"
            ]
          },
          "metadata": {},
          "execution_count": 151
        }
      ]
    },
    {
      "cell_type": "code",
      "metadata": {
        "id": "yzT7O8YrMjjU"
      },
      "source": [
        "for index, row in df.iterrows():\n",
        "    synonym_pairs[ids_names[row['child_id']]] =  ids_names[row['parent_id']]"
      ],
      "execution_count": null,
      "outputs": []
    },
    {
      "cell_type": "code",
      "metadata": {
        "id": "KX_8UxPSNT4w"
      },
      "source": [
        "synonym_pairs = {}"
      ],
      "execution_count": null,
      "outputs": []
    },
    {
      "cell_type": "code",
      "metadata": {
        "id": "nTEaAak2Ne9h"
      },
      "source": [
        "for index, row in df.iterrows():\n",
        "    synonym_pairs[ids_names[row['child_id']]] =  ids_names[row['parent_id']]"
      ],
      "execution_count": null,
      "outputs": []
    },
    {
      "cell_type": "code",
      "metadata": {
        "colab": {
          "base_uri": "https://localhost:8080/",
          "height": 418
        },
        "id": "nb7neY6pNoDT",
        "outputId": "4fbdb357-ef6a-4d4a-adef-8ecfcbc8667e"
      },
      "source": [
        "j = file_names[8]\n",
        "dfN = pd.read_xml(j)\n",
        "dfN"
      ],
      "execution_count": null,
      "outputs": [
        {
          "output_type": "execute_result",
          "data": {
            "text/html": [
              "<div>\n",
              "<style scoped>\n",
              "    .dataframe tbody tr th:only-of-type {\n",
              "        vertical-align: middle;\n",
              "    }\n",
              "\n",
              "    .dataframe tbody tr th {\n",
              "        vertical-align: top;\n",
              "    }\n",
              "\n",
              "    .dataframe thead th {\n",
              "        text-align: right;\n",
              "    }\n",
              "</style>\n",
              "<table border=\"1\" class=\"dataframe\">\n",
              "  <thead>\n",
              "    <tr style=\"text-align: right;\">\n",
              "      <th></th>\n",
              "      <th>name</th>\n",
              "      <th>child_id</th>\n",
              "      <th>parent_id</th>\n",
              "    </tr>\n",
              "  </thead>\n",
              "  <tbody>\n",
              "    <tr>\n",
              "      <th>0</th>\n",
              "      <td>hypernym</td>\n",
              "      <td>107675-V</td>\n",
              "      <td>9034-V</td>\n",
              "    </tr>\n",
              "    <tr>\n",
              "      <th>1</th>\n",
              "      <td>hypernym</td>\n",
              "      <td>117315-V</td>\n",
              "      <td>9034-V</td>\n",
              "    </tr>\n",
              "    <tr>\n",
              "      <th>2</th>\n",
              "      <td>hypernym</td>\n",
              "      <td>136176-V</td>\n",
              "      <td>9034-V</td>\n",
              "    </tr>\n",
              "    <tr>\n",
              "      <th>3</th>\n",
              "      <td>entailment</td>\n",
              "      <td>2485-V</td>\n",
              "      <td>9034-V</td>\n",
              "    </tr>\n",
              "    <tr>\n",
              "      <th>4</th>\n",
              "      <td>domain</td>\n",
              "      <td>7340-N</td>\n",
              "      <td>9034-V</td>\n",
              "    </tr>\n",
              "    <tr>\n",
              "      <th>...</th>\n",
              "      <td>...</td>\n",
              "      <td>...</td>\n",
              "      <td>...</td>\n",
              "    </tr>\n",
              "    <tr>\n",
              "      <th>35641</th>\n",
              "      <td>hyponym</td>\n",
              "      <td>115294-V</td>\n",
              "      <td>106959-V</td>\n",
              "    </tr>\n",
              "    <tr>\n",
              "      <th>35642</th>\n",
              "      <td>hypernym</td>\n",
              "      <td>115660-V</td>\n",
              "      <td>106959-V</td>\n",
              "    </tr>\n",
              "    <tr>\n",
              "      <th>35643</th>\n",
              "      <td>hyponym</td>\n",
              "      <td>116057-V</td>\n",
              "      <td>106959-V</td>\n",
              "    </tr>\n",
              "    <tr>\n",
              "      <th>35644</th>\n",
              "      <td>hyponym</td>\n",
              "      <td>117601-V</td>\n",
              "      <td>106959-V</td>\n",
              "    </tr>\n",
              "    <tr>\n",
              "      <th>35645</th>\n",
              "      <td>hyponym</td>\n",
              "      <td>140684-V</td>\n",
              "      <td>106959-V</td>\n",
              "    </tr>\n",
              "  </tbody>\n",
              "</table>\n",
              "<p>35646 rows × 3 columns</p>\n",
              "</div>"
            ],
            "text/plain": [
              "             name  child_id parent_id\n",
              "0        hypernym  107675-V    9034-V\n",
              "1        hypernym  117315-V    9034-V\n",
              "2        hypernym  136176-V    9034-V\n",
              "3      entailment    2485-V    9034-V\n",
              "4          domain    7340-N    9034-V\n",
              "...           ...       ...       ...\n",
              "35641     hyponym  115294-V  106959-V\n",
              "35642    hypernym  115660-V  106959-V\n",
              "35643     hyponym  116057-V  106959-V\n",
              "35644     hyponym  117601-V  106959-V\n",
              "35645     hyponym  140684-V  106959-V\n",
              "\n",
              "[35646 rows x 3 columns]"
            ]
          },
          "metadata": {},
          "execution_count": 178
        }
      ]
    },
    {
      "cell_type": "code",
      "metadata": {
        "id": "dG_S_W1mPBEx"
      },
      "source": [
        "dfN = dfN[dfN.name == 'POS-synonymy']"
      ],
      "execution_count": null,
      "outputs": []
    },
    {
      "cell_type": "code",
      "metadata": {
        "colab": {
          "base_uri": "https://localhost:8080/",
          "height": 418
        },
        "id": "IwYI0-ZSPExX",
        "outputId": "255a4153-2844-4367-8e37-e9386eb03fd8"
      },
      "source": [
        "dfN"
      ],
      "execution_count": null,
      "outputs": [
        {
          "output_type": "execute_result",
          "data": {
            "text/html": [
              "<div>\n",
              "<style scoped>\n",
              "    .dataframe tbody tr th:only-of-type {\n",
              "        vertical-align: middle;\n",
              "    }\n",
              "\n",
              "    .dataframe tbody tr th {\n",
              "        vertical-align: top;\n",
              "    }\n",
              "\n",
              "    .dataframe thead th {\n",
              "        text-align: right;\n",
              "    }\n",
              "</style>\n",
              "<table border=\"1\" class=\"dataframe\">\n",
              "  <thead>\n",
              "    <tr style=\"text-align: right;\">\n",
              "      <th></th>\n",
              "      <th>name</th>\n",
              "      <th>child_id</th>\n",
              "      <th>parent_id</th>\n",
              "    </tr>\n",
              "  </thead>\n",
              "  <tbody>\n",
              "    <tr>\n",
              "      <th>5</th>\n",
              "      <td>POS-synonymy</td>\n",
              "      <td>9034-N</td>\n",
              "      <td>9034-V</td>\n",
              "    </tr>\n",
              "    <tr>\n",
              "      <th>7</th>\n",
              "      <td>POS-synonymy</td>\n",
              "      <td>5227-A</td>\n",
              "      <td>5227-V</td>\n",
              "    </tr>\n",
              "    <tr>\n",
              "      <th>8</th>\n",
              "      <td>POS-synonymy</td>\n",
              "      <td>5227-N</td>\n",
              "      <td>5227-V</td>\n",
              "    </tr>\n",
              "    <tr>\n",
              "      <th>12</th>\n",
              "      <td>POS-synonymy</td>\n",
              "      <td>7260-N</td>\n",
              "      <td>7260-V</td>\n",
              "    </tr>\n",
              "    <tr>\n",
              "      <th>23</th>\n",
              "      <td>POS-synonymy</td>\n",
              "      <td>464-A</td>\n",
              "      <td>464-V</td>\n",
              "    </tr>\n",
              "    <tr>\n",
              "      <th>...</th>\n",
              "      <td>...</td>\n",
              "      <td>...</td>\n",
              "      <td>...</td>\n",
              "    </tr>\n",
              "    <tr>\n",
              "      <th>35629</th>\n",
              "      <td>POS-synonymy</td>\n",
              "      <td>112074-A</td>\n",
              "      <td>112074-V</td>\n",
              "    </tr>\n",
              "    <tr>\n",
              "      <th>35630</th>\n",
              "      <td>POS-synonymy</td>\n",
              "      <td>112074-N</td>\n",
              "      <td>112074-V</td>\n",
              "    </tr>\n",
              "    <tr>\n",
              "      <th>35634</th>\n",
              "      <td>POS-synonymy</td>\n",
              "      <td>111344-N</td>\n",
              "      <td>111344-V</td>\n",
              "    </tr>\n",
              "    <tr>\n",
              "      <th>35637</th>\n",
              "      <td>POS-synonymy</td>\n",
              "      <td>112922-A</td>\n",
              "      <td>112922-V</td>\n",
              "    </tr>\n",
              "    <tr>\n",
              "      <th>35638</th>\n",
              "      <td>POS-synonymy</td>\n",
              "      <td>112922-N</td>\n",
              "      <td>112922-V</td>\n",
              "    </tr>\n",
              "  </tbody>\n",
              "</table>\n",
              "<p>8000 rows × 3 columns</p>\n",
              "</div>"
            ],
            "text/plain": [
              "               name  child_id parent_id\n",
              "5      POS-synonymy    9034-N    9034-V\n",
              "7      POS-synonymy    5227-A    5227-V\n",
              "8      POS-synonymy    5227-N    5227-V\n",
              "12     POS-synonymy    7260-N    7260-V\n",
              "23     POS-synonymy     464-A     464-V\n",
              "...             ...       ...       ...\n",
              "35629  POS-synonymy  112074-A  112074-V\n",
              "35630  POS-synonymy  112074-N  112074-V\n",
              "35634  POS-synonymy  111344-N  111344-V\n",
              "35637  POS-synonymy  112922-A  112922-V\n",
              "35638  POS-synonymy  112922-N  112922-V\n",
              "\n",
              "[8000 rows x 3 columns]"
            ]
          },
          "metadata": {},
          "execution_count": 180
        }
      ]
    },
    {
      "cell_type": "code",
      "metadata": {
        "id": "j6AoWKKhOMmq"
      },
      "source": [
        "for index, row in dfN.iterrows():\n",
        "    synonym_pairs[ids_names[row['child_id']]] =  ids_names[row['parent_id']]"
      ],
      "execution_count": null,
      "outputs": []
    },
    {
      "cell_type": "code",
      "metadata": {
        "colab": {
          "base_uri": "https://localhost:8080/"
        },
        "id": "bjA9mf1dOXmU",
        "outputId": "d7aa9824-7ba6-402a-f075-28c975477ffd"
      },
      "source": [
        "len(synonym_pairs)"
      ],
      "execution_count": null,
      "outputs": [
        {
          "output_type": "execute_result",
          "data": {
            "text/plain": [
              "36781"
            ]
          },
          "metadata": {},
          "execution_count": 182
        }
      ]
    },
    {
      "cell_type": "code",
      "metadata": {
        "id": "Nr8IXsroQNJ2"
      },
      "source": [
        "q = synonym_pairs"
      ],
      "execution_count": null,
      "outputs": []
    },
    {
      "cell_type": "code",
      "metadata": {
        "id": "m9IB4t8xQWTz"
      },
      "source": [
        "import json\n",
        "\n",
        "f = open(\"synonym_pairs.json\", \"w\")\n",
        "json.dump(ids_names, f)\n",
        "f.close()"
      ],
      "execution_count": null,
      "outputs": []
    },
    {
      "cell_type": "code",
      "metadata": {
        "id": "Jl_X3zdLQjYG"
      },
      "source": [
        "synonym_pairs = list(set(synonym_pairs))"
      ],
      "execution_count": null,
      "outputs": []
    },
    {
      "cell_type": "code",
      "metadata": {
        "colab": {
          "base_uri": "https://localhost:8080/"
        },
        "id": "LpxTcAPIQvtD",
        "outputId": "830741b8-1d89-41d0-8595-c0cc4807dc71"
      },
      "source": [
        "q"
      ],
      "execution_count": null,
      "outputs": [
        {
          "output_type": "execute_result",
          "data": {
            "text/plain": [
              "{'УКРОТИТЕЛЬНИЦА': 'УКРОТИТЕЛЬСКИЙ',\n",
              " 'ТИХИЙ ОКЕАН': 'ТИХООКЕАНСКИЙ',\n",
              " 'АТЛАНТИКА': 'АТЛАНТИЧЕСКИЙ',\n",
              " 'КАСПИЙСКОЕ МОРЕ': 'КАСПИЙСКИЙ',\n",
              " 'РЕЧУШКА': 'РЕЧНОЙ',\n",
              " 'РЕСПУБЛИКА В СОСТАВЕ РФ': 'РЕСПУБЛИКАНСКИЙ',\n",
              " 'ЮГО-ВОСТОК': 'ЮГО-ВОСТОЧНЫЙ',\n",
              " 'ЮГО-ЗАПАДНАЯ ЧАСТЬ': 'ЮГО-ЗАПАДНЫЙ',\n",
              " 'СЕВЕРО-ВОСТОЧНАЯ ЧАСТЬ': 'СЕВЕРО-ВОСТОЧНЫЙ',\n",
              " 'СЕВЕРО-ЗАПАД': 'СЕВЕРО-ЗАПАДНЫЙ',\n",
              " 'НАРОД В ЭТНИЧЕСКОМ СМЫСЛЕ': 'НАРОДНЫЙ',\n",
              " 'ТАТАРКА': 'ТАТАРСКИЙ',\n",
              " 'ЭНТОМОЛОГИЯ': 'ЭНТОМОЛОГИЧЕСКИЙ',\n",
              " 'БЕЛОРУСЬ': 'БЕЛОРУССКИЙ',\n",
              " 'КАЗАХСКАЯ РЕСПУБЛИКА': 'КАЗАХСТАНСКИЙ',\n",
              " 'КИРГИЗИЯ': 'КИРГИЗСКИЙ',\n",
              " 'МАЛОРОССИЯ': 'ВСЕУКРАИНСКИЙ',\n",
              " 'ОЗЕРКО': 'ОЗЕРНЫЙ',\n",
              " 'ПРОТОКА': 'ПРОТОЧНЫЙ',\n",
              " 'ПРИТОК РЕКИ': 'ПРИТОЧНЫЙ',\n",
              " 'ВОДОПАД': 'ВОДОПАДНЫЙ',\n",
              " 'БАЛЛОТИРОВАНИЕ': 'БАЛЛОТИРОВАТЬСЯ',\n",
              " 'БАЛЛОТИРОВАТЬСЯ': 'БАЛЛОТИРОВАНИЕ',\n",
              " 'ПРОЛИВ': 'ПРОЛИВНЫЙ',\n",
              " 'ЛИДЕР СТРАНЫ': 'ПРАВИТЕЛЬСКИЙ',\n",
              " 'ДОЛИНА': 'ДОЛИННЫЙ',\n",
              " 'ПЛОСКОГОРЬЕ': 'ПЛОСКОГОРНЫЙ',\n",
              " 'СУХУМ': 'СУХУМСКИЙ',\n",
              " 'ГАГРЫ': 'ГАГРИНСКИЙ',\n",
              " 'ГУДАУТА': 'ГУДАУТСКИЙ',\n",
              " 'ОЧАМЧИРА': 'ОЧАМЧИРСКИЙ',\n",
              " 'АДЫГЕЯ': 'АДЫГЕЙСКИЙ',\n",
              " 'МАЙКОП': 'МАЙКОПСКИЙ',\n",
              " 'АЗЕРБАЙДЖАН': 'АЗЕРБАЙДЖАНСКИЙ',\n",
              " 'БАКУ': 'БАКИНСКИЙ',\n",
              " 'КИРОВОБАД': 'ГЯНДЖИНСКИЙ',\n",
              " 'ТЕННИСНЫЙ КОРТ': 'КОРТОВЫЙ',\n",
              " 'ШЕМАХА': 'ШЕМАХИНСКИЙ',\n",
              " 'СУМГАИТ': 'СУМГАЙЫТСКИЙ',\n",
              " 'Г. ДЖЕБРАИЛ': 'ДЖЕБРАИЛЬСКИЙ',\n",
              " 'НАФТАЛАН': 'НАФТАЛАНСКИЙ',\n",
              " 'ЛЕНКОРАНЬ': 'ЛЕНКОРАНСКИЙ',\n",
              " 'МИНГЕЧАУР': 'МИНГЕЧАУРСКИЙ',\n",
              " 'ДЖАЛИЛАБАД': 'ДЖАЛИЛАБАДСКИЙ',\n",
              " 'НАХИЧЕВАНЬ': 'НАХИЧЕВАНСКИЙ',\n",
              " 'АКТЮБИНСКАЯ ОБЛАСТЬ': 'АКТЮБИНСКИЙ',\n",
              " 'ТЕХНОГЕННАЯ АВАРИЯ': 'АВАРИЙНЫЙ',\n",
              " 'ХОХЛОМА': 'ХОХЛОМСКОЙ',\n",
              " 'СЛАВГОРОД': 'СЛАВГОРОДСКИЙ',\n",
              " 'ЗМЕИНОГОРСК': 'ЗМЕИНОГОРСКИЙ',\n",
              " 'НОВОАЛТАЙСК': 'НОВОАЛТАЙСКИЙ',\n",
              " 'Г. ЗЕЯ': 'ЗЕЙСКИЙ',\n",
              " 'ТЫНДА': 'ТЫНДИНСКИЙ',\n",
              " 'РАЙЧИХИНСК': 'РАЙЧИХИНСКИЙ',\n",
              " 'РЕКА АМУР': 'АМУРСКИЙ',\n",
              " 'РЕКА ЗЕЯ': 'ЗЕЙСКИЙ',\n",
              " 'КИТОЙ': 'КИТОЙСКИЙ',\n",
              " 'АНДИЖАНСКАЯ ОБЛАСТЬ': 'АНДИЖАНСКИЙ',\n",
              " 'АРАЛ': 'АРАЛЬСКИЙ',\n",
              " 'АМУ-ДАРЬЯ': 'АМУДАРЬИНСКИЙ',\n",
              " 'АРМЕНИЯ': 'АРМЯНСКИЙ',\n",
              " 'АРМЯНСКАЯ СТОЛИЦА': 'ЕРЕВАНСКИЙ',\n",
              " 'ГЕОДИНАМИЧЕСКАЯ АКТИВНОСТЬ': 'СЕЙСМОАКТИВНЫЙ',\n",
              " 'КАФАН': 'КАПАН',\n",
              " 'ГОРОД РАЗДАН': 'РАЗДАНСКИЙ',\n",
              " 'АРЕСТАНТ': 'АРЕСТАНТСКИЙ',\n",
              " 'СПИТАК': 'СПИТАКСКИЙ',\n",
              " 'ВАНАДЗОР': 'ВАНАДЗОРСКИЙ',\n",
              " 'БАНКОМАТ': 'БАНКОМАТНЫЙ',\n",
              " 'ЦАХКАДЗОР': 'ЦАХКАДЗОРСКИЙ',\n",
              " 'ЭЧМИАДЗИН': 'ЭЧМИАДЗИНСКИЙ',\n",
              " 'СЕВАН': 'СЕВАНСКИЙ',\n",
              " 'АРХАНГЕЛЬСК': 'АРХАНГЕЛОГОРОДСКИЙ',\n",
              " 'КОТЛАС': 'КОТЛАССКИЙ',\n",
              " 'НЯНДОМА': 'НЯНДОМСКИЙ',\n",
              " 'КАРГОПОЛЬ': 'КАРГОПОЛЬСКИЙ',\n",
              " 'НОВОДВИНСК': 'НОВОДВИНСКИЙ',\n",
              " 'СОЛЬВЫЧЕГОДСК': 'СОЛЬВЫЧЕГОДСКИЙ',\n",
              " 'АСТРАХАНСКАЯ ОБЛАСТЬ': 'АСТРАХАНСКИЙ',\n",
              " 'АСТРАХАНЬ': 'АСТРАХАНСКИЙ',\n",
              " 'ХАРАБАЛИ': 'ХАРАБАЛИНСКИЙ',\n",
              " 'АХТУБИНСК': 'АХТУБИНСКИЙ',\n",
              " 'БАСКУНЧАК': 'БАСКУНЧАКСКИЙ',\n",
              " 'ОЗЕРО БАЙКАЛ': 'БАЙКАЛЬСКИЙ',\n",
              " 'ОЛЬХОН': 'ОЛЬХОНСКИЙ',\n",
              " 'БАЛТИЙСКОЕ МОРЕ': 'БАЛТИЙСКИЙ',\n",
              " 'РЕВМАТОЛОГИЯ': 'РЕВМАТОЛОГИЧЕСКИЙ',\n",
              " 'БАШКИРСКАЯ ССР': 'БАШКИРСКИЙ',\n",
              " 'Г. УФА': 'УФИМСКИЙ',\n",
              " 'БИРСК': 'БИРСКИЙ',\n",
              " 'МЕЛЕУЗ': 'МЕЛЕУЗСКИЙ',\n",
              " 'БЕЛЕБЕЙ': 'БЕЛЕБЕЕВСКИЙ',\n",
              " 'ИШИМБАЙ': 'ИШИМБАЙСКИЙ',\n",
              " 'ТУЙМАЗЫ': 'ТУЙМАЗИНСКИЙ',\n",
              " 'БЕЛОРЕЦК': 'БЕЛОРЕЦКИЙ',\n",
              " 'НЕФТЕКАМСК': 'НЕФТЕКАМСКИЙ',\n",
              " 'СТЕРЛИТАМАК': 'СТЕРЛИТАМАКСКИЙ',\n",
              " 'ГАНДБОЛ': 'ГАНДБОЛЬНЫЙ',\n",
              " 'БЕЛОРУССКАЯ СТОЛИЦА': 'МИНСКИЙ',\n",
              " 'ПОЛЕСЬЕ': 'ПОЛЕССКИЙ',\n",
              " 'БЕЛГОРОД': 'БЕЛГОРОДСКИЙ',\n",
              " 'Г. КОРОЧА': 'КОРОЧАНСКИЙ',\n",
              " 'ВАЛУЙКИ': 'ВАЛУЙСКИЙ',\n",
              " 'ШЕБЕКИНО': 'ШЕБЕКИНСКИЙ',\n",
              " 'ГРАЙВОРОН': 'ГРАЙВОРОНСКИЙ',\n",
              " 'БЕЛОМОРЬЕ': 'БЕЛОМОРСКИЙ',\n",
              " 'БЕРИНГОВО МОРЕ': 'БЕРИНГОВОМОРСКИЙ',\n",
              " 'ОСТРОВ КАРАГИНСКИЙ': 'О. КАРАГИНСКИЙ',\n",
              " 'БРЕСТСКАЯ ОБЛАСТЬ': 'БРЕСТСКИЙ',\n",
              " 'ПИНСК': 'ПИНСКИЙ',\n",
              " 'БАРАНОВИЧИ': 'БАРАНОВИЧСКИЙ',\n",
              " 'БРЯНСК': 'БРЯНСКИЙ',\n",
              " 'ПОЧЕП': 'ПОЧЕПСКИЙ',\n",
              " 'НОВОЗЫБКОВ': 'НОВОЗЫБКОВСКИЙ',\n",
              " 'БУРЯТСКАЯ РЕСПУБЛИКА': 'БУРЯТСКИЙ',\n",
              " 'УЛАН-УДЭ': 'УЛАН-УДЭНСКИЙ',\n",
              " 'КЯХТА': 'КЯХТИНСКИЙ',\n",
              " 'ГУСИНООЗЕРСК': 'ГУСИНООЗЕРСКИЙ',\n",
              " 'СЕВЕРОБАЙКАЛЬСК': 'СЕВЕРОБАЙКАЛЬСКИЙ',\n",
              " 'БУХАРА': 'БУХАРСКИЙ',\n",
              " 'ВИННИЦКАЯ ОБЛАСТЬ': 'ВИННИЦКИЙ',\n",
              " 'ШАРГОРОД': 'ШАРГОРОДСКИЙ',\n",
              " 'ВИТЕБСК': 'ВИТЕБСКИЙ',\n",
              " 'ОРША': 'ОРШАНСКИЙ',\n",
              " 'ПОЛОЦК': 'ПОЛОЦКИЙ',\n",
              " 'НОВОПОЛОЦК': 'НОВОПОЛОЦКИЙ',\n",
              " 'ДИЕТИКА': 'ДИЕТОЛОГИЧЕСКИЙ',\n",
              " 'МУРОМ': 'МУРОМСКИЙ',\n",
              " 'КИРЖАЧ': 'КИРЖАЧСКИЙ',\n",
              " 'ГОРОД КОВРОВ': 'КОВРОВСКИЙ',\n",
              " 'СУДОГДА': 'СУДОГДСКИЙ',\n",
              " 'СУЗДАЛЬ': 'СУЗДАЛЬСКИЙ',\n",
              " 'ГОРОХОВЕЦ': 'ГОРОХОВЕЦКИЙ',\n",
              " 'ДОЛОМИТ': 'ДОЛОМИТОВЫЙ',\n",
              " 'КОЛЬЧУГИНО': 'КОЛЬЧУГИНСКИЙ',\n",
              " 'ВОЛГА': 'ВОЛЖСКИЙ',\n",
              " 'РАДИАЦИОННО-АВАРИЙНАЯ СИТУАЦИЯ': 'РАДИАЦИОННО-АВАРИЙНЫЙ',\n",
              " 'БРАТ МАТЕРИ': 'ДЯДЮШКИН',\n",
              " 'ДИАКОН': 'ДЬЯКОНСКИЙ',\n",
              " 'СТАЛИНГРАД': 'СТАЛИНГРАДСКИЙ',\n",
              " 'ЕСТЕСТВЕННЫЙ МОНОПОЛИСТ': 'ЕСТЕСТВЕННО-МОНОПОЛЬНЫЙ',\n",
              " 'КАМЫШИН': 'КАМЫШИНСКИЙ',\n",
              " 'УРЮПИНСК': 'УРЮПИНСКИЙ',\n",
              " 'ЖЕРЕХ': 'ЖЕРЕХОВЫЙ',\n",
              " 'ВОЛОГОДСКАЯ ОБЛ.': 'ВОЛОГОДСКИЙ',\n",
              " 'ВЫТЕГРА': 'ВЫТЕГОРСКИЙ',\n",
              " 'УСТЮЖНА': 'УСТЮЖЕНСКИЙ',\n",
              " 'ЧЕРЕПОВЕЦ': 'ЧЕРЕПОВЕЦКИЙ',\n",
              " 'ВОЛЫНЬ': 'ВОЛЫНСКИЙ',\n",
              " 'КОВЕЛЬ': 'КОВЕЛЬСКИЙ',\n",
              " 'ВОРОНЕЖСКАЯ ОБЛАСТЬ': 'ВОРОНЕЖСКИЙ',\n",
              " 'ВОРОНЕЖ': 'ВОРОНЕЖСКИЙ',\n",
              " 'РОССОШЬ': 'РОССОШАНСКИЙ',\n",
              " 'СЕМИЛУКИ': 'СЕМИЛУКСКИЙ',\n",
              " 'ДЕВАЛЬВИРОВАНИЕ': 'ОБЕСЦЕНИТЬ ВАЛЮТУ',\n",
              " 'ОБЕСЦЕНИТЬ ВАЛЮТУ': 'ДЕВАЛЬВИРОВАНИЕ',\n",
              " 'ОСТРОГОЖСК': 'ОСТРОГОЖСКИЙ',\n",
              " 'НОВОХОПЕРСК': 'НОВОХОПЕРСКИЙ',\n",
              " 'ВОСТОЧНО-КАЗАХСТАНСКАЯ ОБЛАСТЬ': 'ВОСТОЧНО-КАЗАХСТАНСКИЙ',\n",
              " 'ПОЖАР': 'ПОЖАРНЫЙ',\n",
              " 'ИСПОВЕДЬ ВЕРУЮЩЕГО': 'ИСПОВЕДАЛЬНЫЙ',\n",
              " 'ГОМЕЛЬ': 'ГОМЕЛЬСКИЙ',\n",
              " 'ОБЕЗЬЯНКА': 'ОБЕЗЬЯНИЙ',\n",
              " 'МОЗЫРЬ': 'МОЗЫРЬСКИЙ',\n",
              " 'ГОРНО-БАДАХШАНСКАЯ ОБЛАСТЬ': 'ГОРНО-БАДАХШАНСКИЙ',\n",
              " 'ПАМИР': 'ПАМИРСКИЙ',\n",
              " 'ГРУЗИЯ': 'ГРУЗИНСКИЙ',\n",
              " 'ГРУЗИНСКАЯ СТОЛИЦА': 'ТБИЛИССКИЙ',\n",
              " 'АБХАЗИЯ': 'АБХАЗСКИЙ',\n",
              " 'АДЖАРСКАЯ АВТОНОМНАЯ РЕСПУБЛИКА': 'АДЖАРСКИЙ',\n",
              " 'КЛЕСТ': 'КЛЕСТОВЫЙ',\n",
              " 'ПОТИ': 'ПОТИЙСКИЙ',\n",
              " 'БАТУМИ': 'БАТУМСКИЙ',\n",
              " 'КОЛЛЕКЦИЯ': 'КОЛЛЕКЦИОННЫЙ',\n",
              " 'МЦХЕТА': 'МЦХЕТСКИЙ',\n",
              " 'Г. БОРЖОМИ': 'БОРЖОМСКИЙ',\n",
              " 'ЗУГДИДИ': 'ЗУГДИДСКИЙ',\n",
              " 'КУТАИСИ': 'КУТАИССКИЙ',\n",
              " 'РУСТАВИ': 'РУСТАВСКИЙ',\n",
              " 'ЦХИНВАЛИ': 'ЦХИНВАЛЬСКИЙ',\n",
              " 'МЕДИЦИНСКИЙ ПЛАСТЫРЬ': 'ЛЕЙКОПЛАСТЫРНЫЙ',\n",
              " 'АХАЛКАЛАКИ': 'АХАЛКАЛАКСКИЙ',\n",
              " 'ДАГЕСТАНСКАЯ АССР': 'ДАГЕСТАНСКИЙ',\n",
              " 'САРКОМА': 'САРКОМАТОЗНЫЙ',\n",
              " 'МАХАЧКАЛА': 'МАХАЧКАЛИНСКИЙ',\n",
              " 'КИЗЛЯР': 'КИЗЛЯРСКИЙ',\n",
              " 'ДЕРБЕНТ': 'ДЕРБЕНТСКИЙ',\n",
              " 'БУЙНАКСК': 'БУЙНАКСКИЙ',\n",
              " 'КИЗИЛЮРТ': 'КИЗИЛЮРТОВСКИЙ',\n",
              " 'ХАСАВЮРТ': 'ХАСАВЮРТОВСКИЙ',\n",
              " 'ЛЬНОВОДСТВО': 'ЛЬНОВОДЧЕСКИЙ',\n",
              " 'БОРИСФЕН': 'ДНЕПРОВСКИЙ',\n",
              " 'ДНЕПРОПЕТРОВСКАЯ ОБЛАСТЬ': 'ДНЕПРОПЕТРОВСКИЙ',\n",
              " 'ПАВЛОГРАД': 'ПАВЛОГРАДСКИЙ',\n",
              " 'ДНЕСТР': 'ДНЕСТРОВСКИЙ',\n",
              " 'МАССАЖИСТКА': 'МАССАЖИСТСКИЙ',\n",
              " 'РЕКА ДОН': 'ДОНСКОЙ',\n",
              " 'МЕРИНОС': 'МЕРИНОСОВЫЙ',\n",
              " 'ДОНЕЧЧИНА': 'ДОНЕЦКИЙ',\n",
              " 'МИНДАЛЬ': 'МИНДАЛЬНЫЙ',\n",
              " 'МАРИУПОЛЬ': 'МАРИУПОЛЬСКИЙ',\n",
              " 'ДЕБАЛЬЦЕВО': 'ДЕБАЛЬЦЕВСКИЙ',\n",
              " 'КРАМАТОРСК': 'КРАМАТОРСКИЙ',\n",
              " 'ГОРОД БЕЛОЗЕРСКОЕ': 'БЕЛОЗЕРСКОЕ',\n",
              " 'БИРОБИДЖАН': 'БИРОБИДЖАНСКИЙ',\n",
              " 'ОБЛУЧЬЕ': 'ОБЛУЧЕНСКИЙ',\n",
              " 'ЕНИСЕЙ': 'ЕНИСЕЙСКИЙ',\n",
              " 'ТУРУХАН': 'ТУРУХАНСКИЙ',\n",
              " 'ДЖЕЗКАЗГАНСКАЯ ОБЛАСТЬ': 'ДЖЕСКАЗГАНСКИЙ',\n",
              " 'ЖЕНСКИЙ ГОМОСЕКСУАЛИЗМ': 'ЛЕСБИЙСКИЙ',\n",
              " 'ЖИТОМИР': 'ЖИТОМИРСКИЙ',\n",
              " 'БЕРДИЧЕВ': 'БЕРДИЧЕВСКИЙ',\n",
              " 'ЗАКАРПАТЬЕ': 'ЗАКАРПАТСКИЙ',\n",
              " 'МУКАЧЕВО': 'МУКАЧЕВСКИЙ',\n",
              " 'ЗАПАДНАЯ СИБИРЬ': 'ЗАПАДНО-СИБИРСКИЙ',\n",
              " 'АЛТАЙ': 'АЛТАЙСКИЙ',\n",
              " 'ЗАПОРОЖЬЕ': 'ЗАПОРОЖСКИЙ',\n",
              " 'БЕРДЯНСК': 'БЕРДЯНСКИЙ',\n",
              " 'МЕЛИТОПОЛЬ': 'МЕЛИТОПОЛЬСКИЙ',\n",
              " 'РЕДКОЗЕМЕЛЬНЫЕ МЕТАЛЛЫ': 'РЕДКОЗЕМЕЛЬНЫЙ',\n",
              " 'ИВАНОВСКАЯ ОБЛ.': 'ИВАНОВСКИЙ',\n",
              " 'ВИЧУГА': 'ВИЧУГСКИЙ',\n",
              " 'КИНЕШМА': 'КИНЕШЕМСКИЙ',\n",
              " 'МОРФИН': 'МОРФИННЫЙ',\n",
              " 'ЮРЬЕВЕЦ': 'ЮРЬЕВЕЦКИЙ',\n",
              " 'ИВАНО-ФРАНКОВСК': 'ИВАНО-ФРАНКОВСКИЙ',\n",
              " 'ИРКУТСК': 'ИРКУТСКИЙ',\n",
              " 'ТУЛУН': 'ТУЛУНСКИЙ',\n",
              " 'БРАТСК': 'БРАТСКИЙ',\n",
              " 'ТАЙШЕТ': 'ТАЙШЕТСКИЙ',\n",
              " 'АНГАРСК': 'АНГАРСКИЙ',\n",
              " 'БОДАЙБО': 'БОДАЙБИНСКИЙ',\n",
              " 'КИРЕНСК': 'КИРЕНСКИЙ',\n",
              " 'ШЕЛЕХОВ': 'ШЕЛЕХОВСКИЙ',\n",
              " 'БИРЮСИНСК': 'БИРЮСИНСКИЙ',\n",
              " 'ЧЕРЕМХОВО': 'ЧЕРЕМХОВСКИЙ',\n",
              " 'НИЖНЕУДИНСК': 'НИЖНЕУДИНСКИЙ',\n",
              " 'РЕКА АНГАРА': 'АНГАРСКИЙ',\n",
              " 'ИРТЫШ': 'ИРТЫШСКИЙ',\n",
              " 'НАРКОЛОГИЯ': 'НАРКОЛОГИЧЕСКИЙ',\n",
              " 'НАРОДНЫЙ ЦЕЛИТЕЛЬ': 'ЗНАХАРСКИЙ',\n",
              " 'КАВКАЗСКИЙ РЕГИОН': 'КАВКАЗСКИЙ',\n",
              " 'КАЗБЕК': 'КАЗБЕКСКИЙ',\n",
              " 'НЕОРГАНИЧЕСКОЕ ВЕЩЕСТВО': 'НЕОРГАНИЧЕСКИЙ',\n",
              " 'ЭЛЬБРУС': 'ЭЛЬБРУССКИЙ',\n",
              " 'АЛМАТЫ': 'АЛМАТИНСКИЙ',\n",
              " 'АТЫРАУ': 'АТЫРАУСКИЙ',\n",
              " 'БАЛХАШ': 'БАЛХАШСКИЙ',\n",
              " 'КЕНИГСБЕРГ': 'КАЛИНИНГРАДСКИЙ',\n",
              " 'НЕМАН КАЛИНИНГРАДСКОЙ ОБЛАСТИ': 'НЕМАНСКИЙ',\n",
              " 'НЕРЕЗИДЕНТ': 'НЕРЕЗИДЕНТСКИЙ',\n",
              " 'СВЕТЛОГОРСК КАЛИНИНГРАДСКОЙ ОБЛАСТИ': 'СВЕТЛОГОРСКИЙ',\n",
              " 'ХАЛЬМГ ТАНГЧ': 'КАЛМЫЦКИЙ',\n",
              " 'ЭЛИСТА': 'ЭЛИСТИНСКИЙ',\n",
              " 'ГОРОДОВИКОВСК': 'ГОРОДОВИКОВСКИЙ',\n",
              " 'КАЛУЖСКАЯ ОБЛ.': 'КАЛУЖСКИЙ',\n",
              " 'КАЛУГА': 'КАЛУЖИЙ',\n",
              " 'ГОРОД ЮХНОВ': 'ЮХНОВСКИЙ',\n",
              " 'Г. ЖИЗДРА': 'ЖИЗДРИНСКИЙ',\n",
              " 'МЕДЫНЬ': 'МЕДЫНСКИЙ',\n",
              " 'ТАРУСА': 'ТАРУССКИЙ',\n",
              " 'ОБНИНСК': 'ОБНИНСКИЙ',\n",
              " 'КОЗЕЛЬСК': 'КОЗЕЛЬСКИЙ',\n",
              " 'КОНДРОВО': 'КОНДРОВСКИЙ',\n",
              " 'ЛЮДИНОВО': 'ЛЮДИНОВСКИЙ',\n",
              " 'МОСАЛЬСК': 'МОСАЛЬСКИЙ',\n",
              " 'СУХИНИЧИ': 'СУХИНИЧСКИЙ',\n",
              " 'БАЛАБАНОВО': 'БАЛАБАНОВСКИЙ',\n",
              " 'МАЛОЯРОСЛАВЕЦ': 'МАЛОЯРОСЛАВЕЦКИЙ',\n",
              " 'КАМА': 'КАМСКИЙ',\n",
              " 'КАМЧАТСКАЯ ОБЛ.': 'КАМЧАТСКИЙ',\n",
              " 'ЕЛИЗОВО': 'ЕЛИЗОВСКИЙ',\n",
              " 'КАРАГАНДА': 'КАРАГАНДИНСКИЙ',\n",
              " 'НУКУС': 'НУКУССКИЙ',\n",
              " 'ПРОЦЕДУРА ГОЛОСОВАНИЯ': 'НАГОЛОСОВАТЬ',\n",
              " 'НАГОЛОСОВАТЬ': 'ПРОЦЕДУРА ГОЛОСОВАНИЯ',\n",
              " 'ВЫСОКОТОКСИЧНОЕ ВЕЩЕСТВО': 'ТОКСИЧЕСКИЙ',\n",
              " 'КАРАЧАЕВО-ЧЕРКЕССИЯ': 'КАРАЧАЕВО-ЧЕРКЕССКИЙ',\n",
              " 'КАРЕЛИЯ': 'КАРЕЛЬСКИЙ',\n",
              " 'ПЕТРОЗАВОДСК': 'ПЕТРОЗАВОДСКИЙ',\n",
              " 'КЕМЬ': 'КЕМСКИЙ',\n",
              " 'ПУДОЖ': 'ПУДОЖСКИЙ',\n",
              " 'Г. СУОЯРВИ': 'СУОЯРВСКИЙ',\n",
              " 'КОНДОПОГА': 'КОНДОПОЖСКИЙ',\n",
              " 'СОРТАВАЛА': 'СОРТАВАЛЬСКИЙ',\n",
              " 'КОСТОМУКША': 'КОСТОМУКШСКИЙ',\n",
              " 'ЛАХДЕНПОХЬЯ': 'ЛАХДЕНПОХСКИЙ',\n",
              " 'МЕДВЕЖЬЕГОРСК': 'МЕДВЕЖЬЕГОРСКИЙ',\n",
              " 'КАРСКОЕ МОРЕ': 'КАРСКИЙ',\n",
              " 'ТАЙМЫР': 'ТАЙМЫРСКИЙ',\n",
              " 'АПШЕРОН': 'АПШЕРОНСКИЙ',\n",
              " 'КАШКАРДАРЬИНСКАЯ ОБЛАСТЬ': 'КАШКАРДАРЬИНСКИЙ',\n",
              " 'КЕМЕРОВО': 'КЕМЕРОВСКИЙ',\n",
              " 'ОТХОДЫ': 'БРОСОВЫЙ',\n",
              " 'Г. ТАЙГА': 'ТАЙГИНСКИЙ',\n",
              " 'НОВОКУЗНЕЦК': 'НОВОКУЗНЕЦКИЙ',\n",
              " 'КСЕРОКОПИРОВАНИЕ': 'ОТКСЕРИТЬ',\n",
              " 'ОТКСЕРИТЬ': 'КСЕРОКОПИРОВАНИЕ',\n",
              " 'ВЫШГОРОД': 'ВЫШГОРОДСКИЙ',\n",
              " 'БОРИСПОЛЬ': 'БОРИСПОЛЬСКИЙ',\n",
              " 'НОБЕЛЕВКА': 'НОБЕЛЕВСКИЙ',\n",
              " 'КИРОВОГРАД': 'КИРОВГРАДСКИЙ',\n",
              " 'ПРИПАДОК': 'ПРИПАДОЧНЫЙ',\n",
              " 'ВЯТКА': 'ВЯТСКИЙ',\n",
              " 'ЛУЗА В КИРОВСКОЙ ОБЛАСТИ': 'ЛУЗСКИЙ',\n",
              " 'УРЖУМ': 'УРЖУМСКИЙ',\n",
              " 'НОВОВЯТСК': 'НОВОВЯТСКИЙ',\n",
              " 'ОМУТНИНСК': 'ОМУТНИНСКИЙ',\n",
              " 'КОЛЫМА': 'КОЛЫМСКИЙ',\n",
              " 'КОЛЬСКИЙ ПОЛУОСТРОВ': 'КОЛЬСКИЙ',\n",
              " 'СТОЛИЦА КОМИ': 'СЫКТЫВКАРСКИЙ',\n",
              " 'ИНТА': 'ИНТИНСКИЙ',\n",
              " 'УХТА': 'УХТИНСКИЙ',\n",
              " 'ПЕЧОРА': 'ПЕЧОРСКИЙ',\n",
              " 'ВОРКУТА': 'ВОРКУТИНСКИЙ',\n",
              " 'СОСНОГОРСК': 'СОСНОГОРСКИЙ',\n",
              " 'КОМИ-ПЕРМЯЦКИЙ АВТОНОМНЫЙ ОКРУГ': 'КОМИ-ПЕРМЯЦКИЙ',\n",
              " 'КУДЫМКАР': 'КУДЫМКАРСКИЙ',\n",
              " 'КОСТРОМСКАЯ ОБЛАСТЬ': 'КОСТРОМСКОЙ',\n",
              " 'КОСТРОМА': 'КОСТРОМСКОЙ',\n",
              " 'Г. БУЙ': 'БУЙСКИЙ',\n",
              " 'ГАЛИЧ КОСТРОМСКОЙ ОБЛАСТИ': 'ГАЛИЧСКИЙ',\n",
              " 'НЕРЕХТА': 'НЕРЕХТСКИЙ',\n",
              " 'ЧУХЛОМА': 'ЧУХЛОМСКИЙ',\n",
              " 'КОЛОГРИВ': 'КОЛОГРИВСКИЙ',\n",
              " 'СОЛИГАЛИЧ': 'СОЛИГАЛИЧСКИЙ',\n",
              " 'КУБАНЬ': 'КРАСНОДАРСКИЙ',\n",
              " 'ЕЙСК': 'ЕЙСКИЙ',\n",
              " 'СОЧИ': 'СОЧИНСКИЙ',\n",
              " 'АНАПА': 'АНАПСКИЙ',\n",
              " 'ТЕМРЮК': 'ТЕМРЮКСКИЙ',\n",
              " 'ТУАПСЕ': 'ТУАПСИНСКИЙ',\n",
              " 'АРМАВИР': 'АРМАВИРСКИЙ',\n",
              " 'ЛАБИНСК': 'ЛАБИНСКИЙ',\n",
              " 'ТИХОРЕЦК': 'ТИХОРЕЦКИЙ',\n",
              " 'ГЕЛЕНДЖИК': 'ГЕЛЕНДЖИКСКИЙ',\n",
              " 'БЕЛОРЕЧЕНСК': 'БЕЛОРЕЧЕНСКИЙ',\n",
              " 'НОВОКУБАНСК': 'НОВОКУБАНСКИЙ',\n",
              " 'НОВОРОССИЙСК': 'НОВОРОССИЙСКИЙ',\n",
              " 'КРАСНОЯРСК': 'КРАСНОЯРСКИЙ',\n",
              " 'КАНСК': 'КАНСКИЙ',\n",
              " 'АЧИНСК': 'АЧИНСКИЙ',\n",
              " 'НОРИЛЬСК': 'НОРИЛЬСКИЙ',\n",
              " 'МИНУСИНСК': 'МИНУСИНСКИЙ',\n",
              " 'ЛЕСОСИБИРСК': 'ЛЕСОСИБИРСКИЙ',\n",
              " 'ОЗЕРО МАКОВСКОЕ': 'МАКОВСКОЕ',\n",
              " 'СИМФЕРОПОЛЬ': 'СИМФЕРОПОЛЬСКИЙ',\n",
              " 'ЯЛТА': 'ЯЛТИНСКИЙ',\n",
              " 'КЕРЧЬ': 'КЕРЧЕНСКИЙ',\n",
              " 'Г. СУДАК': 'СУДАКСКИЙ',\n",
              " 'АЛУПКА': 'АЛУПКИНСКИЙ',\n",
              " 'АЛУШТА': 'АЛУШТИНСКИЙ',\n",
              " 'ФЕОДОСИЯ': 'ФЕОДОСИЙСКИЙ',\n",
              " 'ЕВПАТОРИЯ': 'ЕВПАТОРИЙСКИЙ',\n",
              " 'БАХЧИСАРАЙ': 'БАХЧИСАРАЙСКИЙ',\n",
              " 'СЕВАСТОПОЛЬ': 'СЕВАСТОПОЛЬСКИЙ',\n",
              " 'ДОНУЗЛАВ': 'ДОНУЗЛАВСКИЙ',\n",
              " 'КУРГАНСКАЯ ОБЛАСТЬ': 'КУРГАНСКИЙ',\n",
              " 'КУРТАМЫШ': 'КУРТАМЫШСКИЙ',\n",
              " 'ОТДЕЛ ПОЗВОНОЧНИКА': 'ПОЗВОНОЧНЫЙ',\n",
              " 'ШАДРИНСК': 'ШАДРИНСКИЙ',\n",
              " 'КУРИЛЬСКИЕ ОСТРОВА': 'КУРИЛЬСКИЙ',\n",
              " 'ИТУРУП': 'ИТУРУПСКИЙ',\n",
              " 'КУНАШИР': 'КУНАШИРСКИЙ',\n",
              " 'ШИКОТАН': 'ШИКОТАНСКИЙ',\n",
              " 'ПАРАМУШИР': 'ПАРАМУШИРСКИЙ',\n",
              " 'ГОРОД КУРСК': 'КУРСКИЙ',\n",
              " 'ЛЬГОВ': 'ЛЬГОВСКИЙ',\n",
              " 'СУДЖА': 'СУДЖАНСКИЙ',\n",
              " 'КОСТАНАЙ': 'КУСТАНАЙСКИЙ',\n",
              " 'СТОЛИЦА КЫРГЫЗСТАНА': 'БИШКЕКСКИЙ',\n",
              " 'Г. НАРЫН': 'НАРЫНСКИЙ',\n",
              " 'ЛАДОЖСКОЕ ОЗЕРО': 'ЛАДОЖСКИЙ',\n",
              " 'ВАЛААМ': 'ВАЛААМСКИЙ',\n",
              " 'ХАТАНГА': 'ХАТАНГСКИЙ',\n",
              " 'ЛАТВИЙСКАЯ РЕСПУБЛИКА': 'ЛАТВИЙСКИЙ',\n",
              " 'РИГА': 'РИЖСКИЙ',\n",
              " 'ЛИЕПАЯ': 'ЛИЕПАЙСКИЙ',\n",
              " 'ТЕЛЕКОММУНИКАЦИОННАЯ ИНДУСТРИЯ': 'ТЕЛЕКОММУНИКАЦИОННЫЙ',\n",
              " 'ЮРМАЛА': 'ЮРМАЛЬСКИЙ',\n",
              " 'ВЕНТСПИЛС': 'ВЕНТСПИЛСКИЙ',\n",
              " 'ДАУГАВПИЛС': 'ДАУГАВПИЛССКИЙ',\n",
              " 'РЕКА АЛДАН': 'АЛДАНСКИЙ',\n",
              " 'СОГДИЙСКАЯ ОБЛАСТЬ': 'ЛЕНИНАБАДСКИЙ',\n",
              " 'Г. ВОЛХОВ': 'ВОЛХОВСКИЙ',\n",
              " 'ВЫБОРГ': 'ВЫБОРГСКИЙ',\n",
              " 'КИРИШИ': 'КИРИШСКИЙ',\n",
              " 'ТИХВИН': 'ТИХВИНСКИЙ',\n",
              " 'ГАТЧИНА': 'ГАТЧИНСКИЙ',\n",
              " 'ИВАНГОРОД': 'ИВАНГОРОДСКИЙ',\n",
              " 'КИНГИСЕПП': 'КИНГИСЕППСКИЙ',\n",
              " 'ОРАНИЕНБАУМ': 'ОРАНИЕНБАУМСКИЙ',\n",
              " 'ПРИОЗЕРСК': 'ПРИОЗЕРСКИЙ',\n",
              " 'БОКСИТОГОРСК': 'БОКСИТОГОРСКИЙ',\n",
              " 'ШЛИССЕЛЬБУРГ': 'ШЛИССЕЛЬБУРГСКИЙ',\n",
              " 'ДОПРИЗЫВНАЯ ПОДГОТОВКА': 'ДОПРИЗЫВНЫЙ',\n",
              " 'ЛИПЕЦК': 'ЛИПЕЦКИЙ',\n",
              " 'ЕЛЕЦ': 'ЕЛЕЦКИЙ',\n",
              " 'ГОРОД ГРЯЗИ': 'ГРЯЗИНСКИЙ',\n",
              " 'Г. ДАНКОВ': 'ДАНКОВСКИЙ',\n",
              " 'УСМАНЬ': 'УСМАНСКИЙ',\n",
              " 'ЛЕБЕДЯНЬ': 'ЛЕБЕДЯНСКИЙ',\n",
              " 'ГОРОД ЧАПЛЫГИН': 'ЧАПЛЫГИНСКИЙ',\n",
              " 'ЛИТВА': 'ЛИТОВСКИЙ',\n",
              " 'СТОЛИЦА ЛИТВЫ': 'ВИЛЬНЮССКИЙ',\n",
              " 'КАУНАС': 'КАУНАССКИЙ',\n",
              " 'ТРАКАЙ': 'ТРАКАЙСКИЙ',\n",
              " 'КЛАЙПЕДА': 'КЛАЙПЕДСКИЙ',\n",
              " 'ЛУГАНСК': 'ЛУГАНСКИЙ',\n",
              " 'АНТРАЦИТ (ЛУГАНСКАЯ ОБЛАСТЬ)': 'АНТРАЦИТОВСКИЙ',\n",
              " 'КРАСНОДОН': 'КРАСНОДОНСКИЙ',\n",
              " 'ЛИСИЧАНСК': 'ЛИСИЧАНСКИЙ',\n",
              " 'ЛЬВОВ': 'ЛЬВОВСКИЙ',\n",
              " 'ЭКСКАВАТОРЩИЦА': 'ЭКСКАВАТОРЩИЦКИЙ',\n",
              " 'ДРОГОБЫЧ': 'ДРОГОБЫЧСКИЙ',\n",
              " 'МАГАДАН': 'МАГАДАНСКИЙ',\n",
              " 'СУСУМАН': 'СУСУМАНСКИЙ',\n",
              " 'МАРИЙСКАЯ РЕСПУБЛИКА': 'МАРИЙСКИЙ',\n",
              " 'МАРИЙСКАЯ СТОЛИЦА': 'ЙОШКАР-ОЛИНСКИЙ',\n",
              " 'Г. МАРЫ': 'МАРЫЙСКИЙ',\n",
              " 'ФИЛИ': 'ФИЛЕВСКИЙ',\n",
              " 'БУТОВО': 'БУТОВСКИЙ',\n",
              " 'ТЕЛЕГРАФ': 'ТЕЛЕГРАФНЫЙ',\n",
              " 'ВЫХИНО': 'ВЫХИНСКИЙ',\n",
              " 'МИТИНО': 'МИТИНСКИЙ',\n",
              " 'ПЕРОВО': 'ПЕРОВСКИЙ',\n",
              " 'ТУШИНО': 'ТУШИНСКИЙ',\n",
              " 'КАПОТНЯ': 'КАПОТНЕНСКИЙ',\n",
              " 'КУНЦЕВО': 'КУНЦЕВСКИЙ',\n",
              " 'ОЧАКОВО': 'ОЧАКОВСКИЙ',\n",
              " 'ЯСЕНЕВО': 'ЯСЕНЕВСКИЙ',\n",
              " 'БИБИРЕВО': 'БИБИРЕВСКИЙ',\n",
              " 'БИРУЛЕВО': 'БИРЮЛЕВСКИЙ',\n",
              " 'БРАТЕЕВО': 'БРАТЕЕВСКИЙ',\n",
              " 'ЖУЛЕБИНО': 'ЖУЛЕБИНСКИЙ',\n",
              " 'ПРОДЮСЕР': 'ПРОДЮСЕРСКИЙ',\n",
              " 'НАГАТИНО': 'НАГАТИНСКИЙ',\n",
              " 'СВИБЛОВО': 'СВИБЛОВСКИЙ',\n",
              " 'СОЛНЦЕВО': 'СОЛНЦЕВСКИЙ',\n",
              " 'СТРОГИНО': 'СТРОГИНСКИЙ',\n",
              " 'ЦАРИЦЫНО': 'ЦАРИЦЫНСКИЙ',\n",
              " 'ИЗМАЙЛОВО': 'ИЗМАЙЛОВСКИЙ',\n",
              " 'ЛИАНОЗОВО': 'ЛИАНОЗОВСКИЙ',\n",
              " 'ОСТАНКИНО': 'ОСТАНКИНСКИЙ',\n",
              " 'ТРОПАРЕВО': 'ТРОПАРЕВСКИЙ',\n",
              " 'ЧЕРЕМУШКИ': 'ЧЕРЕМУШКИНСКИЙ',\n",
              " 'ЧЕРТАНОВО': 'ЧЕРТАНОВСКИЙ',\n",
              " 'СОКОЛЬНИКИ': 'СОКОЛЬНИЧЕСКИЙ',\n",
              " 'НОВОГИРЕЕВО': 'НОВОГИРЕЕВСКИЙ',\n",
              " 'ЗАМОСКВОРЕЧЬЕ': 'ЗАМОСКВОРЕЦКИЙ',\n",
              " 'МОЛОДЕЧНО': 'МОЛОДЕЧНЕНСКИЙ',\n",
              " 'БОБРУЙСК': 'БОБРУЙСКИЙ',\n",
              " 'ПЕЧЕНЬ': 'ПЕЧЕНОЧНЫЙ',\n",
              " 'МОЛДОВА': 'МОЛДАВСКИЙ',\n",
              " 'СТОЛИЦА МОЛДАВИИ': 'КИШИНЕВСКИЙ',\n",
              " 'УНГЕНЫ': 'УНГЕНСКИЙ',\n",
              " 'ГОРОД БЕНДЕР': 'БЕНДЕРСКИЙ',\n",
              " 'ТЕЛЕЭКРАН': 'ТЕЛЕЭКРАННЫЙ',\n",
              " 'ДРАГОЦЕННЫЙ МЕТАЛЛ': 'ДРАГМЕТАЛЛИЧЕСКИЙ',\n",
              " 'ДУБЭСАРЬ': 'ДУБОССАРСКИЙ',\n",
              " 'ТИРАСПОЛЬ': 'ТИРАСПОЛЬСКИЙ',\n",
              " 'РЕСПУБЛИКА МОРДОВИЯ': 'МОРДОВСКИЙ',\n",
              " 'САРАНСК': 'САРАНСКИЙ',\n",
              " 'ИНСАР': 'ИНСАРСКИЙ',\n",
              " 'МОСКВА-РЕКА': 'МОСКВОРЕЦКИЙ',\n",
              " 'ЯУЗА': 'ЯУЗСКИЙ',\n",
              " 'РЕКА ИСТРА': 'ИСТРИНСКИЙ',\n",
              " 'СЕТУНЬ': 'СЕТУНЬСКИЙ',\n",
              " 'МОСКОВСКАЯ ОБЛАСТЬ': 'ПОДМОСКОВНЫЙ',\n",
              " 'ПОДМОСКОВНЫЙ КЛИН': 'КЛИНСКИЙ',\n",
              " 'СЕРГИЕВ-ПОСАД': 'СЕРГИЕВ-ПОСАДСКИЙ',\n",
              " 'ПАВЛОВ ПОСАД': 'ПАВЛОВОПОСАДСКИЙ',\n",
              " 'ГОРОД РУЗА': 'РУЗСКИЙ',\n",
              " 'ДУБНА МОСКОВСКОЙ ОБЛАСТИ': 'ДУБНЕНСКИЙ',\n",
              " 'ЛОБНЯ': 'ЛОБНЕНСКИЙ',\n",
              " 'ХИМКИ': 'ХИМКИНСКИЙ',\n",
              " 'ГОРОД ВИДНОЕ': 'ВИДНОВСКИЙ',\n",
              " 'КАШИРА': 'КАШИРСКИЙ',\n",
              " 'МЫТИЩИ': 'МЫТИЩИНСКИЙ',\n",
              " 'ПУЩИНО': 'ПУЩИНСКИЙ',\n",
              " 'РЕУТОВ В МОСКОВСКОЙ ОБЛАСТИ': 'РЕУТОВСКИЙ',\n",
              " 'РОШАЛЬ': 'РОШАЛЬСКИЙ',\n",
              " 'СХОДНЯ': 'СХОДНЕНСКИЙ',\n",
              " 'ТАЛДОМ': 'ТАЛДОМСКИЙ',\n",
              " 'ШАТУРА': 'ШАТУРСКИЙ',\n",
              " 'ГОРОД ЯХРОМА': 'ЯХРОМСКИЙ',\n",
              " 'ЗАРАЙСК': 'ЗАРАЙСКИЙ',\n",
              " 'КОЛОМНА': 'КОЛОМЕНСКИЙ',\n",
              " 'ЛЮБЕРЦЫ': 'ЛЮБЕРЕЦКИЙ',\n",
              " 'МОЖАЙСК': 'МОЖАЙСКИЙ',\n",
              " 'НОГИНСК': 'НОГИНСКИЙ',\n",
              " 'СТУПИНО': 'СТУПИНСКИЙ',\n",
              " 'ФРЯЗИНО': 'ФРЯЗИНСКИЙ',\n",
              " 'БАЛАШИХА': 'БАЛАШИХИНСКИЙ',\n",
              " 'БРОННИЦЫ': 'БРОННИЦКИЙ',\n",
              " 'ГОРОД ОДИНЦОВО': 'ОДИНЦОВСКИЙ',\n",
              " 'ПОДОЛЬСК': 'ПОДОЛЬСКИЙ',\n",
              " 'СЕРПУХОВ': 'СЕРПУХОВСКИЙ',\n",
              " 'ЩЕРБИНКА МОСКОВСКОЙ ОБЛАСТИ': 'ЩЕРБИНСКИЙ',\n",
              " 'АПРЕЛЕВКА': 'АПРЕЛЕВСКИЙ',\n",
              " 'ВЫСОКОВСК': 'ВЫСОКОВСКИЙ',\n",
              " 'ЕГОРЬЕВСК': 'ЕГОРЬЕВСКИЙ',\n",
              " 'ЖУКОВСКИЙ В МОСКОВСКОЙ ОБЛАСТИ': 'ПОДМОСКОВНЫЙ ЖУКОВСКИЙ',\n",
              " 'ЛЫТКАРИНО': 'ЛЫТКАРИНСКИЙ',\n",
              " 'ДОМОДЕДОВО': 'ДОМОДЕДОВСКИЙ',\n",
              " 'ЗВЕНИГОРОД': 'ЗВЕНИГОРОДСКИЙ',\n",
              " 'ИВАНТЕЕВКА': 'ИВАНТЕЕВСКИЙ',\n",
              " 'ВОЛОКОЛАМСК': 'ВОЛОКОЛАМСКИЙ',\n",
              " 'ДОЛГОПРУДНЫЙ': 'ДОЛГОПРУДНЕНСКИЙ',\n",
              " 'ГРОЗА': 'ГРОЗОВОЙ',\n",
              " 'ЭЛЕКТРОГОРСК': 'ЭЛЕКТРОГОРСКИЙ',\n",
              " 'ЭЛЕКТРОСТАЛЬ МОСКОВСКОЙ ОБЛАСТИ': 'ЭЛЕКТРОСТАЛЬСКИЙ',\n",
              " 'СОЛНЕЧНОГОРСК': 'СОЛНЕЧНОГОРСКИЙ',\n",
              " 'СЕНЕЖСКОЕ ОЗЕРО': 'СЕНЕЖСКОЕ',\n",
              " 'МУРМАНСК': 'МУРМАНСКИЙ',\n",
              " 'КОВДОР': 'КОВДОРСКИЙ',\n",
              " 'КАНДАЛАКША': 'КАНДАЛАКШСКИЙ',\n",
              " 'МОНЧЕГОРСК': 'МОНЧЕГОРСКИЙ',\n",
              " 'ОЛЕНЕГОРСК': 'ОЛЕНЕГОРСКИЙ',\n",
              " 'ЛОВОЗЕРО': 'ЛОВОЗЕРСКИЙ',\n",
              " 'ХИБИНЫ': 'ХИБИНСКИЙ',\n",
              " 'РЕСПУБЛИКА УЗБЕКИСТАН': 'УЗБЕКИСТАНСКИЙ',\n",
              " 'НАВОИ': 'НАВОИЙСКИЙ',\n",
              " 'НКР': 'КАРАБАХСКИЙ',\n",
              " 'СТЕПАНАКЕРТ': 'СТЕПАНАКЕРТСКИЙ',\n",
              " 'МАРДАКЕРТ': 'МАРДАКЕРТСКИЙ',\n",
              " 'НАМАНГАН': 'НАМАНГАНСКИЙ',\n",
              " 'НЕМАН': 'НЕМАНСКИЙ',\n",
              " 'НЕВА': 'НЕВСКИЙ',\n",
              " 'Н. НОВГОРОД': 'НИЖЕГОРОДСКИЙ',\n",
              " 'КСТОВО': 'КСТОВСКИЙ',\n",
              " 'АРЗАМАС': 'АРЗАМАССКИЙ',\n",
              " 'ГОРОД КРЕМЛЕВ': 'САРОВСКИЙ',\n",
              " 'БАЛАХНА': 'БАЛАХНИНСКИЙ',\n",
              " 'ВЕЛИКИЙ НОВГОРОД': 'НОВГОРОДСКИЙ',\n",
              " 'БОРОВИЧИ': 'БОРОВИЧСКИЙ',\n",
              " 'НОВОСИБИРСК': 'НОВОСИБИРСКИЙ',\n",
              " 'ЧУЛЫМ': 'ЧУЛЫМСКИЙ',\n",
              " 'БЕРДСК': 'БЕРДСКИЙ',\n",
              " 'ИСКИТИМ': 'ИСКИТИМСКИЙ',\n",
              " 'КАРАСУК': 'КАРАСУКСКИЙ',\n",
              " 'ТОГУЧИН': 'ТОГУЧИНСКИЙ',\n",
              " 'БАРАБИНСК': 'БАРАБИНСКИЙ',\n",
              " 'КАРБОЛОВАЯ КИСЛОТА': 'ФЕНОЛЬНЫЙ',\n",
              " 'КАРДИНАЛ': 'КАРДИНАЛЬСКИЙ',\n",
              " 'РЕКА ОБЬ': 'ОБСКИЙ',\n",
              " 'ОДЕССА': 'ОДЕССКИЙ',\n",
              " 'ОКА': 'ОКСКИЙ',\n",
              " 'РЕКА НАРА': 'НАРСКИЙ',\n",
              " 'КЛЯЗЬМА': 'КЛЯЗЬМЕНСКИЙ',\n",
              " 'ГРИНПИС': 'ГРИНПИСОВСКИЙ',\n",
              " 'ОМСК': 'ОМСКИЙ',\n",
              " 'ОНЕЖСКОЕ ОЗЕРО': 'ОНЕЖСКИЙ',\n",
              " 'ОРЕНБУРГ': 'ОРЕНБУРЖСКИЙ',\n",
              " 'ГАЙ В ОРЕНБУРГСКОЙ ОБЛАСТИ': 'ГАЙСКИЙ',\n",
              " 'ОРСК': 'ОРСКИЙ',\n",
              " 'ГОРОД БУЗУЛУК': 'БУЗУЛУКСКИЙ',\n",
              " 'СОРОЧИНСК': 'СОРОЧИНСКИЙ',\n",
              " 'БУГУРУСЛАН': 'БУГУРУСЛАНСКИЙ',\n",
              " 'МЕДНОГОРСК': 'МЕДНОГОРСКИЙ',\n",
              " 'ОРЕЛ': 'ОРЛИНЫЙ',\n",
              " 'МЦЕНСК': 'МЦЕНСКИЙ',\n",
              " 'ОХОТОМОРЬЕ': 'ОХОТСКИЙ',\n",
              " 'САХАЛИН': 'САХАЛИНСКИЙ',\n",
              " 'ОШ': 'ОШСКИЙ',\n",
              " 'ВЕРОЯТНОСТНАЯ МЕТОДИКА': 'ВЕРОЯТНОСТНЫЙ',\n",
              " 'ПАВЛОДАР': 'ПАВЛОДАРСКИЙ',\n",
              " 'ЭКИБАСТУЗ': 'ЭКИБАСТУЗСКИЙ',\n",
              " 'КОРАБЛЬ ПУСТЫНИ': 'ВЕРБЛЮЖИЙ',\n",
              " 'ПЕНЗА': 'ПЕНЗЕНСКИЙ',\n",
              " 'Г. ГОРОДИЩЕ': 'ГОРОДИЩЕНСКИЙ',\n",
              " 'ПЕРМЬ': 'ПЕРМСКИЙ',\n",
              " 'КУНГУР': 'КУНГУРСКИЙ',\n",
              " 'ГОРОД ЛЫСЬВА': 'ЛЫСЬВЕНСКИЙ',\n",
              " 'УСОЛЬЕ ПЕРМСКОЙ ОБЛАСТИ': 'УСОЛЬСКИЙ',\n",
              " 'СОЛИКАМСК': 'СОЛИКАМСКИЙ',\n",
              " 'КРАСНОКАМСК': 'КРАСНОКАМСКИЙ',\n",
              " 'КРАСНОВИШЕРСК': 'КРАСНОВИШЕРСКИЙ',\n",
              " 'АРХИМАНДРИТ': 'АРХИМАНДРИТСКИЙ',\n",
              " 'ДАЛЬНЕВОСТОЧНЫЙ КРОНШТАДТ': 'О. РУССКИЙ',\n",
              " 'ПОЛТАВА': 'ПОЛТАВСКИЙ',\n",
              " 'МИРГОРОД': 'МИРГОРОДСКИЙ',\n",
              " 'КРЕМЕНЧУГ': 'КРЕМЕНЧУГСКИЙ',\n",
              " 'ВЛАДИВОСТОК': 'ВЛАДИВОСТОКСКИЙ',\n",
              " 'НАХОДКА': 'НАХОДКИНСКИЙ',\n",
              " 'ВОСХОДИТЕЛЬ': 'ВОСХОДИТЕЛЬСКИЙ',\n",
              " 'РЕКА ПРИПЯТЬ': 'ПРИПЯТСКИЙ',\n",
              " 'ДЖУНГЛИ': 'ДЖУНГЛЕВЫЙ',\n",
              " 'САВАННА': 'САВАННОВЫЙ',\n",
              " 'СУБТРОПИКИ': 'СУБТРОПИЧЕСКИЙ',\n",
              " 'ПСКОВ': 'ПСКОВСКИЙ',\n",
              " 'СЕБЕЖ': 'СЕБЕЖСКИЙ',\n",
              " 'НЕВЕЛЬ': 'НЕВЕЛЬСКИЙ',\n",
              " 'АНТИДЕМПИНГОВАЯ ПРОЦЕДУРА': 'АНТИДЕМПИНГОВЫЙ',\n",
              " 'ПЯНДЖ': 'ПЯНДЖСКИЙ',\n",
              " 'РОВЕНСКАЯ ОБЛАСТЬ': 'РОВЕНСКИЙ',\n",
              " 'Г. РОВНО': 'РОВНЕНСКИЙ',\n",
              " 'АРХАНГЕЛЬСКАЯ ОБЛАСТЬ': 'АРХАНГЕЛЬСКИЙ',\n",
              " 'СВЕРДЛОВСКАЯ ОБЛ.': 'СВЕРДЛОВСКИЙ',\n",
              " 'РОСТОВСКАЯ ОБЛ.': 'РОСТОВСКИЙ',\n",
              " 'ГОРОД АЗОВ': 'АЗОВСКИЙ',\n",
              " 'Г. ШАХТЫ': 'ШАХТИНСКИЙ',\n",
              " 'САЛЬСК': 'САЛЬСКИЙ',\n",
              " 'ТАГАНРОГ': 'ТАГАНРОГСКИЙ',\n",
              " 'ЗЕРНОГРАД': 'ЗЕРНОГРАДСКИЙ',\n",
              " 'ВОЛГОДОНСК': 'ВОЛГОДОНСКИЙ',\n",
              " 'НОВОЧЕРКАССК': 'НОВОЧЕРКАССКИЙ',\n",
              " 'НОВОШАХТИНСК': 'НОВОШАХТИНСКИЙ',\n",
              " 'СЕМИКАРАКОРСК': 'СЕМИКАРАКОРСКИЙ',\n",
              " 'РЯЗАНЩИНА': 'РЯЗАНСКИЙ',\n",
              " 'РЯЖСК': 'РЯЖСКИЙ',\n",
              " 'ГОРОД КАСИМОВ': 'КАСИМОВСКИЙ',\n",
              " 'САМАРКАНД': 'САМАРКАНДСКИЙ',\n",
              " 'ГОРОД АКТАШ': 'АКТАШСКИЙ',\n",
              " 'ГОРОД САМАРА': 'САМАРСКИЙ',\n",
              " 'СЫЗРАНЬ': 'СЫЗРАНЬСКИЙ',\n",
              " 'ТОЛЬЯТТИ': 'ТОЛЬЯТТИНСКИЙ',\n",
              " 'НОВОКУЙБЫШЕВСК': 'НОВОКУЙБЫШЕВСКИЙ',\n",
              " 'ЖИГУЛИ': 'ЖИГУЛЕВСКИЙ',\n",
              " 'КОЛПИНО': 'КОЛПИНСКИЙ',\n",
              " 'КРОНШТАДТ': 'КРОНШТАДТСКИЙ',\n",
              " 'СЕСТРОРЕЦК': 'СЕСТРОРЕЦКИЙ',\n",
              " 'ПЕТРОДВОРЕЦ': 'ПЕТРОДВОРЦОВЫЙ',\n",
              " 'САРАТОВ': 'САРАТОВСКИЙ',\n",
              " 'РТИЩЕВО': 'РТИЩЕВСКИЙ',\n",
              " 'БАЛАКОВО': 'БАЛАКОВСКИЙ',\n",
              " 'НОВОУЗЕНСК': 'НОВОУЗЕНСКИЙ',\n",
              " 'СВЕРДЛОВСК': 'ЕКАТЕРИНБУРГСКИЙ',\n",
              " 'ИРБИТ': 'ИРБИТСКИЙ',\n",
              " 'РЕВДА': 'РЕВДИНСКИЙ',\n",
              " 'ГОРОД ТАВДА': 'ТАВДИНСКИЙ',\n",
              " 'ИВДЕЛЬ': 'ИВДЕЛЬСКИЙ',\n",
              " 'ТАЛИЦА': 'ТАЛИЦКИЙ',\n",
              " 'СЫСЕРТЬ': 'СЫСЕРТСКИЙ',\n",
              " 'КАЧКАНАР': 'КАЧКАНАРСКИЙ',\n",
              " 'АЛАПАЕВСК': 'АЛАПАЕВСКИЙ',\n",
              " 'АНТИВИРУС': 'АНТИВИРУСНЫЙ',\n",
              " 'ГОРОД БОГДАНОВИЧ': 'БОГДАНОВИЧСКИЙ',\n",
              " 'ГОРОД АРТЕМОВСКИЙ': 'АРТЕМОВСКИЙ',\n",
              " 'КРАСНОУФИМСК': 'КРАСНОУФИМСКИЙ',\n",
              " 'ПЕРВОУРАЛЬСК': 'ПЕРВОУРАЛЬСКИЙ',\n",
              " 'СЕВЕРНАЯ ДВИНА': 'СЕВЕРОДВИНСКИЙ',\n",
              " 'СЕВЕРО-ОСЕТИНСКАЯ АССР': 'СЕВЕРООСЕТИНСКИЙ',\n",
              " 'ВЛАДИКАВКАЗ': 'ВЛАДИКАВКАЗСКИЙ',\n",
              " 'БЕСЛАН': 'БЕСЛАНСКИЙ',\n",
              " 'МОЗДОК': 'МОЗДОКСКИЙ',\n",
              " 'СЕВЕРНЫЙ УРАЛ': 'СЕВЕРОУРАЛЬСКИЙ',\n",
              " 'ГОМОСЕКСУАЛ': 'ГОМОСЕКСУАЛИСТСКИЙ',\n",
              " 'СЕМИПАЛАТИНСК': 'СЕМИПАЛАТИНСКИЙ',\n",
              " 'ТОРГОВЛЯ': 'ПОТОРГОВАТЬ',\n",
              " 'ПОТОРГОВАТЬ': 'ТОРГОВЛЯ',\n",
              " 'ГНИЛОЕ МОРЕ': 'СИВАШСКИЙ',\n",
              " 'СМОЛЕНСК': 'СМОЛЕНСКИЙ',\n",
              " 'ЕЛЬНЯ': 'ЕЛЬНИНСКИЙ',\n",
              " 'РОСЛАВЛЬ': 'РОСЛАВЛЬСКИЙ',\n",
              " 'ДОРОГОБУЖ': 'ДОРОГОБУЖСКИЙ',\n",
              " 'СРЕДНИЙ УРАЛ': 'СРЕДНЕУРАЛЬСКИЙ',\n",
              " 'СТАВРОПОЛЬЕ': 'СТАВРОПОЛЬСКИЙ',\n",
              " 'СТАВРОПОЛЬ': 'СТАВРОПОЛЬСКИЙ',\n",
              " 'ГОРОД ИПАТОВО': 'ИПАТОВСКИЙ',\n",
              " 'ЕССЕНТУКИ': 'ЕССЕНТУКСКИЙ',\n",
              " 'ПЯТИГОРСК': 'ПЯТИГОРСКИЙ',\n",
              " 'Г. ИЗОБИЛЬНЫЙ': 'ИЗОБИЛЬНЕНСКИЙ',\n",
              " 'КИСЛОВОДСК': 'КИСЛОВОДСКИЙ',\n",
              " 'НЕФТЕКУМСК': 'НЕФТЕКУМСКИЙ',\n",
              " 'ЗЕЛЕНОКУМСК': 'ЗЕЛЕНОКУМСКИЙ',\n",
              " 'ЖЕЛЕЗНОВОДСК': 'ЖЕЛЕЗНОВОДСКИЙ',\n",
              " 'НЕВИННОМЫССК': 'НЕВИННОМЫССКИЙ',\n",
              " 'НОВОАЛЕКСАНДРОВСК': 'НОВОАЛЕКСАНДРОВСКИЙ',\n",
              " 'ГОРОД СУМЫ': 'СУМСКИЙ',\n",
              " 'РОМНЫ': 'РОМЕНСКИЙ',\n",
              " 'ШОСТКА': 'ШОСТКИНСКИЙ',\n",
              " 'КОНОТОП': 'КОНОТОПСКИЙ',\n",
              " 'ГУБЕРНАТОР': 'ГУБЕРНАТОРСКИЙ',\n",
              " 'РЕКА АРГУН': 'АРГУНСКИЙ',\n",
              " 'СУРХАНДАРЬИНСКАЯ ОБЛАСТЬ': 'СУРХАНДАРЬИНСКИЙ',\n",
              " 'ТЕРМЕЗ': 'ТЕРМЕЗСКИЙ',\n",
              " 'СЫРДАРЬИНСКАЯ ОБЛАСТЬ': 'СЫРДАРЬИНСКИЙ',\n",
              " 'ТАДЖИКИСТАН': 'ТАДЖИКСКИЙ',\n",
              " 'ТАДЖИКСКАЯ СТОЛИЦА': 'ДУШАНБИНСКИЙ',\n",
              " 'ТАЛДЫ-КУРГАНСКАЯ ОБЛАСТЬ': 'ТАЛДЫ-КУРГАНСКИЙ',\n",
              " 'ТАМБОВ': 'ТАМБОВСКИЙ',\n",
              " 'МОРШАНСК': 'МОРШАНСКИЙ',\n",
              " 'ТАТАРСКАЯ РЕСПУБЛИКА': 'ТАТАРСТАНСКИЙ',\n",
              " 'СТОЛИЦА ТАТАРСТАНА': 'КАЗАНСКИЙ',\n",
              " 'ЕЛАБУГА': 'ЕЛАБУЖСКИЙ',\n",
              " 'БУГУЛЬМА': 'БУГУЛЬМИНСКИЙ',\n",
              " 'ЧИСТОПОЛЬ': 'ЧИСТОПОЛЬСКИЙ',\n",
              " 'НИЖНЕКАМСК': 'НИЖНЕКАМСКИЙ',\n",
              " 'АЛЬМЕТЬЕВСК': 'АЛЬМЕТЬЕВСКИЙ',\n",
              " 'ЗЕЛЕНОДОЛЬСК': 'ЗЕЛЕНОДОЛЬСКИЙ',\n",
              " 'ТВЕРСКАЯ ОБЛАСТЬ': 'ТВЕРСКОЙ',\n",
              " 'ГОРОД КАЛИНИН': 'ТВЕРСКОЙ',\n",
              " 'РЖЕВ': 'РЖЕВСКИЙ',\n",
              " 'КАШИН В КАЛИНИНСКОЙ ОБЛАСТИ': 'КАШИНСКИЙ',\n",
              " 'КИМРЫ': 'КИМРСКИЙ',\n",
              " 'ТОРЖОК': 'ТОРЖОКСКИЙ',\n",
              " 'ГОРОД КАЛЯЗИН': 'КАЛЯЗИНСКИЙ',\n",
              " 'СТАРИЦА ТВЕРСКОЙ ОБЛАСТИ': 'СТАРИЦКИЙ',\n",
              " 'ТОРОПЕЦ': 'ТОРОПЕЦКИЙ',\n",
              " 'КОНАКОВО': 'КОНАКОВСКИЙ',\n",
              " 'ОСТАШКОВ': 'ОСТАШКОВСКИЙ',\n",
              " 'АНДРЕАПОЛЬ': 'АНДРЕАПОЛЬСКИЙ',\n",
              " 'ВЕСЬЕГОНСК': 'ВЕСЬЕГОНСКИЙ',\n",
              " 'СЕЛИГЕР': 'СЕЛИГЕРСКИЙ',\n",
              " 'ТЕРЕК': 'ТЕРЕКСКИЙ',\n",
              " 'ТЕРНОПОЛЬ': 'ТЕРНОПОЛЬСКИЙ',\n",
              " 'КРЕМЕНЕЦ': 'КРЕМЕНЕЦКИЙ',\n",
              " 'ТОМСК': 'ТОМСКИЙ',\n",
              " 'ТУВА': 'ТУВИНСКИЙ',\n",
              " 'КЫЗЫЛ': 'КЫЗЫЛСКИЙ',\n",
              " 'ТУЛА': 'ТУЛЬСКИЙ',\n",
              " 'ЩЕКИНО': 'ЩЕКИНСКИЙ',\n",
              " 'НОВОМОСКОВСК': 'НОВОМОСКОВСКИЙ',\n",
              " 'ТУРГАЙСКАЯ ОБЛАСТЬ': 'ТУРГАЙСКИЙ',\n",
              " 'ТУРКМЕНИСТАН': 'ТУРКМЕНИСТАНСКИЙ',\n",
              " 'СТОЛИЦА ТУРКМЕНИИ': 'АШХАБАДСКИЙ',\n",
              " 'КАРАКУМ': 'КАРАКУМСКИЙ',\n",
              " 'ТЮМЕНСКАЯ ОБЛ.': 'ТЮМЕНСКИЙ',\n",
              " 'ИШИМ': 'ИШИМСКИЙ',\n",
              " 'ТОБОЛЬСК': 'ТОБОЛЬСКИЙ',\n",
              " 'ЯЛУТОРОВСК': 'ЯЛУТОРОВСКИЙ',\n",
              " 'ЯМАЛ': 'ЯМАЛЬСКИЙ',\n",
              " 'ТЯНЬ-ШАНЬ': 'ТЯНЬ-ШАНЬСКИЙ',\n",
              " 'УДМУРТСКАЯ РЕСПУБЛИКА': 'УДМУРТСКИЙ',\n",
              " 'СТОЛИЦА УДМУРТИИ': 'ИЖЕВСКИЙ',\n",
              " 'ГЛАЗОВ': 'ГЛАЗОВСКИЙ',\n",
              " 'САРАПУЛ': 'САРАПУЛЬСКИЙ',\n",
              " 'ВОТКИНСК': 'ВОТКИНСКИЙ',\n",
              " 'УЗБЕКСКАЯ СТОЛИЦА': 'ТАШКЕНТСКИЙ',\n",
              " 'Г. КИЕВ': 'КИЕВСКИЙ',\n",
              " 'СИМБИРСК': 'СИМБИРСКИЙ',\n",
              " 'ИНЗА': 'ИНЗЕНСКИЙ',\n",
              " 'ФЕРГАНСКАЯ ОБЛАСТЬ': 'ФЕРГАНСКИЙ',\n",
              " 'КОКАНД': 'КОКАНДСКИЙ',\n",
              " 'РЕКА НАРВА': 'НАРВСКИЙ',\n",
              " 'ХАБАРОВСКИЙ КРАЙ': 'ХАБАРОВСКИЙ',\n",
              " 'ХАБАРОВСК': 'ХАБАРОВСКИЙ',\n",
              " 'ХАКАСИЯ': 'ХАКАССКИЙ',\n",
              " 'АБАКАН': 'АБАКАНСКИЙ',\n",
              " 'САЯНОГОРСК': 'САЯНОГОРСКИЙ',\n",
              " 'ХАНТЫ-МАНСИЙСКИЙ АО': 'ЮГОРСКИЙ',\n",
              " 'ХАНТЫ-МАНСИЙСК': 'ХАНТЫ-МАНСИЙСКИЙ',\n",
              " 'МЕГИОН': 'МЕГИОНСКИЙ',\n",
              " 'НЯГАНЬ': 'НЯГАНЬСКИЙ',\n",
              " 'СУРГУТ': 'СУРГУТСКИЙ',\n",
              " 'КОГАЛЫМ': 'КОГАЛЫМСКИЙ',\n",
              " 'ЛАНГЕПАС': 'ЛАНГЕПАССКИЙ',\n",
              " 'НЕФТЕЮГАНСК': 'НЕФТЕЮГАНСКИЙ',\n",
              " 'НИЖНЕВАРТОВСК': 'НИЖНЕВАРТОВСКИЙ',\n",
              " 'ХАРЬКОВ': 'ХАРЬКОВСКИЙ',\n",
              " 'Г. ИЗЮМ': 'ИЗЮМСКИЙ',\n",
              " 'ХЕРСОН': 'ХЕРСОНСКИЙ',\n",
              " 'ЧЕЛЯБИНСК': 'ЧЕЛЯБИНСКИЙ',\n",
              " 'КАСЛИ': 'КАСЛИНСКИЙ',\n",
              " 'МИАСС': 'МИАССКИЙ',\n",
              " 'КЫШТЫМ': 'КЫШТЫМСКИЙ',\n",
              " 'ЗЛАТОУСТ': 'ЗЛАТОУСТОВСКИЙ',\n",
              " 'ЧЕБАРКУЛЬ': 'ЧЕБАРКУЛЬСКИЙ',\n",
              " 'МАГНИТКА': 'МАГНИТОГОРСКИЙ',\n",
              " 'ВЕРХНЕУРАЛЬСК': 'ВЕРХНЕУРАЛЬСКИЙ',\n",
              " 'ЧЕРКАССЫ': 'ЧЕРКАССКИЙ',\n",
              " 'УМАНЬ': 'УМАНСКИЙ',\n",
              " 'РОЗНИЧНАЯ ПРОДАЖА': 'ТОРГОВАТЬ В РОЗНИЦУ',\n",
              " 'ТОРГОВАТЬ В РОЗНИЦУ': 'РОЗНИЧНАЯ ПРОДАЖА',\n",
              " 'ГОРОДИЩЕ ЧЕРКАССКОЙ ОБЛАСТИ': 'ГОРОДИЩЕНСКИЙ',\n",
              " 'ЧЕРНИГОВ': 'ЧЕРНИГОВСКИЙ',\n",
              " 'НЕЖИН': 'НЕЖИНСКИЙ',\n",
              " 'ПРИЛУКИ': 'ПРИЛУКСКИЙ',\n",
              " 'ЧЕРНОВЦЫ': 'ЧЕРНОВИЦКИЙ',\n",
              " 'ХОТИН': 'ХОТИНСКИЙ',\n",
              " 'ЧЕРНОЕ МОРЕ': 'ЧЕРНОМОРСКИЙ',\n",
              " 'ПИЦУНДА': 'ПИЦУНДСКИЙ',\n",
              " 'ЧИТА': 'ЧИТИНСКИЙ',\n",
              " 'ШИЛКА ЧИТИНСКОЙ ОБЛАСТИ': 'ШИЛКИНСКИЙ',\n",
              " 'НЕРЧИНСК': 'НЕРЧИНСКИЙ',\n",
              " 'КРАСНОКАМЕНСК': 'КРАСНОКАМЕНСКИЙ',\n",
              " 'ЧАВАШ РЕСПУБЛИКИ': 'ЧУВАШСКИЙ',\n",
              " 'ЧЕБОКСАРЫ': 'ЧЕБОКСАРСКИЙ',\n",
              " 'КАНАШ': 'КАНАШСКИЙ',\n",
              " 'ГОРОД АЛАТЫРЬ': 'АЛАТЫРСКИЙ',\n",
              " 'НОВОЧЕБОКСАРСК': 'НОВОЧЕБОКСАРСКИЙ',\n",
              " 'ГОРОД АНАДЫРЬ': 'АНАДЫРСКИЙ',\n",
              " 'ПЕВЕК': 'ПЕВЕКСКИЙ',\n",
              " 'ШИМКЕНТ': 'ШИМКЕНТСКИЙ',\n",
              " 'ЭВЕНКИЯ': 'ЭВЕНКИЙСКИЙ',\n",
              " 'ЭСТОНСКАЯ РЕСПУБЛИКА': 'ЭСТОНСКИЙ',\n",
              " 'СТОЛИЦА ЭСТОНИИ': 'ТАЛЛИННСКИЙ',\n",
              " 'ЮЖНЫЙ УРАЛ': 'ЮЖНОУРАЛЬСКИЙ',\n",
              " 'РЕСПУБЛИКА САХА (ЯКУТИЯ)': 'ЯКУТСКИЙ',\n",
              " 'АЛДАН': 'АЛДАНСКИЙ',\n",
              " 'НЕРЮНГРИ': 'НЕРЮНГРИНСКИЙ',\n",
              " 'ВЕРХОЯНСК': 'ВЕРХОЯНСКИЙ',\n",
              " 'ОЛЕКМИНСК': 'ОЛЕКМИНСКИЙ',\n",
              " 'АНАБАР': 'АНАБАРСКИЙ',\n",
              " 'ЯМАЛО-НЕНЕЦКИЙ АВТОНОМНЫЙ ОКРУГ': 'ЯМАЛО-НЕНЕЦКИЙ',\n",
              " 'САЛЕХАРД': 'САЛЕХАРДСКИЙ',\n",
              " 'НАДЫМ': 'НАДЫМСКИЙ',\n",
              " 'ЯРОСЛАВЛЬ': 'ЯРОСЛАВСКИЙ',\n",
              " 'УГЛИЧ': 'УГЛИЧСКИЙ',\n",
              " 'РЫБИНСК': 'РЫБИНСКИЙ',\n",
              " 'АВСТРАЛИЙСКИЙ СОЮЗ': 'АВСТРАЛИЙСКИЙ',\n",
              " 'СТОЛИЦА АВСТАЛИИ': 'КАНБЕРРСКИЙ',\n",
              " 'СИДНЕЙ': 'СИДНЕЙСКИЙ',\n",
              " 'МЕЛЬБУРН': 'МЕЛЬБУРНСКИЙ',\n",
              " 'ВЕНА, АВСТРИЯ': 'ВЕНСКИЙ',\n",
              " 'ЗЕМЛЯ ТИРОЛЬ': 'ТИРОЛЬСКИЙ',\n",
              " 'ЗАЛЬЦБУРГ': 'ЗАЛЬЦБУРГСКИЙ',\n",
              " 'ИНСБРУК': 'ИНСБРУКСКИЙ',\n",
              " 'КЛАГЕНФУРТ': 'КЛАГЕНФУРТСКИЙ',\n",
              " 'АДРИАТИЧЕСКОЕ МОРЕ': 'АДРИАТИЧЕСКИЙ',\n",
              " 'АЗИАТСКИЙ РЕГИОН': 'АЗИАТСКИЙ',\n",
              " 'КОРОЛЕВСТВО НЕПАЛ': 'НЕПАЛЬСКИЙ',\n",
              " 'БРУНЕЙ': 'БРУНЕЙСКИЙ',\n",
              " 'СИНГАПУР': 'СИНГАПУРСКИЙ',\n",
              " 'АЗОРСКИЕ ОСТРОВА': 'АЗОРСКИЙ',\n",
              " 'РЕСПУБЛИКА АНГОЛА': 'АНГОЛЬСКИЙ',\n",
              " 'АРГЕНТИНСКАЯ РЕСПУБЛИКА': 'АРГЕНТИНСКИЙ',\n",
              " 'ИСЛАМСКАЯ РЕСПУБЛИКА АФГАНИСТАН': 'АФГАНСКИЙ',\n",
              " 'АФГАНИСТАНСКАЯ СТОЛИЦА': 'КАБУЛЬСКИЙ',\n",
              " 'ГЕРАТ': 'ГЕРАТСКИЙ',\n",
              " 'ГАРДЕЗ': 'ГАРДЕЗСКИЙ',\n",
              " 'КАНДАГАР': 'КАНДАГАРСКИЙ',\n",
              " 'ДЖЕЛАЛАБАД': 'ДЖЕЛАЛАБАДСКИЙ',\n",
              " 'АФРИКА': 'АФРИКАНСКИЙ',\n",
              " 'ТОГОЛЕЗСКАЯ РЕСПУБЛИКА': 'ТОГОЛЕЗСКИЙ',\n",
              " 'АЛЖИР': 'АЛЖИРСКИЙ',\n",
              " 'ОПТОВАЯ ТОРГОВЛЯ': 'ТОРГОВАТЬ ОПТОМ',\n",
              " 'ТОРГОВАТЬ ОПТОМ': 'ОПТОВАЯ ТОРГОВЛЯ',\n",
              " 'КОНГО': 'КОНГОЛЕЗСКИЙ',\n",
              " 'ДЕМОКРАТИЧЕСКАЯ РЕСПУБЛИКА СУДАН': 'СУДАНСКИЙ',\n",
              " 'РУАНДИЙСКАЯ РЕСПУБЛИКА': 'РУАНДИЙСКИЙ',\n",
              " 'РЕСПУБЛИКА УГАНДА': 'УГАНДИЙСКИЙ',\n",
              " 'РЕСПУБЛИКА КАМЕРУН': 'КАМЕРУНСКИЙ',\n",
              " 'НАМИБИЯ': 'НАМИБИЙСКИЙ',\n",
              " 'РЕЮНЬОН': 'РЕЮНЬОНСКИЙ',\n",
              " 'СВАЗИЛЕНД': 'СВАЗИЛЕНДСКИЙ',\n",
              " 'БАГАМЫ': 'БАГАМСКИЙ',\n",
              " 'НАРОДНАЯ РЕСПУБЛИКА БАНГЛАДЕШ': 'БАНГЛАДЕШСКИЙ',\n",
              " 'БЕНГАЛИ': 'БЕНГАЛЬСКИЙ',\n",
              " 'БАХРЕЙН': 'БАХРЕЙНСКИЙ',\n",
              " 'КОРОЛЕВСТВО БЕЛЬГИЯ': 'БЕЛЬГИЙСКИЙ',\n",
              " 'БЕЛЬГИЙСКАЯ СТОЛИЦА': 'БРЮССЕЛЬСКИЙ',\n",
              " 'БРАБАНТ': 'БРАБАНТСКИЙ',\n",
              " 'ЛЬЕЖ': 'ЛЬЕЖСКИЙ',\n",
              " 'ГЕНТ': 'ГЕНТСКИЙ',\n",
              " 'АНТВЕРПЕН': 'АНТВЕРПЕНСКИЙ',\n",
              " 'БЕНИН': 'БЕНИНСКИЙ',\n",
              " 'БИРМА': 'БИРМАНСКИЙ',\n",
              " 'РЕСПУБЛИКА БОЛГАРИЯ': 'БОЛГАРСКИЙ',\n",
              " 'СОФИЯ': 'СОФИЙСКИЙ',\n",
              " 'ПЛЕВЕН': 'ПЛЕВЕНСКИЙ',\n",
              " 'ПЛОВДИВ': 'ПЛОВДИВСКИЙ',\n",
              " 'ВАРНА': 'ВАРНЕНСКИЙ',\n",
              " 'РЕСПУБЛИКА БОЛИВИЯ': 'БОЛИВИЙСКИЙ',\n",
              " 'БОТСВАНА': 'БОТСВАНСКИЙ',\n",
              " 'ФЕДЕРАТИВНАЯ РЕСПУБЛИКА БРАЗИЛИЯ': 'БРАЗИЛЬСКИЙ',\n",
              " 'АМАЗОНКА': 'АМАЗОНСКИЙ',\n",
              " 'РЕСПУБЛИКА БУРУНДИ': 'БУРУНДИЙСКИЙ',\n",
              " 'БУТАН': 'БУТАНОВЫЙ',\n",
              " 'СОЕДИНЕННОЕ КОРОЛЕВСТВО ВЕЛИКОБРИТАНИИ И СЕВЕРНОЙ ИРЛАНДИИ': 'АНГЛИЙСКИЙ',\n",
              " 'ЛОНДОН': 'ЛОНДОНСКИЙ',\n",
              " 'АНГЛИЯ': 'АНГЛИЙСКИЙ',\n",
              " 'КАМБРИЯ': 'ВАЛЛИЙСКИЙ',\n",
              " 'ШОТЛАНДИЯ': 'ШОТЛАНДСКИЙ',\n",
              " 'ИПСУИЧ': 'ИПСВИЧСКИЙ',\n",
              " 'ОКСФОРД': 'ОКСФОРДСКИЙ',\n",
              " 'ШЕФФИЛД': 'ШЕФФИЛДСКИЙ',\n",
              " 'КЕМБРИДЖ': 'КЕМБРИДЖСКИЙ',\n",
              " 'БИРМИНГЕМ': 'БИРМИНГЕМСКИЙ',\n",
              " 'НОТТИНГЕМ': 'НОТТИНГЕМСКИЙ',\n",
              " 'ДУВР': 'ДУВРСКИЙ',\n",
              " 'ПЛИМУТ': 'ПЛИМУТСКИЙ',\n",
              " 'АБЕРДИН': 'АБЕРДИНСКИЙ',\n",
              " 'КАРДИФФ': 'КАРДИФФСКИЙ',\n",
              " 'НЬЮКАСЛ': 'НЬЮКАСЛСКИЙ',\n",
              " 'БРИСТОЛЬ': 'БРИСТОЛЬСКИЙ',\n",
              " 'МИДЛСБРО': 'МИДДЛСБРО',\n",
              " 'ПОРТСМУТ': 'ПОРТСМУТСКИЙ',\n",
              " 'ЭДИНБУРГ': 'ЭДИНБУРГСКИЙ',\n",
              " 'ЛИВЕРПУЛЬ': 'ЛИВЕРПУЛЬСКИЙ',\n",
              " 'МАНЧЕСТЕР': 'МАНЧЕСТЕРСКИЙ',\n",
              " 'САУТГЕМПТОН': 'САУТГЕМПТОНСКИЙ',\n",
              " 'АССОРТИМЕНТ ТОВАРОВ': 'АССОРТИМЕНТНЫЙ',\n",
              " 'РЕСПУБЛИКА ВЕНГРИЯ': 'ВЕНГЕРСКИЙ',\n",
              " 'БУДАПЕШТ': 'БУДАПЕШТСКИЙ',\n",
              " 'БАЛАТОН': 'БАЛАТОНСКИЙ',\n",
              " 'РЕСПУБЛИКА ВЕНЕСУЭЛА': 'ВЕНЕСУЭЛЬСКИЙ',\n",
              " 'ВЕНЕСУЭЛЬСКАЯ СТОЛИЦА': 'КАРАКАССКИЙ',\n",
              " 'СРВ': 'ВЬЕТНАМСКИЙ',\n",
              " 'ВЬЕТНАМСКАЯ СТОЛИЦА': 'ХАНОЙСКИЙ',\n",
              " 'ХОШИМИН': 'САЙГОНСКИЙ',\n",
              " 'ГАБОНСКАЯ РЕСПУБЛИКА': 'ГАБОНСКИЙ',\n",
              " 'ГАВАЙИ': 'ГАВАЙСКИЙ',\n",
              " 'РЕСПУБЛИКА ГАИТИ': 'ГАИТЯНСКИЙ',\n",
              " 'БРИТАНСКАЯ ГВИАНА': 'ГАЙАНСКИЙ',\n",
              " 'РЕСПУБЛИКА ГАМБИЯ': 'ГАМБИЙСКИЙ',\n",
              " 'ГВАТЕМАЛА': 'ГВАТЕМАЛЬСКИЙ',\n",
              " 'ГВИНЕЙСКАЯ РЕСПУБЛИКА': 'ГВИНЕЙСКИЙ',\n",
              " 'ПРЕДПРИЯТИЕ АПТЕЧНОЙ СЕТИ': 'АПТЕЧНЫЙ',\n",
              " 'ФРГ': 'ФРГОВСКИЙ',\n",
              " 'НЕМЕЦКАЯ СТОЛИЦА': 'БЕРЛИНСКИЙ',\n",
              " 'СААР': 'СААРСКИЙ',\n",
              " 'ГЕССЕН': 'ГЕССЕНСКИЙ',\n",
              " 'БАВАРИЯ': 'БАВАРСКИЙ',\n",
              " 'УЛЬМ': 'УЛЬМСКИЙ',\n",
              " 'КЕЛЬН': 'КЕЛЬНСКИЙ',\n",
              " 'МЮНХЕН': 'МЮНХЕНСКИЙ',\n",
              " 'ШВЕРИН': 'ШВЕРИНСКИЙ',\n",
              " 'ЭРФУРТ': 'ЭРФУРТСКИЙ',\n",
              " 'ДРЕЗДЕН': 'ДРЕЗДЕНСКИЙ',\n",
              " 'ЛЕЙПЦИГ': 'ЛЕЙПЦИГСКИЙ',\n",
              " 'МЮНСТЕР': 'МЮНСТЕРСКИЙ',\n",
              " 'ПОТСДАМ': 'ПОТСДАМСКИЙ',\n",
              " 'ВЮРЦБУРГ': 'ВЮРЦБУРГСКИЙ',\n",
              " 'ГАННОВЕР': 'ГАННОВЕРСКИЙ',\n",
              " 'ДОРТМУНД': 'ДОРТМУНДСКИЙ',\n",
              " 'ДУЙСБУРГ': 'ДУЙСБУРГСКИЙ',\n",
              " 'НЮРНБЕРГ': 'НЮРНБЕРГСКИЙ',\n",
              " 'ШТУТГАРТ': 'ШТУТГАРТСКИЙ',\n",
              " 'ГЕТТИНГЕН': 'ГЕТТИНГЕНСКИЙ',\n",
              " 'МАГДЕБУРГ': 'МАГДЕБУРГСКИЙ',\n",
              " 'ВУППЕРТАЛЬ': 'ВУППЕРТАЛЬСКИЙ',\n",
              " 'РЕГЕНСБУРГ': 'РЕГЕНСБУРГСКИЙ',\n",
              " 'БРАНДЕНБУРГ': 'БРАНДЕНБУРГСКИЙ',\n",
              " 'ДЮССЕЛЬДОРФ': 'ДЮССЕЛЬДОРФСКИЙ',\n",
              " 'ИНГОЛЬШТАДТ': 'ИНГОЛЬШТАДТСКИЙ',\n",
              " 'ЛЮБЕК': 'ЛЮБЕКСКИЙ',\n",
              " 'БРЕМЕН': 'БРЕМЕНСКИЙ',\n",
              " 'ВИСМАР': 'ВИСМАРСКИЙ',\n",
              " 'РОСТОК': 'РОСТОКСКИЙ',\n",
              " 'ГАМБУРГ': 'ГАМБУРГСКИЙ',\n",
              " 'СУДЕТЫ': 'СУДЕТСКИЙ',\n",
              " 'РЕСПУБЛИКА ГОНДУРАС': 'ГОНДУРАССКИЙ',\n",
              " 'ГРЕЧЕСКАЯ РЕСПУБЛИКА': 'ГРЕЧЕСКИЙ',\n",
              " 'СТОЛИЦА ГРЕЦИИ': 'АФИНСКИЙ',\n",
              " 'ФИВЫ': 'ФИВАНСКИЙ',\n",
              " 'КОРИНФ': 'КОРИНФСКИЙ',\n",
              " 'ПИРЕЙ': 'ПИРЕЙСКИЙ',\n",
              " 'САЛОНИКИ': 'САЛОНИКСКИЙ',\n",
              " 'КРИТ': 'КРИТСКИЙ',\n",
              " 'РОДОС': 'РОДОССКИЙ',\n",
              " 'ПЕЛОПОННЕС': 'ПЕЛОПОННЕССКИЙ',\n",
              " 'КОРОЛЕВСТВО ДАНИЯ': 'ДАТСКИЙ',\n",
              " 'КОПЕНГАГЕН': 'КОПЕНГАГЕНСКИЙ',\n",
              " 'ОЛЬБОРГ': 'ОЛЬБОРГСКИЙ',\n",
              " 'ГРЕНЛАНДИЯ': 'ГРЕНЛАНДСКИЙ',\n",
              " 'ЮТЛАНДИЯ': 'ЮТЛАНДСКИЙ',\n",
              " 'ДУНАЙ': 'ДУНАЙСКИЙ',\n",
              " 'ЕВРОПА': 'ЕВРОПЕЙСКИЙ',\n",
              " 'МОНАКО': 'МОНАКСКИЙ',\n",
              " 'АВСТРИЯ': 'АВСТРИЙСКИЙ',\n",
              " 'РЕСПУБЛИКА АЛБАНИЯ': 'АЛБАНСКИЙ',\n",
              " 'ПАПСКИЙ ПРЕСТОЛ': 'ВАТИКАНСКИЙ',\n",
              " 'РУМЫНИЯ': 'РУМЫНСКИЙ',\n",
              " 'СРЮ': 'ЮГОСЛАВСКИЙ',\n",
              " 'БОСНИЯ': 'БОСНИЙСКИЙ',\n",
              " 'СЕРБИЯ': 'СЕРБСКИЙ',\n",
              " 'РЕСПУБЛИКА МАКЕДОНИЯ': 'МАКЕДОНСКИЙ',\n",
              " 'РЕСПУБЛИКА СЛОВЕНИЯ': 'СЛОВЕНСКИЙ',\n",
              " 'РЕСПУБЛИКА ХОРВАТИЯ': 'ХОРВАТСКИЙ',\n",
              " 'МОНТЕНЕГРО': 'ЧЕРНОГОРСКИЙ',\n",
              " 'ЛЮКСЕМБУРГ': 'ЛЮКСЕМБУРГСКИЙ',\n",
              " 'ЛИХТЕНШТЕЙН': 'ЛИХТЕНШТЕЙНСКИЙ',\n",
              " 'ЕГИПЕТ': 'ЕГИПЕТСКИЙ',\n",
              " 'СТОЛИЦА ЕГИПТА': 'КАИРСКИЙ',\n",
              " 'АСУАН': 'АСУАНСКИЙ',\n",
              " 'ЛУКСОР': 'ЛУКСОРСКИЙ',\n",
              " 'ЕГИПЕТСКАЯ АЛЕКСАНДРИЯ': 'АЛЕКСАНДРИЙСКИЙ',\n",
              " 'НИЛ': 'НИЛЬСКИЙ',\n",
              " 'СУЭЦКИЙ КАНАЛ': 'СУЭЦКИЙ',\n",
              " 'КИНШАСА': 'КИНШАССКИЙ',\n",
              " 'РЕСПУБЛИКА ЗАМБИЯ': 'ЗАМБИЙСКИЙ',\n",
              " 'РЕСПУБЛИКА ЗИМБАБВЕ': 'ЗИМБАБВИЙСКИЙ',\n",
              " 'ЗИМБАБВИЙСКАЯ СТОЛИЦА': 'ХАРАРСКИЙ',\n",
              " 'ГОСУДАРСТВО ИЗРАИЛЬ': 'ИЗРАИЛЬСКИЙ',\n",
              " 'СТОЛИЦА ИЗРАИЛЯ': 'ТЕЛЬ-АВИВСКИЙ',\n",
              " 'ИВРИТСКИЙ ЯЗЫК': 'ИВРИТСКИЙ',\n",
              " 'НАБЛУС': 'НАБЛУССКИЙ',\n",
              " 'НАЗАРЕТ': 'НАЗАРЕТСКИЙ',\n",
              " 'ИЕРУСАЛИМ': 'ИЕРУСАЛИМСКИЙ',\n",
              " 'ЭЙЛАТ': 'ЭЙЛАТСКИЙ',\n",
              " 'ОСТ-ИНДИЯ': 'ИНДИЙСКИЙ',\n",
              " 'ГОРОД ДЕЛИ': 'ДЕЛИЙСКИЙ',\n",
              " 'ЯЗЫК ХИНДИ': 'ХИНДИЯЗЫЧНЫЙ',\n",
              " 'ЯЗЫК УРДУ': 'УРДУЯЗЫЧНЫЙ',\n",
              " 'ПЕНДЖАБ': 'ПЕНДЖАБСКИЙ',\n",
              " 'МУМБАЙ': 'БОМБЕЙСКИЙ',\n",
              " 'ЧЕННАИ': 'МАДРАССКИЙ',\n",
              " 'КАЛЬКУТТА': 'КАЛЬКУТТСКИЙ',\n",
              " 'ГАНГ': 'ГАНГСКИЙ',\n",
              " 'ИНДОНЕЗИЯ': 'ИНДОНЕЗИЙСКИЙ',\n",
              " 'ДЖАКАРТА': 'ДЖАКАРТСКИЙ',\n",
              " 'ОСТРОВ ЯВА': 'ЯВАНСКИЙ',\n",
              " 'КАЛИМАНТАН': 'КАЛИМАНТАНСКИЙ',\n",
              " 'ИОРДАНИЯ': 'ИОРДАНСКИЙ',\n",
              " 'АММАН': 'АММАНСКИЙ',\n",
              " 'РЕСПУБЛИКА ИРАК': 'ИРАКСКИЙ',\n",
              " 'БАГДАД': 'БАГДАДСКИЙ',\n",
              " 'МОСУЛ': 'МОСУЛЬСКИЙ',\n",
              " ...}"
            ]
          },
          "metadata": {},
          "execution_count": 189
        }
      ]
    },
    {
      "cell_type": "code",
      "metadata": {
        "id": "SxCwFW9RRelS"
      },
      "source": [
        "kluchi = list(q.keys())"
      ],
      "execution_count": null,
      "outputs": []
    },
    {
      "cell_type": "code",
      "metadata": {
        "colab": {
          "base_uri": "https://localhost:8080/"
        },
        "id": "Vb0IvGOERmh9",
        "outputId": "452e321d-0d12-4f09-9646-91635d77e8b8"
      },
      "source": [
        "for i in range(len(kluchi)):\n",
        "  "
      ],
      "execution_count": null,
      "outputs": [
        {
          "output_type": "execute_result",
          "data": {
            "text/plain": [
              "36781"
            ]
          },
          "metadata": {},
          "execution_count": 191
        }
      ]
    },
    {
      "cell_type": "code",
      "metadata": {
        "id": "bn5Bej5TR5-7"
      },
      "source": [
        "with open('synonymsBP.txt', 'w') as f:\n",
        "      for i in range(len(kluchi)):\n",
        "        f.write(kluchi[i] + ' > ' + q[kluchi[i]])\n",
        "        f.write('\\n')"
      ],
      "execution_count": null,
      "outputs": []
    }
  ]
}